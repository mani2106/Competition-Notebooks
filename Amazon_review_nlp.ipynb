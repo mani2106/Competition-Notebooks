{
  "nbformat": 4,
  "nbformat_minor": 0,
  "metadata": {
    "colab": {
      "name": "Amazon review nlp.ipynb",
      "version": "0.3.2",
      "provenance": [],
      "collapsed_sections": [],
      "toc_visible": true,
      "include_colab_link": true
    },
    "kernelspec": {
      "name": "python3",
      "display_name": "Python 3"
    },
    "accelerator": "GPU"
  },
  "cells": [
    {
      "cell_type": "markdown",
      "metadata": {
        "id": "view-in-github",
        "colab_type": "text"
      },
      "source": [
        "<a href=\"https://colab.research.google.com/github/mani2106/Competition-Notebooks/blob/master/Amazon_review_nlp.ipynb\" target=\"_parent\"><img src=\"https://colab.research.google.com/assets/colab-badge.svg\" alt=\"Open In Colab\"/></a>"
      ]
    },
    {
      "cell_type": "markdown",
      "metadata": {
        "id": "7oCqRE46keT7",
        "colab_type": "text"
      },
      "source": [
        "### Extract zip file"
      ]
    },
    {
      "cell_type": "code",
      "metadata": {
        "id": "FIXSx7fOkjHe",
        "colab_type": "code",
        "outputId": "d6d1e017-9222-4671-9264-618e8e8b9129",
        "colab": {
          "base_uri": "https://localhost:8080/",
          "height": 98
        }
      },
      "source": [
        "!unzip Dataset.zip"
      ],
      "execution_count": 1,
      "outputs": [
        {
          "output_type": "stream",
          "text": [
            "Archive:  Dataset.zip\n",
            "   creating: Dataset/\n",
            "  inflating: Dataset/Sample_Submission.csv  \n",
            "  inflating: Dataset/test.csv        \n",
            "  inflating: Dataset/train.csv       \n"
          ],
          "name": "stdout"
        }
      ]
    },
    {
      "cell_type": "markdown",
      "metadata": {
        "id": "ghCN9pBYlZAv",
        "colab_type": "text"
      },
      "source": [
        "### Import Required Libraries"
      ]
    },
    {
      "cell_type": "code",
      "metadata": {
        "id": "npvbOItClVI_",
        "colab_type": "code",
        "colab": {}
      },
      "source": [
        "from fastai.text import *"
      ],
      "execution_count": 0,
      "outputs": []
    },
    {
      "cell_type": "markdown",
      "metadata": {
        "id": "jlZy5tr9lFOB",
        "colab_type": "text"
      },
      "source": [
        "### Set constants"
      ]
    },
    {
      "cell_type": "code",
      "metadata": {
        "id": "hE0exAyFlLFt",
        "colab_type": "code",
        "colab": {}
      },
      "source": [
        "DATA_PATH = Path(\"./Dataset\")"
      ],
      "execution_count": 0,
      "outputs": []
    },
    {
      "cell_type": "markdown",
      "metadata": {
        "id": "9qjHGZLulTyl",
        "colab_type": "text"
      },
      "source": [
        "### View Data"
      ]
    },
    {
      "cell_type": "code",
      "metadata": {
        "id": "IB8PiBiMl4FA",
        "colab_type": "code",
        "outputId": "54a0906d-45db-464a-db3e-6a1b25ac563b",
        "colab": {
          "base_uri": "https://localhost:8080/",
          "height": 191
        }
      },
      "source": [
        "train = pd.read_csv(DATA_PATH/'train.csv')\n",
        "train.head()"
      ],
      "execution_count": 3,
      "outputs": [
        {
          "output_type": "execute_result",
          "data": {
            "text/html": [
              "<div>\n",
              "<style scoped>\n",
              "    .dataframe tbody tr th:only-of-type {\n",
              "        vertical-align: middle;\n",
              "    }\n",
              "\n",
              "    .dataframe tbody tr th {\n",
              "        vertical-align: top;\n",
              "    }\n",
              "\n",
              "    .dataframe thead th {\n",
              "        text-align: right;\n",
              "    }\n",
              "</style>\n",
              "<table border=\"1\" class=\"dataframe\">\n",
              "  <thead>\n",
              "    <tr style=\"text-align: right;\">\n",
              "      <th></th>\n",
              "      <th>Review Text</th>\n",
              "      <th>Review Title</th>\n",
              "      <th>topic</th>\n",
              "    </tr>\n",
              "  </thead>\n",
              "  <tbody>\n",
              "    <tr>\n",
              "      <th>0</th>\n",
              "      <td>Did nothing for me, didn't help lost even with...</td>\n",
              "      <td>Useless</td>\n",
              "      <td>Shipment and delivery</td>\n",
              "    </tr>\n",
              "    <tr>\n",
              "      <th>1</th>\n",
              "      <td>Did nothing for me, didn't help lost even with...</td>\n",
              "      <td>Useless</td>\n",
              "      <td>Not Effective</td>\n",
              "    </tr>\n",
              "    <tr>\n",
              "      <th>2</th>\n",
              "      <td>I have bought these bags and  immediately open...</td>\n",
              "      <td>TRASH!!! Do not buy these bags it’s a waist of...</td>\n",
              "      <td>Customer Service</td>\n",
              "    </tr>\n",
              "    <tr>\n",
              "      <th>3</th>\n",
              "      <td>Gave me an allergic reaction on my face :(</td>\n",
              "      <td>Do not recommend</td>\n",
              "      <td>Allergic</td>\n",
              "    </tr>\n",
              "    <tr>\n",
              "      <th>4</th>\n",
              "      <td>These don't compare to the name brand wipes. F...</td>\n",
              "      <td>Can't tackle big messes</td>\n",
              "      <td>Texture</td>\n",
              "    </tr>\n",
              "  </tbody>\n",
              "</table>\n",
              "</div>"
            ],
            "text/plain": [
              "                                         Review Text  ...                  topic\n",
              "0  Did nothing for me, didn't help lost even with...  ...  Shipment and delivery\n",
              "1  Did nothing for me, didn't help lost even with...  ...          Not Effective\n",
              "2  I have bought these bags and  immediately open...  ...       Customer Service\n",
              "3         Gave me an allergic reaction on my face :(  ...               Allergic\n",
              "4  These don't compare to the name brand wipes. F...  ...                Texture\n",
              "\n",
              "[5 rows x 3 columns]"
            ]
          },
          "metadata": {
            "tags": []
          },
          "execution_count": 3
        }
      ]
    },
    {
      "cell_type": "code",
      "metadata": {
        "id": "2-lhcb0VXyOk",
        "colab_type": "code",
        "colab": {}
      },
      "source": [
        "# def get_all_labels_for_observation(observation):\n",
        "#     return train[train['Review Text'] == observation].topic.values\n",
        "\n",
        "# def add_label_list_column(row):\n",
        "#     row['topics'] = get_all_labels_for_observation(row['Review Text'])\n",
        "#     return row\n",
        "\n",
        "# labeled_df = train.apply(add_label_list_column, axis=1)"
      ],
      "execution_count": 0,
      "outputs": []
    },
    {
      "cell_type": "markdown",
      "metadata": {
        "id": "lgdUq9fumAh2",
        "colab_type": "text"
      },
      "source": [
        "### Get DataBunch from csv"
      ]
    },
    {
      "cell_type": "code",
      "metadata": {
        "id": "rvQS-KYUbamd",
        "colab_type": "code",
        "colab": {}
      },
      "source": [
        "test = pd.read_csv(DATA_PATH/\"test.csv\")"
      ],
      "execution_count": 0,
      "outputs": []
    },
    {
      "cell_type": "code",
      "metadata": {
        "id": "acNMrnhxmL-n",
        "colab_type": "code",
        "colab": {}
      },
      "source": [
        "data_lm = TextLMDataBunch.from_csv(DATA_PATH, 'train.csv',\n",
        "                                   text_cols=[0,1], label_cols=[2],\n",
        "                                   test='test.csv')\n",
        "\n",
        "data_clas = TextClasDataBunch.from_csv(DATA_PATH, 'train.csv',\n",
        "                                       text_cols = [0,1], label_cols=[2],\n",
        "                                       vocab=data_lm.train_ds.vocab,\n",
        "                                       bs=32, test='test.csv')"
      ],
      "execution_count": 0,
      "outputs": []
    },
    {
      "cell_type": "markdown",
      "metadata": {
        "id": "JhKmL1uQm18G",
        "colab_type": "text"
      },
      "source": [
        "### Save embeddings"
      ]
    },
    {
      "cell_type": "code",
      "metadata": {
        "id": "FRfjOL4Fmm7c",
        "colab_type": "code",
        "colab": {}
      },
      "source": [
        "data_lm.save('data_lm_export.pkl')\n",
        "data_clas.save('data_clas_export.pkl')"
      ],
      "execution_count": 0,
      "outputs": []
    },
    {
      "cell_type": "code",
      "metadata": {
        "id": "9PdMPlSqS3fJ",
        "colab_type": "code",
        "outputId": "42055b81-594e-457a-d402-253ca53ddc80",
        "colab": {
          "base_uri": "https://localhost:8080/",
          "height": 288
        }
      },
      "source": [
        "data_clas.show_batch()"
      ],
      "execution_count": 7,
      "outputs": [
        {
          "output_type": "display_data",
          "data": {
            "text/html": [
              "<table border=\"1\" class=\"dataframe\">\n",
              "  <thead>\n",
              "    <tr style=\"text-align: right;\">\n",
              "      <th>text</th>\n",
              "      <th>target</th>\n",
              "    </tr>\n",
              "  </thead>\n",
              "  <tbody>\n",
              "    <tr>\n",
              "      <td>xxbos xxrep 6 ! xxunk mg of sodium per 1 scoop serving , with a recommended 1 - 2 xxunk possibly multiple times a day . \" xxmaj use between major meals and before and after exercise \" xxup xxunk . xxmaj do the xxunk ! xxmaj if you plan to use this to add some protein once a day and all else is pretty clean , then have at</td>\n",
              "      <td>Shipment and delivery</td>\n",
              "    </tr>\n",
              "    <tr>\n",
              "      <td>xxbos i ’ve actually seen this at a drugstore , which is nice as i am not “ required ” to purchase online only , or have to drive out of my way to another store somewhere to get it . i have not seen other “ vision / lutein blue ” supplements out there , but then again , i have not been store - hopping with the intent</td>\n",
              "      <td>Quality/Contaminated</td>\n",
              "    </tr>\n",
              "    <tr>\n",
              "      <td>xxbos i ’ve actually seen this at a drugstore , which is nice as i am not “ required ” to purchase online only , or have to drive out of my way to another store somewhere to get it . i have not seen other “ vision / lutein blue ” supplements out there , but then again , i have not been store - hopping with the intent</td>\n",
              "      <td>Not Effective</td>\n",
              "    </tr>\n",
              "    <tr>\n",
              "      <td>xxbos i 've been doing searching about sugar than fructose and solids and what i found out that i do n't know nutrition for the warning and other ingredients and all this stuff it came out to dextrose this girl 's is corn syrup same thing that messes with your pancreas to release more insulin in insulin production it goes everywhere and this stuff the optimal change the xxunk nutritious</td>\n",
              "      <td>Ingredients</td>\n",
              "    </tr>\n",
              "    <tr>\n",
              "      <td>xxbos i 've been buying the 660 g container size of this product from my local organic foods store for approximately 3 months now . xxmaj at that store , the best price i 've been able to get is $ 25.99 per container , and that was on sale . xxmaj currently , it is selling at the store for $ 32.99 per container vs. a suggested retail price</td>\n",
              "      <td>Color and texture</td>\n",
              "    </tr>\n",
              "  </tbody>\n",
              "</table>"
            ],
            "text/plain": [
              "<IPython.core.display.HTML object>"
            ]
          },
          "metadata": {
            "tags": []
          }
        }
      ]
    },
    {
      "cell_type": "markdown",
      "metadata": {
        "id": "0sAcM-j-m5Ho",
        "colab_type": "text"
      },
      "source": [
        "### Create Language Model"
      ]
    },
    {
      "cell_type": "code",
      "metadata": {
        "id": "Vx7fsYYBXMiy",
        "colab_type": "code",
        "colab": {}
      },
      "source": [
        "from fastai.metrics import top_k_accuracy, accuracy_thresh"
      ],
      "execution_count": 0,
      "outputs": []
    },
    {
      "cell_type": "code",
      "metadata": {
        "id": "SI1etkmxM4Mc",
        "colab_type": "code",
        "colab": {}
      },
      "source": [
        "?accuracy_thresh"
      ],
      "execution_count": 0,
      "outputs": []
    },
    {
      "cell_type": "code",
      "metadata": {
        "id": "3FAAwdz3m8Hx",
        "colab_type": "code",
        "colab": {}
      },
      "source": [
        "learn = language_model_learner(data_lm, AWD_LSTM, drop_mult=0.5, metrics=[top_k_accuracy])\n",
        "learn.freeze()"
      ],
      "execution_count": 0,
      "outputs": []
    },
    {
      "cell_type": "code",
      "metadata": {
        "id": "jHGGg6IoqGMn",
        "colab_type": "code",
        "outputId": "e10ae661-e857-4391-d32a-a4ba59caf759",
        "colab": {
          "base_uri": "https://localhost:8080/",
          "height": 332
        }
      },
      "source": [
        "learn.lr_find()\n",
        "learn.recorder.plot(suggestion=True)\n",
        "min_grad_lr = learn.recorder.min_grad_lr\n",
        "# min_grad_lr"
      ],
      "execution_count": 10,
      "outputs": [
        {
          "output_type": "display_data",
          "data": {
            "text/html": [
              ""
            ],
            "text/plain": [
              "<IPython.core.display.HTML object>"
            ]
          },
          "metadata": {
            "tags": []
          }
        },
        {
          "output_type": "stream",
          "text": [
            "LR Finder is complete, type {learner_name}.recorder.plot() to see the graph.\n",
            "Min numerical gradient: 4.79E-02\n",
            "Min loss divided by 10: 3.63E-02\n"
          ],
          "name": "stdout"
        },
        {
          "output_type": "display_data",
          "data": {
            "image/png": "[encoded data removed]",
            "text/plain": [
              "<Figure size 432x288 with 1 Axes>"
            ]
          },
          "metadata": {
            "tags": []
          }
        }
      ]
    },
    {
      "cell_type": "code",
      "metadata": {
        "id": "iSvIqXAXsDFA",
        "colab_type": "code",
        "outputId": "6676ec64-b11e-41d3-ab03-90615ac81305",
        "colab": {
          "base_uri": "https://localhost:8080/",
          "height": 191
        }
      },
      "source": [
        "learn.fit_one_cycle(5, min_grad_lr)"
      ],
      "execution_count": 12,
      "outputs": [
        {
          "output_type": "display_data",
          "data": {
            "text/html": [
              "<table border=\"1\" class=\"dataframe\">\n",
              "  <thead>\n",
              "    <tr style=\"text-align: left;\">\n",
              "      <th>epoch</th>\n",
              "      <th>train_loss</th>\n",
              "      <th>valid_loss</th>\n",
              "      <th>top_k_accuracy</th>\n",
              "      <th>time</th>\n",
              "    </tr>\n",
              "  </thead>\n",
              "  <tbody>\n",
              "    <tr>\n",
              "      <td>0</td>\n",
              "      <td>4.259892</td>\n",
              "      <td>3.721629</td>\n",
              "      <td>0.535134</td>\n",
              "      <td>00:14</td>\n",
              "    </tr>\n",
              "    <tr>\n",
              "      <td>1</td>\n",
              "      <td>3.801045</td>\n",
              "      <td>3.600229</td>\n",
              "      <td>0.554654</td>\n",
              "      <td>00:14</td>\n",
              "    </tr>\n",
              "    <tr>\n",
              "      <td>2</td>\n",
              "      <td>3.423052</td>\n",
              "      <td>3.414590</td>\n",
              "      <td>0.584063</td>\n",
              "      <td>00:14</td>\n",
              "    </tr>\n",
              "    <tr>\n",
              "      <td>3</td>\n",
              "      <td>3.063045</td>\n",
              "      <td>3.245727</td>\n",
              "      <td>0.609643</td>\n",
              "      <td>00:15</td>\n",
              "    </tr>\n",
              "    <tr>\n",
              "      <td>4</td>\n",
              "      <td>2.791260</td>\n",
              "      <td>3.208514</td>\n",
              "      <td>0.614866</td>\n",
              "      <td>00:15</td>\n",
              "    </tr>\n",
              "  </tbody>\n",
              "</table>"
            ],
            "text/plain": [
              "<IPython.core.display.HTML object>"
            ]
          },
          "metadata": {
            "tags": []
          }
        }
      ]
    },
    {
      "cell_type": "code",
      "metadata": {
        "id": "eYfdpIG341jh",
        "colab_type": "code",
        "colab": {}
      },
      "source": [
        "learn.save('stage-2')\n",
        "# learn.load('stage-1');"
      ],
      "execution_count": 0,
      "outputs": []
    },
    {
      "cell_type": "code",
      "metadata": {
        "id": "ToYNxKcRIqQz",
        "colab_type": "code",
        "colab": {}
      },
      "source": [
        "learn.freeze_to(-4)\n",
        "# learn.unfr"
      ],
      "execution_count": 0,
      "outputs": []
    },
    {
      "cell_type": "code",
      "metadata": {
        "id": "t6uQac3gImdO",
        "colab_type": "code",
        "colab": {
          "base_uri": "https://localhost:8080/",
          "height": 191
        },
        "outputId": "a67af6d5-b264-4e62-ebf3-8626a8aedc28"
      },
      "source": [
        "learn.fit_one_cycle(5, slice(5e-3/3., 5e-3))"
      ],
      "execution_count": 15,
      "outputs": [
        {
          "output_type": "display_data",
          "data": {
            "text/html": [
              "<table border=\"1\" class=\"dataframe\">\n",
              "  <thead>\n",
              "    <tr style=\"text-align: left;\">\n",
              "      <th>epoch</th>\n",
              "      <th>train_loss</th>\n",
              "      <th>valid_loss</th>\n",
              "      <th>top_k_accuracy</th>\n",
              "      <th>time</th>\n",
              "    </tr>\n",
              "  </thead>\n",
              "  <tbody>\n",
              "    <tr>\n",
              "      <td>0</td>\n",
              "      <td>2.626318</td>\n",
              "      <td>3.065588</td>\n",
              "      <td>0.639275</td>\n",
              "      <td>00:19</td>\n",
              "    </tr>\n",
              "    <tr>\n",
              "      <td>1</td>\n",
              "      <td>2.443352</td>\n",
              "      <td>2.848713</td>\n",
              "      <td>0.672232</td>\n",
              "      <td>00:20</td>\n",
              "    </tr>\n",
              "    <tr>\n",
              "      <td>2</td>\n",
              "      <td>2.024430</td>\n",
              "      <td>2.653127</td>\n",
              "      <td>0.704409</td>\n",
              "      <td>00:20</td>\n",
              "    </tr>\n",
              "    <tr>\n",
              "      <td>3</td>\n",
              "      <td>1.619855</td>\n",
              "      <td>2.546727</td>\n",
              "      <td>0.722444</td>\n",
              "      <td>00:19</td>\n",
              "    </tr>\n",
              "    <tr>\n",
              "      <td>4</td>\n",
              "      <td>1.341837</td>\n",
              "      <td>2.541235</td>\n",
              "      <td>0.725815</td>\n",
              "      <td>00:19</td>\n",
              "    </tr>\n",
              "  </tbody>\n",
              "</table>"
            ],
            "text/plain": [
              "<IPython.core.display.HTML object>"
            ]
          },
          "metadata": {
            "tags": []
          }
        }
      ]
    },
    {
      "cell_type": "code",
      "metadata": {
        "id": "eXPjh4A19a8D",
        "colab_type": "code",
        "colab": {}
      },
      "source": [
        "learn.save_encoder('ft_enc')"
      ],
      "execution_count": 0,
      "outputs": []
    },
    {
      "cell_type": "markdown",
      "metadata": {
        "id": "4cI3kCKs9gRs",
        "colab_type": "text"
      },
      "source": [
        "### Build Classifier"
      ]
    },
    {
      "cell_type": "code",
      "metadata": {
        "id": "BC0IJItQ9icg",
        "colab_type": "code",
        "colab": {}
      },
      "source": [
        "classifier = text_classifier_learner(data_clas, AWD_LSTM, drop_mult=0.3, metrics=[top_k_accuracy])\n",
        "classifier.load_encoder('ft_enc')"
      ],
      "execution_count": 0,
      "outputs": []
    },
    {
      "cell_type": "code",
      "metadata": {
        "id": "CVptX22P9ok2",
        "colab_type": "code",
        "outputId": "f2d0867f-0bae-4e66-9527-5e8696dbe173",
        "colab": {
          "base_uri": "https://localhost:8080/",
          "height": 332
        }
      },
      "source": [
        "classifier.lr_find(start_lr=1e-11)\n",
        "classifier.recorder.plot(suggestion=True)\n",
        "min_grad_lr = classifier.recorder.min_grad_lr"
      ],
      "execution_count": 20,
      "outputs": [
        {
          "output_type": "display_data",
          "data": {
            "text/html": [
              ""
            ],
            "text/plain": [
              "<IPython.core.display.HTML object>"
            ]
          },
          "metadata": {
            "tags": []
          }
        },
        {
          "output_type": "stream",
          "text": [
            "LR Finder is complete, type {learner_name}.recorder.plot() to see the graph.\n",
            "Min numerical gradient: 4.37E-09\n",
            "Min loss divided by 10: 7.59E-04\n"
          ],
          "name": "stdout"
        },
        {
          "output_type": "display_data",
          "data": {
            "image/png": "[encoded data removed]",
            "text/plain": [
              "<Figure size 432x288 with 1 Axes>"
            ]
          },
          "metadata": {
            "tags": []
          }
        }
      ]
    },
    {
      "cell_type": "code",
      "metadata": {
        "id": "cA_PU8ws90Sk",
        "colab_type": "code",
        "outputId": "1a19b086-5c09-45ac-f116-1f0b846eebd3",
        "colab": {
          "base_uri": "https://localhost:8080/",
          "height": 133
        }
      },
      "source": [
        "classifier.fit_one_cycle(3, min_grad_lr)"
      ],
      "execution_count": 21,
      "outputs": [
        {
          "output_type": "display_data",
          "data": {
            "text/html": [
              "<table border=\"1\" class=\"dataframe\">\n",
              "  <thead>\n",
              "    <tr style=\"text-align: left;\">\n",
              "      <th>epoch</th>\n",
              "      <th>train_loss</th>\n",
              "      <th>valid_loss</th>\n",
              "      <th>top_k_accuracy</th>\n",
              "      <th>time</th>\n",
              "    </tr>\n",
              "  </thead>\n",
              "  <tbody>\n",
              "    <tr>\n",
              "      <td>0</td>\n",
              "      <td>0.919725</td>\n",
              "      <td>0.730192</td>\n",
              "      <td>0.990772</td>\n",
              "      <td>00:09</td>\n",
              "    </tr>\n",
              "    <tr>\n",
              "      <td>1</td>\n",
              "      <td>0.884011</td>\n",
              "      <td>0.732649</td>\n",
              "      <td>0.993289</td>\n",
              "      <td>00:09</td>\n",
              "    </tr>\n",
              "    <tr>\n",
              "      <td>2</td>\n",
              "      <td>0.882442</td>\n",
              "      <td>0.725429</td>\n",
              "      <td>0.990772</td>\n",
              "      <td>00:12</td>\n",
              "    </tr>\n",
              "  </tbody>\n",
              "</table>"
            ],
            "text/plain": [
              "<IPython.core.display.HTML object>"
            ]
          },
          "metadata": {
            "tags": []
          }
        }
      ]
    },
    {
      "cell_type": "code",
      "metadata": {
        "id": "nJ3rNC89ZC2L",
        "colab_type": "code",
        "colab": {}
      },
      "source": [
        "classifier.save('top_n_99')\n",
        "classifier.export('top_n_99.pkl')\n",
        "# classifier.load('top_n_87');"
      ],
      "execution_count": 0,
      "outputs": []
    },
    {
      "cell_type": "code",
      "metadata": {
        "id": "Ia3NBCU8-dst",
        "colab_type": "code",
        "colab": {}
      },
      "source": [
        "# classifier.freeze_to()\n",
        "# classifier.freeze()\n",
        "# classifier.freeze_to(-3)"
      ],
      "execution_count": 0,
      "outputs": []
    },
    {
      "cell_type": "code",
      "metadata": {
        "id": "kEiNIM64i4cm",
        "colab_type": "code",
        "colab": {
          "base_uri": "https://localhost:8080/",
          "height": 191
        },
        "outputId": "ad71caff-5dec-465e-c9a0-0e30ecb4b870"
      },
      "source": [
        "# classifier.fit_one_cycle(5, slice(5e-3/2., 5e-3))"
      ],
      "execution_count": 49,
      "outputs": [
        {
          "output_type": "display_data",
          "data": {
            "text/html": [
              "<table border=\"1\" class=\"dataframe\">\n",
              "  <thead>\n",
              "    <tr style=\"text-align: left;\">\n",
              "      <th>epoch</th>\n",
              "      <th>train_loss</th>\n",
              "      <th>valid_loss</th>\n",
              "      <th>top_k_accuracy</th>\n",
              "      <th>time</th>\n",
              "    </tr>\n",
              "  </thead>\n",
              "  <tbody>\n",
              "    <tr>\n",
              "      <td>0</td>\n",
              "      <td>1.514046</td>\n",
              "      <td>1.732296</td>\n",
              "      <td>0.881711</td>\n",
              "      <td>00:21</td>\n",
              "    </tr>\n",
              "    <tr>\n",
              "      <td>1</td>\n",
              "      <td>1.437093</td>\n",
              "      <td>1.451513</td>\n",
              "      <td>0.925336</td>\n",
              "      <td>00:18</td>\n",
              "    </tr>\n",
              "    <tr>\n",
              "      <td>2</td>\n",
              "      <td>1.083397</td>\n",
              "      <td>1.423325</td>\n",
              "      <td>0.937081</td>\n",
              "      <td>00:19</td>\n",
              "    </tr>\n",
              "    <tr>\n",
              "      <td>3</td>\n",
              "      <td>0.845939</td>\n",
              "      <td>1.416796</td>\n",
              "      <td>0.950503</td>\n",
              "      <td>00:17</td>\n",
              "    </tr>\n",
              "    <tr>\n",
              "      <td>4</td>\n",
              "      <td>0.645538</td>\n",
              "      <td>1.468561</td>\n",
              "      <td>0.951342</td>\n",
              "      <td>00:17</td>\n",
              "    </tr>\n",
              "  </tbody>\n",
              "</table>"
            ],
            "text/plain": [
              "<IPython.core.display.HTML object>"
            ]
          },
          "metadata": {
            "tags": []
          }
        }
      ]
    },
    {
      "cell_type": "code",
      "metadata": {
        "id": "8ZFwTVwWW5wc",
        "colab_type": "code",
        "colab": {}
      },
      "source": [
        "# classifier.save('top_n_95')\n",
        "# classifier.export('top_n_95.pkl')"
      ],
      "execution_count": 0,
      "outputs": []
    },
    {
      "cell_type": "code",
      "metadata": {
        "id": "U7xIWXQERb2v",
        "colab_type": "code",
        "outputId": "ac84129c-f020-484b-d458-f5265bccae71",
        "colab": {
          "base_uri": "https://localhost:8080/",
          "height": 191
        }
      },
      "source": [
        "ss = pd.read_csv(DATA_PATH/'Sample_Submission.csv')\n",
        "ss.head()"
      ],
      "execution_count": 23,
      "outputs": [
        {
          "output_type": "execute_result",
          "data": {
            "text/html": [
              "<div>\n",
              "<style scoped>\n",
              "    .dataframe tbody tr th:only-of-type {\n",
              "        vertical-align: middle;\n",
              "    }\n",
              "\n",
              "    .dataframe tbody tr th {\n",
              "        vertical-align: top;\n",
              "    }\n",
              "\n",
              "    .dataframe thead th {\n",
              "        text-align: right;\n",
              "    }\n",
              "</style>\n",
              "<table border=\"1\" class=\"dataframe\">\n",
              "  <thead>\n",
              "    <tr style=\"text-align: right;\">\n",
              "      <th></th>\n",
              "      <th>Review Text</th>\n",
              "      <th>Review Title</th>\n",
              "      <th>topic</th>\n",
              "    </tr>\n",
              "  </thead>\n",
              "  <tbody>\n",
              "    <tr>\n",
              "      <th>0</th>\n",
              "      <td>Not terrible, but not good. Tastes burnt and a...</td>\n",
              "      <td>Not my cup o’ joe</td>\n",
              "      <td>Burnt/ Over -roast</td>\n",
              "    </tr>\n",
              "    <tr>\n",
              "      <th>1</th>\n",
              "      <td>I am so disappointed, it has no flavor, doesn'...</td>\n",
              "      <td>I am so disappointed, it has no flavor</td>\n",
              "      <td>Bad Flavor/Taste</td>\n",
              "    </tr>\n",
              "    <tr>\n",
              "      <th>2</th>\n",
              "      <td>I recently gave up my daily 6 cups of coffee, ...</td>\n",
              "      <td>Flavor was dissapointing</td>\n",
              "      <td>Bitter</td>\n",
              "    </tr>\n",
              "    <tr>\n",
              "      <th>3</th>\n",
              "      <td>Meh. I've adored Peruvian coffee for 20 years....</td>\n",
              "      <td>Smooth but majorly bland. Won't repurchase.</td>\n",
              "      <td>Bad Flavor/Taste</td>\n",
              "    </tr>\n",
              "    <tr>\n",
              "      <th>4</th>\n",
              "      <td>Meh. I've adored Peruvian coffee for 20 years....</td>\n",
              "      <td>Smooth but majorly bland. Won't repurchase.</td>\n",
              "      <td>Cheap</td>\n",
              "    </tr>\n",
              "  </tbody>\n",
              "</table>\n",
              "</div>"
            ],
            "text/plain": [
              "                                         Review Text  ...               topic\n",
              "0  Not terrible, but not good. Tastes burnt and a...  ...  Burnt/ Over -roast\n",
              "1  I am so disappointed, it has no flavor, doesn'...  ...    Bad Flavor/Taste\n",
              "2  I recently gave up my daily 6 cups of coffee, ...  ...              Bitter\n",
              "3  Meh. I've adored Peruvian coffee for 20 years....  ...    Bad Flavor/Taste\n",
              "4  Meh. I've adored Peruvian coffee for 20 years....  ...               Cheap\n",
              "\n",
              "[5 rows x 3 columns]"
            ]
          },
          "metadata": {
            "tags": []
          },
          "execution_count": 23
        }
      ]
    },
    {
      "cell_type": "code",
      "metadata": {
        "id": "joXmQFWnaZsA",
        "colab_type": "code",
        "colab": {}
      },
      "source": [
        "clas_preds = classifier.get_preds(data_clas.test_ds, with_loss=False)\n",
        "# learn\n",
        "# learn.predict?"
      ],
      "execution_count": 0,
      "outputs": []
    },
    {
      "cell_type": "code",
      "metadata": {
        "id": "SiI1nYdYWqth",
        "colab_type": "code",
        "colab": {}
      },
      "source": [
        "y_pred = clas_preds[0].numpy() #.astype(int) \n",
        "y_true = clas_preds[1].numpy()"
      ],
      "execution_count": 0,
      "outputs": []
    },
    {
      "cell_type": "code",
      "metadata": {
        "id": "yFI6w4AnXWih",
        "colab_type": "code",
        "colab": {
          "base_uri": "https://localhost:8080/",
          "height": 293
        },
        "outputId": "9cfb1b6d-7e32-4ffa-e882-4ea1185faba5"
      },
      "source": [
        "y_pred"
      ],
      "execution_count": 33,
      "outputs": [
        {
          "output_type": "execute_result",
          "data": {
            "text/plain": [
              "array([[6.742468e-02, 1.658981e-02, 2.145550e-02, 2.087281e-04, ..., 4.169017e-02, 1.931577e-03, 1.889432e-02,\n",
              "        1.412982e-03],\n",
              "       [6.974443e-02, 5.485334e-03, 7.251654e-03, 1.637963e-04, ..., 3.834512e-02, 8.217791e-04, 7.387114e-02,\n",
              "        1.417418e-03],\n",
              "       [5.541558e-01, 2.277242e-02, 6.993747e-03, 1.727039e-04, ..., 2.019352e-02, 2.660832e-03, 1.960196e-02,\n",
              "        1.365140e-03],\n",
              "       [3.350814e-01, 1.089581e-02, 5.536528e-03, 7.881325e-05, ..., 6.724305e-02, 3.309262e-03, 2.003234e-02,\n",
              "        6.154226e-04],\n",
              "       ...,\n",
              "       [1.488785e-02, 9.297016e-01, 2.836876e-03, 6.436646e-04, ..., 6.041799e-03, 1.435373e-03, 9.731487e-04,\n",
              "        2.857491e-03],\n",
              "       [4.429468e-06, 6.134563e-05, 2.047805e-06, 5.042589e-07, ..., 1.428038e-06, 6.231230e-08, 1.183284e-09,\n",
              "        3.642903e-06],\n",
              "       [4.429468e-06, 6.134563e-05, 2.047805e-06, 5.042589e-07, ..., 1.428038e-06, 6.231230e-08, 1.183284e-09,\n",
              "        3.642903e-06],\n",
              "       [3.023769e-05, 2.126300e-01, 2.638639e-04, 4.538781e-06, ..., 6.348601e-04, 1.335046e-04, 1.780478e-06,\n",
              "        1.450363e-04]], dtype=float32)"
            ]
          },
          "metadata": {
            "tags": []
          },
          "execution_count": 33
        }
      ]
    },
    {
      "cell_type": "code",
      "metadata": {
        "id": "hcnl7zJIXa8q",
        "colab_type": "code",
        "colab": {
          "base_uri": "https://localhost:8080/",
          "height": 33
        },
        "outputId": "5f459b50-a00c-4129-f9ea-4a33d3023e23"
      },
      "source": [
        "y_true"
      ],
      "execution_count": 34,
      "outputs": [
        {
          "output_type": "execute_result",
          "data": {
            "text/plain": [
              "array([10, 11,  0, 10, ...,  1, 14, 14, 14])"
            ]
          },
          "metadata": {
            "tags": []
          },
          "execution_count": 34
        }
      ]
    },
    {
      "cell_type": "code",
      "metadata": {
        "id": "nvUMXUiMB_W4",
        "colab_type": "code",
        "colab": {}
      },
      "source": [
        "interp = TextClassificationInterpretation.from_learner(learn)"
      ],
      "execution_count": 0,
      "outputs": []
    },
    {
      "cell_type": "code",
      "metadata": {
        "id": "1DATwaRADY_V",
        "colab_type": "code",
        "colab": {
          "base_uri": "https://localhost:8080/",
          "height": 66
        },
        "outputId": "1494641b-ff89-40f3-8cd3-93edb3d56c34"
      },
      "source": [
        "interp.show_intrinsic_attention('I used to be loyal customer to this brand. I have been using these gloves for 5 years. However, I just opened a new box today, and the smell is really really really bad (smell looks like you burn a plastic bag). Never paid attention before since the smell might not be so strong enough to notice. I am so disappointed and scared since I used it to cut fruits for my little one everyday. Now use it to wash dishes.')"
      ],
      "execution_count": 205,
      "outputs": [
        {
          "output_type": "display_data",
          "data": {
            "text/html": [
              "<span style=\"font-family: monospace;\"><span title=\"0.028\" style=\"background-color: rgba(178, 13, 38, 0.5);\">xxbos</span> <span title=\"0.028\" style=\"background-color: rgba(178, 13, 38, 0.5);\">i</span> <span title=\"0.084\" style=\"background-color: rgba(206, 39, 38, 0.5);\">used</span> <span title=\"0.062\" style=\"background-color: rgba(194, 28, 38, 0.5);\">to</span> <span title=\"0.191\" style=\"background-color: rgba(241, 104, 64, 0.5);\">be</span> <span title=\"0.583\" style=\"background-color: rgba(222, 241, 147, 0.5);\">loyal</span> <span title=\"0.296\" style=\"background-color: rgba(252, 170, 95, 0.5);\">customer</span> <span title=\"0.032\" style=\"background-color: rgba(180, 15, 38, 0.5);\">to</span> <span title=\"0.030\" style=\"background-color: rgba(178, 13, 38, 0.5);\">this</span> <span title=\"0.026\" style=\"background-color: rgba(176, 11, 38, 0.5);\">brand</span> <span title=\"0.005\" style=\"background-color: rgba(166, 1, 38, 0.5);\">.</span> <span title=\"0.007\" style=\"background-color: rgba(166, 1, 38, 0.5);\">i</span> <span title=\"0.020\" style=\"background-color: rgba(174, 9, 38, 0.5);\">have</span> <span title=\"0.035\" style=\"background-color: rgba(180, 15, 38, 0.5);\">been</span> <span title=\"0.049\" style=\"background-color: rgba(188, 22, 38, 0.5);\">using</span> <span title=\"0.043\" style=\"background-color: rgba(184, 18, 38, 0.5);\">these</span> <span title=\"0.071\" style=\"background-color: rgba(200, 33, 38, 0.5);\">xxunk</span> <span title=\"0.022\" style=\"background-color: rgba(174, 9, 38, 0.5);\">for</span> <span title=\"0.050\" style=\"background-color: rgba(188, 22, 38, 0.5);\">5</span> <span title=\"0.098\" style=\"background-color: rgba(214, 47, 38, 0.5);\">years</span> <span title=\"0.018\" style=\"background-color: rgba(172, 7, 38, 0.5);\">.</span> <span title=\"0.014\" style=\"background-color: rgba(170, 5, 38, 0.5);\">xxmaj</span> <span title=\"0.077\" style=\"background-color: rgba(202, 35, 38, 0.5);\">however</span> <span title=\"0.040\" style=\"background-color: rgba(184, 18, 38, 0.5);\">,</span> <span title=\"0.076\" style=\"background-color: rgba(202, 35, 38, 0.5);\">i</span> <span title=\"0.175\" style=\"background-color: rgba(236, 92, 59, 0.5);\">just</span> <span title=\"0.448\" style=\"background-color: rgba(254, 238, 163, 0.5);\">opened</span> <span title=\"0.093\" style=\"background-color: rgba(210, 43, 38, 0.5);\">a</span> <span title=\"0.225\" style=\"background-color: rgba(246, 124, 74, 0.5);\">new</span> <span title=\"0.259\" style=\"background-color: rgba(249, 147, 84, 0.5);\">box</span> <span title=\"0.135\" style=\"background-color: rgba(224, 68, 48, 0.5);\">today</span> <span title=\"0.052\" style=\"background-color: rgba(190, 24, 38, 0.5);\">,</span> <span title=\"0.092\" style=\"background-color: rgba(210, 43, 38, 0.5);\">and</span> <span title=\"0.167\" style=\"background-color: rgba(233, 87, 57, 0.5);\">the</span> <span title=\"0.720\" style=\"background-color: rgba(152, 210, 104, 0.5);\">smell</span> <span title=\"0.454\" style=\"background-color: rgba(254, 241, 167, 0.5);\">is</span> <span title=\"0.795\" style=\"background-color: rgba(104, 190, 99, 0.5);\">really</span> <span title=\"0.933\" style=\"background-color: rgba(17, 136, 71, 0.5);\">really</span> <span title=\"1.000\" style=\"background-color: rgba(0, 104, 55, 0.5);\">really</span> <span title=\"0.561\" style=\"background-color: rgba(231, 245, 159, 0.5);\">bad</span> <span title=\"0.240\" style=\"background-color: rgba(247, 134, 78, 0.5);\">(</span> <span title=\"0.182\" style=\"background-color: rgba(238, 97, 61, 0.5);\">smell</span> <span title=\"0.177\" style=\"background-color: rgba(237, 94, 60, 0.5);\">looks</span> <span title=\"0.138\" style=\"background-color: rgba(225, 70, 49, 0.5);\">like</span> <span title=\"0.260\" style=\"background-color: rgba(249, 147, 84, 0.5);\">you</span> <span title=\"0.660\" style=\"background-color: rgba(187, 226, 119, 0.5);\">burn</span> <span title=\"0.150\" style=\"background-color: rgba(229, 77, 52, 0.5);\">a</span> <span title=\"0.310\" style=\"background-color: rgba(253, 178, 101, 0.5);\">plastic</span> <span title=\"0.072\" style=\"background-color: rgba(200, 33, 38, 0.5);\">bag</span> <span title=\"0.028\" style=\"background-color: rgba(178, 13, 38, 0.5);\">)</span> <span title=\"0.028\" style=\"background-color: rgba(178, 13, 38, 0.5);\">.</span> <span title=\"0.039\" style=\"background-color: rgba(182, 16, 38, 0.5);\">xxmaj</span> <span title=\"0.253\" style=\"background-color: rgba(248, 142, 82, 0.5);\">never</span> <span title=\"0.431\" style=\"background-color: rgba(254, 233, 155, 0.5);\">paid</span> <span title=\"0.110\" style=\"background-color: rgba(217, 53, 41, 0.5);\">attention</span> <span title=\"0.060\" style=\"background-color: rgba(194, 28, 38, 0.5);\">before</span> <span title=\"0.060\" style=\"background-color: rgba(194, 28, 38, 0.5);\">since</span> <span title=\"0.050\" style=\"background-color: rgba(188, 22, 38, 0.5);\">the</span> <span title=\"0.165\" style=\"background-color: rgba(233, 87, 57, 0.5);\">smell</span> <span title=\"0.172\" style=\"background-color: rgba(236, 92, 59, 0.5);\">might</span> <span title=\"0.054\" style=\"background-color: rgba(190, 24, 38, 0.5);\">not</span> <span title=\"0.068\" style=\"background-color: rgba(198, 32, 38, 0.5);\">be</span> <span title=\"0.060\" style=\"background-color: rgba(194, 28, 38, 0.5);\">so</span> <span title=\"0.100\" style=\"background-color: rgba(214, 47, 38, 0.5);\">strong</span> <span title=\"0.083\" style=\"background-color: rgba(206, 39, 38, 0.5);\">enough</span> <span title=\"0.031\" style=\"background-color: rgba(180, 15, 38, 0.5);\">to</span> <span title=\"0.116\" style=\"background-color: rgba(218, 56, 42, 0.5);\">notice</span> <span title=\"0.017\" style=\"background-color: rgba(172, 7, 38, 0.5);\">.</span> <span title=\"0.014\" style=\"background-color: rgba(170, 5, 38, 0.5);\">i</span> <span title=\"0.032\" style=\"background-color: rgba(180, 15, 38, 0.5);\">am</span> <span title=\"0.046\" style=\"background-color: rgba(186, 20, 38, 0.5);\">so</span> <span title=\"0.082\" style=\"background-color: rgba(204, 37, 38, 0.5);\">disappointed</span> <span title=\"0.053\" style=\"background-color: rgba(190, 24, 38, 0.5);\">and</span> <span title=\"0.220\" style=\"background-color: rgba(245, 121, 72, 0.5);\">scared</span> <span title=\"0.061\" style=\"background-color: rgba(194, 28, 38, 0.5);\">since</span> <span title=\"0.028\" style=\"background-color: rgba(178, 13, 38, 0.5);\">i</span> <span title=\"0.094\" style=\"background-color: rgba(212, 45, 38, 0.5);\">used</span> <span title=\"0.084\" style=\"background-color: rgba(206, 39, 38, 0.5);\">it</span> <span title=\"0.119\" style=\"background-color: rgba(220, 58, 43, 0.5);\">to</span> <span title=\"0.500\" style=\"background-color: rgba(254, 254, 189, 0.5);\">cut</span> <span title=\"0.365\" style=\"background-color: rgba(253, 206, 124, 0.5);\">fruits</span> <span title=\"0.022\" style=\"background-color: rgba(174, 9, 38, 0.5);\">for</span> <span title=\"0.013\" style=\"background-color: rgba(170, 5, 38, 0.5);\">my</span> <span title=\"0.022\" style=\"background-color: rgba(174, 9, 38, 0.5);\">little</span> <span title=\"0.015\" style=\"background-color: rgba(170, 5, 38, 0.5);\">one</span> <span title=\"0.031\" style=\"background-color: rgba(178, 13, 38, 0.5);\">everyday</span> <span title=\"0.007\" style=\"background-color: rgba(166, 1, 38, 0.5);\">.</span> <span title=\"0.008\" style=\"background-color: rgba(166, 1, 38, 0.5);\">xxmaj</span> <span title=\"0.027\" style=\"background-color: rgba(176, 11, 38, 0.5);\">now</span> <span title=\"0.030\" style=\"background-color: rgba(178, 13, 38, 0.5);\">use</span> <span title=\"0.028\" style=\"background-color: rgba(178, 13, 38, 0.5);\">it</span> <span title=\"0.053\" style=\"background-color: rgba(190, 24, 38, 0.5);\">to</span> <span title=\"0.146\" style=\"background-color: rgba(228, 75, 51, 0.5);\">wash</span> <span title=\"0.246\" style=\"background-color: rgba(247, 137, 79, 0.5);\">dishes</span> <span title=\"0.148\" style=\"background-color: rgba(228, 75, 51, 0.5);\">.</span></span>"
            ],
            "text/plain": [
              "<IPython.core.display.HTML object>"
            ]
          },
          "metadata": {
            "tags": []
          }
        }
      ]
    },
    {
      "cell_type": "code",
      "metadata": {
        "id": "dNwLWhgnDsLS",
        "colab_type": "code",
        "colab": {
          "base_uri": "https://localhost:8080/",
          "height": 158
        },
        "outputId": "b3eb637b-d51e-4498-e1a4-fe9a53b0e6de"
      },
      "source": [
        "interp.most_confused(min)"
      ],
      "execution_count": 206,
      "outputs": [
        {
          "output_type": "error",
          "ename": "TypeError",
          "evalue": "ignored",
          "traceback": [
            "\u001b[0;31m---------------------------------------------------------------------------\u001b[0m",
            "\u001b[0;31mTypeError\u001b[0m                                 Traceback (most recent call last)",
            "\u001b[0;32m<ipython-input-206-42a0b3b0d5a7>\u001b[0m in \u001b[0;36m<module>\u001b[0;34m()\u001b[0m\n\u001b[0;32m----> 1\u001b[0;31m \u001b[0minterp\u001b[0m\u001b[0;34m.\u001b[0m\u001b[0mmost_confused\u001b[0m\u001b[0;34m(\u001b[0m\u001b[0mn\u001b[0m\u001b[0;34m=\u001b[0m\u001b[0;36m10\u001b[0m\u001b[0;34m)\u001b[0m\u001b[0;34m\u001b[0m\u001b[0;34m\u001b[0m\u001b[0m\n\u001b[0m",
            "\u001b[0;31mTypeError\u001b[0m: most_confused() got an unexpected keyword argument 'n'"
          ]
        }
      ]
    },
    {
      "cell_type": "code",
      "metadata": {
        "id": "dJuSBu4uDxig",
        "colab_type": "code",
        "colab": {
          "base_uri": "https://localhost:8080/",
          "height": 53
        },
        "outputId": "f65bc722-3328-46e2-8101-ae670f56e860"
      },
      "source": [
        "test.iloc[5, 0]"
      ],
      "execution_count": 183,
      "outputs": [
        {
          "output_type": "execute_result",
          "data": {
            "text/plain": [
              "'I used to be loyal customer to this brand. I have been using these gloves for 5 years. However, I just opened a new box today, and the smell is really really really bad (smell looks like you burn a plastic bag). Never paid attention before since the smell might not be so strong enough to notice. I am so disappointed and scared since I used it to cut fruits for my little one everyday. Now use it to wash dishes.'"
            ]
          },
          "metadata": {
            "tags": []
          },
          "execution_count": 183
        }
      ]
    },
    {
      "cell_type": "code",
      "metadata": {
        "id": "bE_S7ThaiEo_",
        "colab_type": "code",
        "colab": {}
      },
      "source": [
        ""
      ],
      "execution_count": 0,
      "outputs": []
    }
  ]
}