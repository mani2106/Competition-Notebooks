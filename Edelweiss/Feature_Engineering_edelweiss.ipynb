{
  "nbformat": 4,
  "nbformat_minor": 0,
  "metadata": {
    "colab": {
      "name": "Feature Engineering edelweiss.ipynb",
      "version": "0.3.2",
      "provenance": [],
      "collapsed_sections": [],
      "toc_visible": true,
      "include_colab_link": true
    },
    "kernelspec": {
      "name": "python3",
      "display_name": "Python 3"
    }
  },
  "cells": [
    {
      "cell_type": "markdown",
      "metadata": {
        "id": "view-in-github",
        "colab_type": "text"
      },
      "source": [
        "<a href=\"https://colab.research.google.com/github/mani2106/Competition-Notebooks/blob/master/Feature_Engineering_edelweiss.ipynb\" target=\"_parent\"><img src=\"https://colab.research.google.com/assets/colab-badge.svg\" alt=\"Open In Colab\"/></a>"
      ]
    },
    {
      "metadata": {
        "id": "vXh06_PHanb0",
        "colab_type": "text"
      },
      "cell_type": "markdown",
      "source": [
        "# Connecting and importing data"
      ]
    },
    {
      "metadata": {
        "id": "DbAuBSaGZhLz",
        "colab_type": "code",
        "outputId": "a31ac9de-18cb-4bfe-c136-675581503e3f",
        "colab": {
          "base_uri": "https://localhost:8080/",
          "height": 122
        }
      },
      "cell_type": "code",
      "source": [
        "from google.colab import drive\n",
        "drive.mount('/content/gdrive')"
      ],
      "execution_count": 0,
      "outputs": [
        {
          "output_type": "stream",
          "text": [
            "Go to this URL in a browser: https://accounts.google.com/o/oauth2/auth?client_id=947318989803-6bn6qk8qdgf4n4g3pfee6491hc0brc4i.apps.googleusercontent.com&redirect_uri=urn%3Aietf%3Awg%3Aoauth%3A2.0%3Aoob&scope=email%20https%3A%2F%2Fwww.googleapis.com%2Fauth%2Fdocs.test%20https%3A%2F%2Fwww.googleapis.com%2Fauth%2Fdrive%20https%3A%2F%2Fwww.googleapis.com%2Fauth%2Fdrive.photos.readonly%20https%3A%2F%2Fwww.googleapis.com%2Fauth%2Fpeopleapi.readonly&response_type=code\n",
            "\n",
            "Enter your authorization code:\n",
            "··········\n",
            "Mounted at /content/gdrive\n"
          ],
          "name": "stdout"
        }
      ]
    },
    {
      "metadata": {
        "id": "DOS6fzozRh6P",
        "colab_type": "code",
        "colab": {}
      },
      "cell_type": "code",
      "source": [
        "!pip install -U graphviz pandas featuretools"
      ],
      "execution_count": 0,
      "outputs": []
    },
    {
      "metadata": {
        "id": "NRy_49dPZmbO",
        "colab_type": "code",
        "colab": {}
      },
      "cell_type": "code",
      "source": [
        "import pandas as pd\n",
        "import os\n",
        "import featuretools as ft\n",
        "\n",
        "path = 'gdrive/My Drive/Comp data'"
      ],
      "execution_count": 0,
      "outputs": []
    },
    {
      "metadata": {
        "id": "9x6iMX2kmtCY",
        "colab_type": "code",
        "colab": {}
      },
      "cell_type": "code",
      "source": [
        "cust_data =  pd.read_excel(os.path.join(path, 'Customers_31JAN2019.xlsx'))\n",
        "em_data = pd.read_excel(os.path.join(path, 'RF_Final_Data.xlsx'))\n",
        "lm_data = pd.read_excel(os.path.join(path, 'LMS_31JAN2019.xlsx'))"
      ],
      "execution_count": 0,
      "outputs": []
    },
    {
      "metadata": {
        "id": "DFB8opp-tGGr",
        "colab_type": "code",
        "colab": {}
      },
      "cell_type": "code",
      "source": [
        "lm_data.dropna(subset = ['CUSTOMERID'], inplace=True)\n",
        "lm_data.CUSTOMERID = lm_data.CUSTOMERID.astype('int64')"
      ],
      "execution_count": 0,
      "outputs": []
    },
    {
      "metadata": {
        "id": "OC2I7BRzzTNB",
        "colab_type": "text"
      },
      "cell_type": "markdown",
      "source": [
        "# Setting variable types to faciliate feature engineering"
      ]
    },
    {
      "metadata": {
        "id": "Bd7mML3FLwgT",
        "colab_type": "text"
      },
      "cell_type": "markdown",
      "source": [
        "Mostly object __(string)__ type data can be inferred as categorical in featuretools."
      ]
    },
    {
      "metadata": {
        "id": "G6P7FKo8WZ1D",
        "colab_type": "code",
        "colab": {}
      },
      "cell_type": "code",
      "source": [
        "# get lists of string columns across the datasets\n",
        "cust_cat = cust_data.select_dtypes(include = ['object']).columns.tolist()\n",
        "\n",
        "cust_cat.extend(['BRANCH_PINCODE', 'CUST_CONSTTYPE_ID', 'CUST_CATEGORYID'])\n",
        "\n",
        "lm_cat = lm_data.select_dtypes(include = ['object']).columns.tolist()\n",
        "lm_cat.extend(['MOB', 'SCHEMEID'])\n",
        "\n",
        "em_cat = list(\n",
        "    set(em_data.select_dtypes(include = ['object']).columns.tolist())\n",
        "    -\n",
        "    # excluding this because we may generate text features from this \n",
        "    # eg. count of words\n",
        "    set(['Preprocessed_EmailBody', 'Preprocessed_Subject',\n",
        "         'Preprocessed_EmailBody_proc'])\n",
        "             )"
      ],
      "execution_count": 0,
      "outputs": []
    },
    {
      "metadata": {
        "id": "VLCc0F2EaBFX",
        "colab_type": "code",
        "colab": {}
      },
      "cell_type": "code",
      "source": [
        "# This column will be inderred as datetime index so need to make it a category\n",
        "em_cat.remove('Date')"
      ],
      "execution_count": 0,
      "outputs": []
    },
    {
      "metadata": {
        "id": "gPMi7PrvXut8",
        "colab_type": "code",
        "colab": {}
      },
      "cell_type": "code",
      "source": [
        "# Construct dictionaries with column names as keys and desired data type as values\n",
        "\n",
        "cust_vtypes = dict.fromkeys(cust_cat, ft.variable_types.Categorical)\n",
        "\n",
        "lm_vtypes = dict.fromkeys(lm_cat, ft.variable_types.Categorical)\n",
        "\n",
        "em_vtypes = dict.fromkeys(em_cat, ft.variable_types.Categorical)\n",
        "\n",
        "em_text_types = dict.fromkeys(['Preprocessed_EmailBody', 'Preprocessed_Subject',\n",
        "         'Preprocessed_EmailBody_proc'], ft.variable_types.Text)\n",
        "\n",
        "em_vtypes.update(em_text_types)"
      ],
      "execution_count": 0,
      "outputs": []
    },
    {
      "metadata": {
        "id": "_oK1vQefD6vZ",
        "colab_type": "text"
      },
      "cell_type": "markdown",
      "source": [
        "# Creating Entity Sets for feature engineering"
      ]
    },
    {
      "metadata": {
        "id": "fcPd3T9j3F2J",
        "colab_type": "code",
        "colab": {}
      },
      "cell_type": "code",
      "source": [
        "es = ft.EntitySet()\n",
        "\n",
        "# dropping empty columns inferred from our EDA\n",
        "es = es.entity_from_dataframe(entity_id=\"customers\",\n",
        "                              dataframe=cust_data.drop(['PROFESSION',\n",
        "                                                       'OCCUPATION'], axis=1),\n",
        "                              index=\"CUSTOMERID\",\n",
        "                              variable_types=cust_vtypes)"
      ],
      "execution_count": 0,
      "outputs": []
    },
    {
      "metadata": {
        "id": "ePR_hmkB5R-u",
        "colab_type": "code",
        "colab": {}
      },
      "cell_type": "code",
      "source": [
        "es = es.entity_from_dataframe(entity_id=\"Email\",\n",
        "                              dataframe=em_data.drop(['Unnamed: 0'],axis=1),\n",
        "                              index='TicketId',\n",
        "                              time_index = \"Date\",\n",
        "                              variable_types=em_vtypes)"
      ],
      "execution_count": 0,
      "outputs": []
    },
    {
      "metadata": {
        "id": "UoWnZSIPVIzl",
        "colab_type": "code",
        "colab": {}
      },
      "cell_type": "code",
      "source": [
        "es = es.entity_from_dataframe(entity_id=\"Loan transaction data\",\n",
        "                              dataframe=lm_data,\n",
        "                              index='t_id',\n",
        "                              make_index=True,\n",
        "                              time_index = 'AUTHORIZATIONDATE',\n",
        "                              variable_types=lm_vtypes)"
      ],
      "execution_count": 0,
      "outputs": []
    },
    {
      "metadata": {
        "id": "SwG4DFUkQLhL",
        "colab_type": "code",
        "colab": {}
      },
      "cell_type": "code",
      "source": [
        "cols_to_seperate = ['CITY','PRODUCT','NPA_IN_LAST_MONTH','NPA_IN_CURRENT_MONTH',\n",
        "                    'MOB','SCHEMEID','CUSTOMERID']\n",
        "\n",
        "es = es.normalize_entity(base_entity_id=\"Loan transaction data\",\n",
        "                         new_entity_id=\"Loan data\",\n",
        "                         index=\"AGREEMENTID\",make_time_index= True,\n",
        "                         additional_variables=cols_to_seperate)"
      ],
      "execution_count": 0,
      "outputs": []
    },
    {
      "metadata": {
        "id": "G5--PddBSE9X",
        "colab_type": "code",
        "outputId": "1aabcf47-d952-45f8-ba28-1995ddca814f",
        "colab": {
          "base_uri": "https://localhost:8080/",
          "height": 153
        }
      },
      "cell_type": "code",
      "source": [
        "es"
      ],
      "execution_count": 0,
      "outputs": [
        {
          "output_type": "execute_result",
          "data": {
            "text/plain": [
              "Entityset: None\n",
              "  Entities:\n",
              "    customers [Rows: 10000, Columns: 13]\n",
              "    Email [Rows: 7511, Columns: 14]\n",
              "    Loan transaction data [Rows: 623734, Columns: 32]\n",
              "    Loan data [Rows: 32895, Columns: 9]\n",
              "  Relationships:\n",
              "    Loan transaction data.AGREEMENTID -> Loan data.AGREEMENTID"
            ]
          },
          "metadata": {
            "tags": []
          },
          "execution_count": 11
        }
      ]
    },
    {
      "metadata": {
        "id": "RAUtPjGjEGAq",
        "colab_type": "text"
      },
      "cell_type": "markdown",
      "source": [
        "# Adding relationships between entities"
      ]
    },
    {
      "metadata": {
        "id": "c5eBCsqQhK98",
        "colab_type": "code",
        "colab": {}
      },
      "cell_type": "code",
      "source": [
        "rel1 = ft.Relationship(\n",
        "    es['customers']['CUSTOMERID'],es['Loan data']['CUSTOMERID']\n",
        ")\n",
        "rel2 = ft.Relationship(\n",
        "    es['customers']['CUSTOMERID'], es['Email']['Masked_CustomerID']\n",
        ")"
      ],
      "execution_count": 0,
      "outputs": []
    },
    {
      "metadata": {
        "id": "X6DlShF1l70l",
        "colab_type": "code",
        "colab": {}
      },
      "cell_type": "code",
      "source": [
        "es = es.add_relationships([rel1, rel2])"
      ],
      "execution_count": 0,
      "outputs": []
    },
    {
      "metadata": {
        "id": "Hb8rQ3SYmurc",
        "colab_type": "code",
        "outputId": "86dbd5ca-bfa8-4717-e1e8-284a6ad5e1e9",
        "colab": {
          "base_uri": "https://localhost:8080/",
          "height": 187
        }
      },
      "cell_type": "code",
      "source": [
        "es"
      ],
      "execution_count": 0,
      "outputs": [
        {
          "output_type": "execute_result",
          "data": {
            "text/plain": [
              "Entityset: None\n",
              "  Entities:\n",
              "    customers [Rows: 10000, Columns: 13]\n",
              "    Email [Rows: 7511, Columns: 14]\n",
              "    Loan transaction data [Rows: 623734, Columns: 32]\n",
              "    Loan data [Rows: 32895, Columns: 9]\n",
              "  Relationships:\n",
              "    Loan transaction data.AGREEMENTID -> Loan data.AGREEMENTID\n",
              "    Loan data.CUSTOMERID -> customers.CUSTOMERID\n",
              "    Email.Masked_CustomerID -> customers.CUSTOMERID"
            ]
          },
          "metadata": {
            "tags": []
          },
          "execution_count": 14
        }
      ]
    },
    {
      "metadata": {
        "id": "0YPf0vwmEQK1",
        "colab_type": "text"
      },
      "cell_type": "markdown",
      "source": [
        "# Relationship Plot"
      ]
    },
    {
      "metadata": {
        "id": "s12ZjaD6yngI",
        "colab_type": "code",
        "outputId": "5b3f74d5-2a75-41fe-c3c0-5e55243a68fc",
        "colab": {
          "base_uri": "https://localhost:8080/",
          "height": 1436
        }
      },
      "cell_type": "code",
      "source": [
        "es.plot(to_file = os.path.join(path, \"data.png\"))"
      ],
      "execution_count": 0,
      "outputs": [
        {
          "output_type": "execute_result",
          "data": {
            "text/plain": [
              "<graphviz.dot.Digraph at 0x7f4a71209160>"
            ],
            "image/svg+xml": "<?xml version=\"1.0\" encoding=\"UTF-8\" standalone=\"no\"?>\n<!DOCTYPE svg PUBLIC \"-//W3C//DTD SVG 1.1//EN\"\n \"http://www.w3.org/Graphics/SVG/1.1/DTD/svg11.dtd\">\n<!-- Generated by graphviz version 2.40.1 (20161225.0304)\n -->\n<!-- Title: %3 Pages: 1 -->\n<svg width=\"639pt\" height=\"1061pt\"\n viewBox=\"0.00 0.00 639.25 1061.00\" xmlns=\"http://www.w3.org/2000/svg\" xmlns:xlink=\"http://www.w3.org/1999/xlink\">\n<g id=\"graph0\" class=\"graph\" transform=\"scale(1 1) rotate(0) translate(4 1057)\">\n<title>%3</title>\n<polygon fill=\"#ffffff\" stroke=\"transparent\" points=\"-4,4 -4,-1057 635.25,-1057 635.25,4 -4,4\"/>\n<!-- customers -->\n<g id=\"node1\" class=\"node\">\n<title>customers</title>\n<polygon fill=\"none\" stroke=\"#000000\" points=\"194.75,-.5 194.75,-226.5 435.75,-226.5 435.75,-.5 194.75,-.5\"/>\n<text text-anchor=\"middle\" x=\"315.25\" y=\"-211.3\" font-family=\"Times,serif\" font-size=\"14.00\" fill=\"#000000\">customers</text>\n<polyline fill=\"none\" stroke=\"#000000\" points=\"194.75,-203.5 435.75,-203.5 \"/>\n<text text-anchor=\"start\" x=\"202.75\" y=\"-188.3\" font-family=\"Times,serif\" font-size=\"14.00\" fill=\"#000000\">CUSTOMERID : index</text>\n<text text-anchor=\"start\" x=\"202.75\" y=\"-173.3\" font-family=\"Times,serif\" font-size=\"14.00\" fill=\"#000000\">AGE : numeric</text>\n<text text-anchor=\"start\" x=\"202.75\" y=\"-158.3\" font-family=\"Times,serif\" font-size=\"14.00\" fill=\"#000000\">NO_OF_DEPENDENT : numeric</text>\n<text text-anchor=\"start\" x=\"202.75\" y=\"-143.3\" font-family=\"Times,serif\" font-size=\"14.00\" fill=\"#000000\">GROSS_INCOME : numeric</text>\n<text text-anchor=\"start\" x=\"202.75\" y=\"-128.3\" font-family=\"Times,serif\" font-size=\"14.00\" fill=\"#000000\">PRE_JOBYEARS : numeric</text>\n<text text-anchor=\"start\" x=\"202.75\" y=\"-113.3\" font-family=\"Times,serif\" font-size=\"14.00\" fill=\"#000000\">NETTAKEHOMEINCOME : numeric</text>\n<text text-anchor=\"start\" x=\"202.75\" y=\"-98.3\" font-family=\"Times,serif\" font-size=\"14.00\" fill=\"#000000\">SEX : categorical</text>\n<text text-anchor=\"start\" x=\"202.75\" y=\"-83.3\" font-family=\"Times,serif\" font-size=\"14.00\" fill=\"#000000\">MARITAL_STATUS : categorical</text>\n<text text-anchor=\"start\" x=\"202.75\" y=\"-68.3\" font-family=\"Times,serif\" font-size=\"14.00\" fill=\"#000000\">QUALIFICATION : categorical</text>\n<text text-anchor=\"start\" x=\"202.75\" y=\"-53.3\" font-family=\"Times,serif\" font-size=\"14.00\" fill=\"#000000\">POSITION : categorical</text>\n<text text-anchor=\"start\" x=\"202.75\" y=\"-38.3\" font-family=\"Times,serif\" font-size=\"14.00\" fill=\"#000000\">BRANCH_PINCODE : categorical</text>\n<text text-anchor=\"start\" x=\"202.75\" y=\"-23.3\" font-family=\"Times,serif\" font-size=\"14.00\" fill=\"#000000\">CUST_CONSTTYPE_ID : categorical</text>\n<text text-anchor=\"start\" x=\"202.75\" y=\"-8.3\" font-family=\"Times,serif\" font-size=\"14.00\" fill=\"#000000\">CUST_CATEGORYID : categorical</text>\n</g>\n<!-- Email -->\n<g id=\"node2\" class=\"node\">\n<title>Email</title>\n<polygon fill=\"none\" stroke=\"#000000\" points=\"51.25,-263.5 51.25,-504.5 281.25,-504.5 281.25,-263.5 51.25,-263.5\"/>\n<text text-anchor=\"middle\" x=\"166.25\" y=\"-489.3\" font-family=\"Times,serif\" font-size=\"14.00\" fill=\"#000000\">Email</text>\n<polyline fill=\"none\" stroke=\"#000000\" points=\"51.25,-481.5 281.25,-481.5 \"/>\n<text text-anchor=\"start\" x=\"59.25\" y=\"-466.3\" font-family=\"Times,serif\" font-size=\"14.00\" fill=\"#000000\">TicketId : index</text>\n<text text-anchor=\"start\" x=\"59.25\" y=\"-451.3\" font-family=\"Times,serif\" font-size=\"14.00\" fill=\"#000000\">Date : datetime_time_index</text>\n<text text-anchor=\"start\" x=\"59.25\" y=\"-436.3\" font-family=\"Times,serif\" font-size=\"14.00\" fill=\"#000000\">Masked_CustomerID : id</text>\n<text text-anchor=\"start\" x=\"59.25\" y=\"-421.3\" font-family=\"Times,serif\" font-size=\"14.00\" fill=\"#000000\">Masked_AgreementID : numeric</text>\n<text text-anchor=\"start\" x=\"59.25\" y=\"-406.3\" font-family=\"Times,serif\" font-size=\"14.00\" fill=\"#000000\">Sentiment_comp : numeric</text>\n<text text-anchor=\"start\" x=\"59.25\" y=\"-391.3\" font-family=\"Times,serif\" font-size=\"14.00\" fill=\"#000000\">Sentiment_pos : numeric</text>\n<text text-anchor=\"start\" x=\"59.25\" y=\"-376.3\" font-family=\"Times,serif\" font-size=\"14.00\" fill=\"#000000\">Sentiment_neg : numeric</text>\n<text text-anchor=\"start\" x=\"59.25\" y=\"-361.3\" font-family=\"Times,serif\" font-size=\"14.00\" fill=\"#000000\">Sentiment_neu : numeric</text>\n<text text-anchor=\"start\" x=\"59.25\" y=\"-346.3\" font-family=\"Times,serif\" font-size=\"14.00\" fill=\"#000000\">SubType : categorical</text>\n<text text-anchor=\"start\" x=\"59.25\" y=\"-331.3\" font-family=\"Times,serif\" font-size=\"14.00\" fill=\"#000000\">Status : categorical</text>\n<text text-anchor=\"start\" x=\"59.25\" y=\"-316.3\" font-family=\"Times,serif\" font-size=\"14.00\" fill=\"#000000\">Type : categorical</text>\n<text text-anchor=\"start\" x=\"59.25\" y=\"-301.3\" font-family=\"Times,serif\" font-size=\"14.00\" fill=\"#000000\">Preprocessed_EmailBody : text</text>\n<text text-anchor=\"start\" x=\"59.25\" y=\"-286.3\" font-family=\"Times,serif\" font-size=\"14.00\" fill=\"#000000\">Preprocessed_Subject : text</text>\n<text text-anchor=\"start\" x=\"59.25\" y=\"-271.3\" font-family=\"Times,serif\" font-size=\"14.00\" fill=\"#000000\">Preprocessed_EmailBody_proc : text</text>\n</g>\n<!-- Email&#45;&gt;customers -->\n<g id=\"edge3\" class=\"edge\">\n<title>Email&#45;&gt;customers</title>\n<path fill=\"none\" stroke=\"#000000\" d=\"M238,-263.3854C238,-263.3854 238,-236.5366 238,-236.5366\"/>\n<polygon fill=\"#000000\" stroke=\"#000000\" points=\"241.5001,-236.5366 238,-226.5366 234.5001,-236.5367 241.5001,-236.5366\"/>\n<text text-anchor=\"middle\" x=\"119\" y=\"-238.761\" font-family=\"Times,serif\" font-size=\"14.00\" fill=\"#000000\">CUSTOMERID &#45;&gt; Masked_CustomerID</text>\n</g>\n<!-- Loan transaction data -->\n<g id=\"node3\" class=\"node\">\n<title>Loan transaction data</title>\n<polygon fill=\"none\" stroke=\"#000000\" points=\"313.75,-541.5 313.75,-1052.5 616.75,-1052.5 616.75,-541.5 313.75,-541.5\"/>\n<text text-anchor=\"middle\" x=\"465.25\" y=\"-1037.3\" font-family=\"Times,serif\" font-size=\"14.00\" fill=\"#000000\">Loan transaction data</text>\n<polyline fill=\"none\" stroke=\"#000000\" points=\"313.75,-1029.5 616.75,-1029.5 \"/>\n<text text-anchor=\"start\" x=\"321.75\" y=\"-1014.3\" font-family=\"Times,serif\" font-size=\"14.00\" fill=\"#000000\">t_id : index</text>\n<text text-anchor=\"start\" x=\"321.75\" y=\"-999.3\" font-family=\"Times,serif\" font-size=\"14.00\" fill=\"#000000\">AGREEMENTID : id</text>\n<text text-anchor=\"start\" x=\"321.75\" y=\"-984.3\" font-family=\"Times,serif\" font-size=\"14.00\" fill=\"#000000\">LOAN_AMT : numeric</text>\n<text text-anchor=\"start\" x=\"321.75\" y=\"-969.3\" font-family=\"Times,serif\" font-size=\"14.00\" fill=\"#000000\">NET_DISBURSED_AMT : numeric</text>\n<text text-anchor=\"start\" x=\"321.75\" y=\"-954.3\" font-family=\"Times,serif\" font-size=\"14.00\" fill=\"#000000\">INTEREST_START_DATE : datetime</text>\n<text text-anchor=\"start\" x=\"321.75\" y=\"-939.3\" font-family=\"Times,serif\" font-size=\"14.00\" fill=\"#000000\">CURRENT_ROI : numeric</text>\n<text text-anchor=\"start\" x=\"321.75\" y=\"-924.3\" font-family=\"Times,serif\" font-size=\"14.00\" fill=\"#000000\">ORIGNAL_ROI : numeric</text>\n<text text-anchor=\"start\" x=\"321.75\" y=\"-909.3\" font-family=\"Times,serif\" font-size=\"14.00\" fill=\"#000000\">CURRENT_TENOR : numeric</text>\n<text text-anchor=\"start\" x=\"321.75\" y=\"-894.3\" font-family=\"Times,serif\" font-size=\"14.00\" fill=\"#000000\">ORIGNAL_TENOR : numeric</text>\n<text text-anchor=\"start\" x=\"321.75\" y=\"-879.3\" font-family=\"Times,serif\" font-size=\"14.00\" fill=\"#000000\">DUEDAY : numeric</text>\n<text text-anchor=\"start\" x=\"321.75\" y=\"-864.3\" font-family=\"Times,serif\" font-size=\"14.00\" fill=\"#000000\">AUTHORIZATIONDATE : datetime_time_index</text>\n<text text-anchor=\"start\" x=\"321.75\" y=\"-849.3\" font-family=\"Times,serif\" font-size=\"14.00\" fill=\"#000000\">PRE_EMI_DUEAMT : numeric</text>\n<text text-anchor=\"start\" x=\"321.75\" y=\"-834.3\" font-family=\"Times,serif\" font-size=\"14.00\" fill=\"#000000\">PRE_EMI_RECEIVED_AMT : numeric</text>\n<text text-anchor=\"start\" x=\"321.75\" y=\"-819.3\" font-family=\"Times,serif\" font-size=\"14.00\" fill=\"#000000\">PRE_EMI_OS_AMOUNT : numeric</text>\n<text text-anchor=\"start\" x=\"321.75\" y=\"-804.3\" font-family=\"Times,serif\" font-size=\"14.00\" fill=\"#000000\">EMI_DUEAMT : numeric</text>\n<text text-anchor=\"start\" x=\"321.75\" y=\"-789.3\" font-family=\"Times,serif\" font-size=\"14.00\" fill=\"#000000\">EMI_RECEIVED_AMT : numeric</text>\n<text text-anchor=\"start\" x=\"321.75\" y=\"-774.3\" font-family=\"Times,serif\" font-size=\"14.00\" fill=\"#000000\">EMI_OS_AMOUNT : numeric</text>\n<text text-anchor=\"start\" x=\"321.75\" y=\"-759.3\" font-family=\"Times,serif\" font-size=\"14.00\" fill=\"#000000\">EXCESS_AVAILABLE : numeric</text>\n<text text-anchor=\"start\" x=\"321.75\" y=\"-744.3\" font-family=\"Times,serif\" font-size=\"14.00\" fill=\"#000000\">EXCESS_ADJUSTED_AMT : numeric</text>\n<text text-anchor=\"start\" x=\"321.75\" y=\"-729.3\" font-family=\"Times,serif\" font-size=\"14.00\" fill=\"#000000\">BALANCE_EXCESS : numeric</text>\n<text text-anchor=\"start\" x=\"321.75\" y=\"-714.3\" font-family=\"Times,serif\" font-size=\"14.00\" fill=\"#000000\">NET_RECEIVABLE : numeric</text>\n<text text-anchor=\"start\" x=\"321.75\" y=\"-699.3\" font-family=\"Times,serif\" font-size=\"14.00\" fill=\"#000000\">OUTSTANDING_PRINCIPAL : numeric</text>\n<text text-anchor=\"start\" x=\"321.75\" y=\"-684.3\" font-family=\"Times,serif\" font-size=\"14.00\" fill=\"#000000\">PAID_PRINCIPAL : numeric</text>\n<text text-anchor=\"start\" x=\"321.75\" y=\"-669.3\" font-family=\"Times,serif\" font-size=\"14.00\" fill=\"#000000\">PAID_INTEREST : numeric</text>\n<text text-anchor=\"start\" x=\"321.75\" y=\"-654.3\" font-family=\"Times,serif\" font-size=\"14.00\" fill=\"#000000\">MONTHOPENING : numeric</text>\n<text text-anchor=\"start\" x=\"321.75\" y=\"-639.3\" font-family=\"Times,serif\" font-size=\"14.00\" fill=\"#000000\">LAST_RECEIPT_DATE : datetime</text>\n<text text-anchor=\"start\" x=\"321.75\" y=\"-624.3\" font-family=\"Times,serif\" font-size=\"14.00\" fill=\"#000000\">LAST_RECEIPT_AMOUNT : numeric</text>\n<text text-anchor=\"start\" x=\"321.75\" y=\"-609.3\" font-family=\"Times,serif\" font-size=\"14.00\" fill=\"#000000\">NET_LTV : numeric</text>\n<text text-anchor=\"start\" x=\"321.75\" y=\"-594.3\" font-family=\"Times,serif\" font-size=\"14.00\" fill=\"#000000\">COMPLETED_TENURE : numeric</text>\n<text text-anchor=\"start\" x=\"321.75\" y=\"-579.3\" font-family=\"Times,serif\" font-size=\"14.00\" fill=\"#000000\">BALANCE_TENURE : numeric</text>\n<text text-anchor=\"start\" x=\"321.75\" y=\"-564.3\" font-family=\"Times,serif\" font-size=\"14.00\" fill=\"#000000\">DPD : numeric</text>\n<text text-anchor=\"start\" x=\"321.75\" y=\"-549.3\" font-family=\"Times,serif\" font-size=\"14.00\" fill=\"#000000\">FOIR : numeric</text>\n</g>\n<!-- Loan data -->\n<g id=\"node4\" class=\"node\">\n<title>Loan data</title>\n<polygon fill=\"none\" stroke=\"#000000\" points=\"299.25,-301 299.25,-467 631.25,-467 631.25,-301 299.25,-301\"/>\n<text text-anchor=\"middle\" x=\"465.25\" y=\"-451.8\" font-family=\"Times,serif\" font-size=\"14.00\" fill=\"#000000\">Loan data</text>\n<polyline fill=\"none\" stroke=\"#000000\" points=\"299.25,-444 631.25,-444 \"/>\n<text text-anchor=\"start\" x=\"307.25\" y=\"-428.8\" font-family=\"Times,serif\" font-size=\"14.00\" fill=\"#000000\">AGREEMENTID : index</text>\n<text text-anchor=\"start\" x=\"307.25\" y=\"-413.8\" font-family=\"Times,serif\" font-size=\"14.00\" fill=\"#000000\">CITY : categorical</text>\n<text text-anchor=\"start\" x=\"307.25\" y=\"-398.8\" font-family=\"Times,serif\" font-size=\"14.00\" fill=\"#000000\">PRODUCT : categorical</text>\n<text text-anchor=\"start\" x=\"307.25\" y=\"-383.8\" font-family=\"Times,serif\" font-size=\"14.00\" fill=\"#000000\">NPA_IN_LAST_MONTH : categorical</text>\n<text text-anchor=\"start\" x=\"307.25\" y=\"-368.8\" font-family=\"Times,serif\" font-size=\"14.00\" fill=\"#000000\">NPA_IN_CURRENT_MONTH : categorical</text>\n<text text-anchor=\"start\" x=\"307.25\" y=\"-353.8\" font-family=\"Times,serif\" font-size=\"14.00\" fill=\"#000000\">MOB : categorical</text>\n<text text-anchor=\"start\" x=\"307.25\" y=\"-338.8\" font-family=\"Times,serif\" font-size=\"14.00\" fill=\"#000000\">SCHEMEID : categorical</text>\n<text text-anchor=\"start\" x=\"307.25\" y=\"-323.8\" font-family=\"Times,serif\" font-size=\"14.00\" fill=\"#000000\">CUSTOMERID : id</text>\n<text text-anchor=\"start\" x=\"307.25\" y=\"-308.8\" font-family=\"Times,serif\" font-size=\"14.00\" fill=\"#000000\">first_Loan transaction data_time : datetime_time_index</text>\n</g>\n<!-- Loan transaction data&#45;&gt;Loan data -->\n<g id=\"edge1\" class=\"edge\">\n<title>Loan transaction data&#45;&gt;Loan data</title>\n<path fill=\"none\" stroke=\"#000000\" d=\"M465.25,-541.3158C465.25,-541.3158 465.25,-477.3903 465.25,-477.3903\"/>\n<polygon fill=\"#000000\" stroke=\"#000000\" points=\"468.7501,-477.3903 465.25,-467.3903 461.7501,-477.3903 468.7501,-477.3903\"/>\n<text text-anchor=\"middle\" x=\"412.25\" y=\"-513.153\" font-family=\"Times,serif\" font-size=\"14.00\" fill=\"#000000\">AGREEMENTID</text>\n</g>\n<!-- Loan data&#45;&gt;customers -->\n<g id=\"edge2\" class=\"edge\">\n<title>Loan data&#45;&gt;customers</title>\n<path fill=\"none\" stroke=\"#000000\" d=\"M367.5,-300.6339C367.5,-300.6339 367.5,-236.9396 367.5,-236.9396\"/>\n<polygon fill=\"#000000\" stroke=\"#000000\" points=\"371.0001,-236.9396 367.5,-226.9396 364.0001,-236.9397 371.0001,-236.9396\"/>\n<text text-anchor=\"middle\" x=\"415\" y=\"-272.5868\" font-family=\"Times,serif\" font-size=\"14.00\" fill=\"#000000\">CUSTOMERID</text>\n</g>\n</g>\n</svg>\n"
          },
          "metadata": {
            "tags": []
          },
          "execution_count": 15
        }
      ]
    },
    {
      "metadata": {
        "id": "1mFTqNxWjraD",
        "colab_type": "code",
        "colab": {}
      },
      "cell_type": "code",
      "source": [
        "from featuretools.primitives import make_trans_primitive\n",
        "from featuretools.variable_types import Numeric\n",
        "\n",
        "# Create two new functions for our two new primitives since some variables\n",
        "# have large numbers\n",
        "\n",
        "def Log(column):\n",
        "    return np.log(column)\n",
        "def Square_Root(column):\n",
        "    return np.sqrt(column)\n",
        "\n",
        "# Create the primitives\n",
        "\n",
        "log_prim = make_trans_primitive(\n",
        "    function=Log, input_types=[Numeric], return_type=Numeric)\n",
        "\n",
        "square_root_prim = make_trans_primitive(\n",
        "    function=Square_Root, input_types=[Numeric], return_type=Numeric)"
      ],
      "execution_count": 0,
      "outputs": []
    },
    {
      "metadata": {
        "id": "p0B_0POXmBal",
        "colab_type": "text"
      },
      "cell_type": "markdown",
      "source": [
        "Quoting from competition description\n",
        "\n",
        "Foreclosure means repaying the outstanding loan amount in a __single payment__ instead of with EMIs while balance transfer is transferring outstanding Loan availed from one Bank / Financial Institution to another Bank / Financial Institution, usually on the grounds of better service, top-up on the existing loan, proximity of branch, saving on interest repayments, etc.\n",
        "\n",
        "__Assumptions__:\n",
        "A customer's foreclosure intention can be predicted if \n",
        "\n",
        "1.   He/she has paid more EMI in the recent past\n",
        "2.   The Tenor period has been reduced\n",
        "3.   Excess amount received is high"
      ]
    },
    {
      "metadata": {
        "id": "7wCPxXfb28BE",
        "colab_type": "code",
        "colab": {}
      },
      "cell_type": "code",
      "source": [
        "ft.primitives.list_primitives()"
      ],
      "execution_count": 0,
      "outputs": []
    },
    {
      "metadata": {
        "colab_type": "code",
        "id": "HCBfwV3bQ2MH",
        "colab": {}
      },
      "cell_type": "code",
      "source": [
        "# # Difference between current and pre received amount\n",
        "# RECEIVED_LARGE = ft.Feature(es['Loan transaction data']['EMI_RECEIVED_AMT'] \n",
        "#                             - es['Loan transaction data']['PRE_EMI_RECEIVED_AMT'])\n",
        "\n",
        "# # Difference between current and last received amount\n",
        "# INCREASED_RECEIVED = ft.Feature(es['Loan transaction data']['EMI_RECEIVED_AMT'] \n",
        "#                                 - es['Loan transaction data']['LAST_RECEIPT_AMOUNT'])\n",
        "# TENOR_IND = ft.Feature(es['Loan transaction data']['CURRENT_TENOR'] \n",
        "#                        - es['Loan transaction data']['ORIGNAL_TENOR'])\n",
        "\n",
        "# Excess paid amount\n",
        "EXCESS_LARGE = ft.Feature(es['Loan transaction data']['EXCESS_AVAILABLE']) > 1.53e4\n",
        "\n",
        "# # Threshold for Recieved amounts\n",
        "# RECEIVED_LARGE_TRUE = ft.Feature(RECEIVED_LARGE)>2e4\n",
        "# INCREASED_RECEIVED_TRUE = ft.Feature(INCREASED_RECEIVED)>100\n",
        "\n",
        "\n",
        "seed_features = [EXCESS_LARGE]\n",
        "\n",
        "agg_primitives=[\n",
        "        'std', 'mean', 'count'\n",
        "]\n",
        "trans_primitives=['num_words','num_characters']\n",
        "\n",
        "trans_primitives.append(log_prim)\n",
        "trans_primitives.append(square_root_prim)\n",
        "\n",
        "ignore_variables = {\n",
        "    \"Loan data\": \"first_Loan transaction data_time\"\n",
        "}"
      ],
      "execution_count": 0,
      "outputs": []
    },
    {
      "metadata": {
        "id": "y6KE9W57EWup",
        "colab_type": "text"
      },
      "cell_type": "markdown",
      "source": [
        "# Feature Engineering"
      ]
    },
    {
      "metadata": {
        "id": "jF3SUQObVURn",
        "colab_type": "code",
        "outputId": "42fa0e32-bf2d-48b4-d097-6bea9cc6f763",
        "colab": {
          "base_uri": "https://localhost:8080/",
          "height": 34
        }
      },
      "cell_type": "code",
      "source": [
        "# Let's see what we can generate from the data and relationships we have\n",
        "# agg_primitives = [\"std\", \"skew\", \"mean\",\"median\", \"count\", 'mode'],\n",
        "# trans_primitives = \"num_words cum_mean days_since percentile num_characters\".split(),\n",
        "\n",
        "feature_defs = ft.dfs(entityset=es, target_entity=\"Loan data\", max_depth=2,\n",
        "                      agg_primitives = agg_primitives,\n",
        "                      trans_primitives = trans_primitives,\n",
        "                      seed_features = seed_features,\n",
        "                      ignore_variables = ignore_variables,\n",
        "                      features_only=True, verbose = True)"
      ],
      "execution_count": 0,
      "outputs": [
        {
          "output_type": "stream",
          "text": [
            "Built 12370 features\n"
          ],
          "name": "stdout"
        }
      ]
    },
    {
      "metadata": {
        "id": "80NRZJbRiYmv",
        "colab_type": "code",
        "colab": {}
      },
      "cell_type": "code",
      "source": [
        "# Names of features\n",
        "feature_defs"
      ],
      "execution_count": 0,
      "outputs": []
    },
    {
      "metadata": {
        "id": "rQloIoqtaFQJ",
        "colab_type": "text"
      },
      "cell_type": "markdown",
      "source": [
        "Lets __generate__ the features"
      ]
    },
    {
      "metadata": {
        "id": "JWQSXdrk_hjp",
        "colab_type": "code",
        "outputId": "eddcb3e3-abef-4fab-bcb3-8d21805aa448",
        "colab": {
          "base_uri": "https://localhost:8080/",
          "height": 476
        }
      },
      "cell_type": "code",
      "source": [
        "feature_matrix, _ = ft.dfs(entityset=es, target_entity=\"Loan data\",\n",
        "                                    agg_primitives = agg_primitives,\n",
        "                                    trans_primitives = trans_primitives,\n",
        "                                    seed_features = seed_features,\n",
        "                                    ignore_variables = ignore_variables,\n",
        "                                    max_depth=1,features_only=False,\n",
        "                                    verbose = True)"
      ],
      "execution_count": 0,
      "outputs": [
        {
          "output_type": "stream",
          "text": [
            "Built 158 features\n",
            "\n",
            "\n",
            "Elapsed: 00:00 | Remaining: ? | Progress:   0%|          | Calculated: 0/11 chunks\u001b[A\u001b[A\n",
            "\n",
            "Elapsed: 04:46 | Remaining: 47:45 | Progress:   9%|▉         | Calculated: 1/11 chunks\u001b[A\u001b[A\n",
            "\n",
            "Elapsed: 09:10 | Remaining: 41:57 | Progress:  18%|█▊        | Calculated: 2/11 chunks\u001b[A\u001b[A\n",
            "\n",
            "Elapsed: 13:35 | Remaining: 36:42 | Progress:  27%|██▋       | Calculated: 3/11 chunks\u001b[A\u001b[A\n",
            "\n",
            "Elapsed: 17:58 | Remaining: 31:42 | Progress:  36%|███▋      | Calculated: 4/11 chunks\u001b[A\u001b[A\n",
            "\n",
            "Elapsed: 22:24 | Remaining: 27:00 | Progress:  45%|████▌     | Calculated: 5/11 chunks\u001b[A\u001b[A\n",
            "\n",
            "Elapsed: 26:52 | Remaining: 22:26 | Progress:  55%|█████▍    | Calculated: 6/11 chunks\u001b[A\u001b[A\n",
            "\n",
            "Elapsed: 31:18 | Remaining: 17:53 | Progress:  64%|██████▎   | Calculated: 7/11 chunks\u001b[A\u001b[A\n",
            "\n",
            "Elapsed: 35:44 | Remaining: 13:23 | Progress:  73%|███████▎  | Calculated: 8/11 chunks\u001b[A\u001b[A\n",
            "\n",
            "Elapsed: 40:10 | Remaining: 08:54 | Progress:  82%|████████▏ | Calculated: 9/11 chunks\u001b[A\u001b[A\n",
            "\n",
            "Elapsed: 44:26 | Remaining: 04:23 | Progress:  91%|█████████ | Calculated: 10/11 chunks\u001b[A\u001b[A\n",
            "\n",
            "Elapsed: 44:27 | Remaining: 00:00 | Progress: 100%|██████████| Calculated: 11/11 chunks\u001b[A\u001b[A\n",
            "\n",
            "\u001b[A\u001b[A"
          ],
          "name": "stdout"
        }
      ]
    },
    {
      "metadata": {
        "id": "vD_VlnkeEg0f",
        "colab_type": "text"
      },
      "cell_type": "markdown",
      "source": [
        "# Persist feature matrix for Loan"
      ]
    },
    {
      "metadata": {
        "id": "ySq7bzcLHsuM",
        "colab_type": "code",
        "colab": {}
      },
      "cell_type": "code",
      "source": [
        "feature_matrix.to_csv(os.path.join(path, 'feature_agg.csv'))"
      ],
      "execution_count": 0,
      "outputs": []
    },
    {
      "metadata": {
        "id": "TVnkozdTd8Mk",
        "colab_type": "code",
        "outputId": "f73f2913-2547-4328-fa6f-74f77f351a35",
        "colab": {
          "base_uri": "https://localhost:8080/",
          "height": 34
        }
      },
      "cell_type": "code",
      "source": [
        ""
      ],
      "execution_count": 0,
      "outputs": [
        {
          "output_type": "execute_result",
          "data": {
            "text/plain": [
              "False"
            ]
          },
          "metadata": {
            "tags": []
          },
          "execution_count": 72
        }
      ]
    },
    {
      "metadata": {
        "id": "1upjNaH_k8qW",
        "colab_type": "code",
        "colab": {}
      },
      "cell_type": "code",
      "source": [
        ""
      ],
      "execution_count": 0,
      "outputs": []
    }
  ]
}