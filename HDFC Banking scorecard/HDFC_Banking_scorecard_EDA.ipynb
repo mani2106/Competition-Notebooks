{
  "nbformat": 4,
  "nbformat_minor": 0,
  "metadata": {
    "colab": {
      "name": "HDFC Banking scorecard EDA.ipynb",
      "provenance": [],
      "collapsed_sections": [
        "D43ORn-mPxF3"
      ],
      "toc_visible": true,
      "include_colab_link": true
    },
    "kernelspec": {
      "name": "python3",
      "display_name": "Python 3"
    }
  },
  "cells": [
    {
      "cell_type": "markdown",
      "metadata": {
        "id": "view-in-github",
        "colab_type": "text"
      },
      "source": [
        "<a href=\"https://colab.research.google.com/github/mani2106/Competition-Notebooks/blob/master/HDFC%20Banking%20scorecard/HDFC_Banking_scorecard_EDA.ipynb\" target=\"_parent\"><img src=\"https://colab.research.google.com/assets/colab-badge.svg\" alt=\"Open In Colab\"/></a>"
      ]
    },
    {
      "cell_type": "markdown",
      "metadata": {
        "id": "ZbcG_b7DIiN-",
        "colab_type": "text"
      },
      "source": [
        "### Prepare storage and get Data"
      ]
    },
    {
      "cell_type": "code",
      "metadata": {
        "id": "8U6ny23NIqc8",
        "colab_type": "code",
        "colab": {
          "base_uri": "https://localhost:8080/",
          "height": 124
        },
        "outputId": "4500d823-de62-4fab-b678-28ba403b0922"
      },
      "source": [
        "from google.colab import drive\n",
        "drive.mount('/gdrive')"
      ],
      "execution_count": 1,
      "outputs": [
        {
          "output_type": "stream",
          "text": [
            "Go to this URL in a browser: https://accounts.google.com/o/oauth2/auth?client_id=947318989803-6bn6qk8qdgf4n4g3pfee6491hc0brc4i.apps.googleusercontent.com&redirect_uri=urn%3Aietf%3Awg%3Aoauth%3A2.0%3Aoob&scope=email%20https%3A%2F%2Fwww.googleapis.com%2Fauth%2Fdocs.test%20https%3A%2F%2Fwww.googleapis.com%2Fauth%2Fdrive%20https%3A%2F%2Fwww.googleapis.com%2Fauth%2Fdrive.photos.readonly%20https%3A%2F%2Fwww.googleapis.com%2Fauth%2Fpeopleapi.readonly&response_type=code\n",
            "\n",
            "Enter your authorization code:\n",
            "··········\n",
            "Mounted at /gdrive\n"
          ],
          "name": "stdout"
        }
      ]
    },
    {
      "cell_type": "code",
      "metadata": {
        "id": "9mmOya4ZIMkR",
        "colab_type": "code",
        "colab": {
          "base_uri": "https://localhost:8080/",
          "height": 366
        },
        "outputId": "ca2ebafb-7aa1-4d7d-bdbd-661e9875f2b4"
      },
      "source": [
        "!wget -O data.zip http://hck.re/TT3Xkb"
      ],
      "execution_count": 4,
      "outputs": [
        {
          "output_type": "stream",
          "text": [
            "--2019-09-25 15:59:34--  http://hck.re/TT3Xkb\n",
            "Resolving hck.re (hck.re)... 54.251.154.115, 52.76.109.201, 52.74.52.197\n",
            "Connecting to hck.re (hck.re)|54.251.154.115|:80... connected.\n",
            "HTTP request sent, awaiting response... 301 Moved Permanently\n",
            "Cookie coming from hck.re attempted to set domain to hackerearth.com\n",
            "Cookie coming from hck.re attempted to set domain to hackerearth.com\n",
            "Cookie coming from hck.re attempted to set domain to hackerearth.com\n",
            "Location: https://he-s3.s3.amazonaws.com/media/hackathon/hdfc-bank-ml-hiring-challenge-2019/banking-behavioral-scorecard-for-internal-liability-customers-4caf1786/d407ebe0db9a11e9.zip [following]\n",
            "--2019-09-25 15:59:35--  https://he-s3.s3.amazonaws.com/media/hackathon/hdfc-bank-ml-hiring-challenge-2019/banking-behavioral-scorecard-for-internal-liability-customers-4caf1786/d407ebe0db9a11e9.zip\n",
            "Resolving he-s3.s3.amazonaws.com (he-s3.s3.amazonaws.com)... 52.219.40.116\n",
            "Connecting to he-s3.s3.amazonaws.com (he-s3.s3.amazonaws.com)|52.219.40.116|:443... connected.\n",
            "HTTP request sent, awaiting response... 200 OK\n",
            "Length: 52184897 (50M) [application/zip]\n",
            "Saving to: ‘data.zip’\n",
            "\n",
            "data.zip            100%[===================>]  49.77M  11.2MB/s    in 5.1s    \n",
            "\n",
            "2019-09-25 15:59:41 (9.79 MB/s) - ‘data.zip’ saved [52184897/52184897]\n",
            "\n"
          ],
          "name": "stdout"
        }
      ]
    },
    {
      "cell_type": "code",
      "metadata": {
        "id": "rQEca-9NI6eW",
        "colab_type": "code",
        "colab": {
          "base_uri": "https://localhost:8080/",
          "height": 104
        },
        "outputId": "f7a1893b-0359-4afa-9858-e5cfebc497dd"
      },
      "source": [
        "!unzip data.zip"
      ],
      "execution_count": 5,
      "outputs": [
        {
          "output_type": "stream",
          "text": [
            "Archive:  data.zip\n",
            "   creating: DataSet/\n",
            "  inflating: DataSet/Train.csv       \n",
            "  inflating: DataSet/Sample_submission.csv  \n",
            "  inflating: DataSet/Test.csv        \n"
          ],
          "name": "stdout"
        }
      ]
    },
    {
      "cell_type": "markdown",
      "metadata": {
        "id": "D43ORn-mPxF3",
        "colab_type": "text"
      },
      "source": [
        "### Understanding the Problem statement"
      ]
    },
    {
      "cell_type": "markdown",
      "metadata": {
        "id": "ZWbseIMvP2Sm",
        "colab_type": "text"
      },
      "source": [
        "Referring to the competition description \n",
        "\n",
        "``The definition that is used for the target variable is every 30+ or X+ days delinquent twice in forward  12 months.``\n",
        "\n",
        "If I understand correctly the target variable predicts the number of times that the particular customer will become delinquent (i.e). Fails to pay his dues in the period mentioned."
      ]
    },
    {
      "cell_type": "markdown",
      "metadata": {
        "id": "2kZFkWtzJ6Wv",
        "colab_type": "text"
      },
      "source": [
        "###Import Libraries"
      ]
    },
    {
      "cell_type": "code",
      "metadata": {
        "id": "rHT6WaunKRKw",
        "colab_type": "code",
        "colab": {}
      },
      "source": [
        "import pandas as pd\n",
        "from tqdm import tqdm_notebook\n",
        "from pathlib import Path"
      ],
      "execution_count": 0,
      "outputs": []
    },
    {
      "cell_type": "markdown",
      "metadata": {
        "id": "ARNkY9uCKd4L",
        "colab_type": "text"
      },
      "source": [
        "### Read data"
      ]
    },
    {
      "cell_type": "code",
      "metadata": {
        "id": "GLBRT2plKgtV",
        "colab_type": "code",
        "colab": {}
      },
      "source": [
        "DATA_PATH = Path('DataSet')"
      ],
      "execution_count": 0,
      "outputs": []
    },
    {
      "cell_type": "code",
      "metadata": {
        "id": "IqwOgj3ZK3Ez",
        "colab_type": "code",
        "colab": {
          "base_uri": "https://localhost:8080/",
          "height": 286
        },
        "outputId": "d685d328-01a9-475b-ea2f-da3f0cf3276e"
      },
      "source": [
        "train_data = pd.read_csv(DATA_PATH/'Train.csv')\n",
        "train_data.head()"
      ],
      "execution_count": 9,
      "outputs": [
        {
          "output_type": "stream",
          "text": [
            "/usr/local/lib/python3.6/dist-packages/IPython/core/interactiveshell.py:2718: DtypeWarning: Columns (746,835) have mixed types. Specify dtype option on import or set low_memory=False.\n",
            "  interactivity=interactivity, compiler=compiler, result=result)\n"
          ],
          "name": "stderr"
        },
        {
          "output_type": "execute_result",
          "data": {
            "text/html": [
              "<div>\n",
              "<style scoped>\n",
              "    .dataframe tbody tr th:only-of-type {\n",
              "        vertical-align: middle;\n",
              "    }\n",
              "\n",
              "    .dataframe tbody tr th {\n",
              "        vertical-align: top;\n",
              "    }\n",
              "\n",
              "    .dataframe thead th {\n",
              "        text-align: right;\n",
              "    }\n",
              "</style>\n",
              "<table border=\"1\" class=\"dataframe\">\n",
              "  <thead>\n",
              "    <tr style=\"text-align: right;\">\n",
              "      <th></th>\n",
              "      <th>Col1</th>\n",
              "      <th>Col2</th>\n",
              "      <th>Col3</th>\n",
              "      <th>Col4</th>\n",
              "      <th>Col5</th>\n",
              "      <th>Col6</th>\n",
              "      <th>Col7</th>\n",
              "      <th>Col8</th>\n",
              "      <th>Col9</th>\n",
              "      <th>Col10</th>\n",
              "      <th>Col11</th>\n",
              "      <th>Col12</th>\n",
              "      <th>Col13</th>\n",
              "      <th>Col14</th>\n",
              "      <th>Col15</th>\n",
              "      <th>Col16</th>\n",
              "      <th>Col17</th>\n",
              "      <th>Col18</th>\n",
              "      <th>Col19</th>\n",
              "      <th>Col20</th>\n",
              "      <th>Col21</th>\n",
              "      <th>Col22</th>\n",
              "      <th>Col23</th>\n",
              "      <th>Col24</th>\n",
              "      <th>Col25</th>\n",
              "      <th>Col26</th>\n",
              "      <th>Col27</th>\n",
              "      <th>Col28</th>\n",
              "      <th>Col29</th>\n",
              "      <th>Col30</th>\n",
              "      <th>Col31</th>\n",
              "      <th>Col32</th>\n",
              "      <th>Col33</th>\n",
              "      <th>Col34</th>\n",
              "      <th>Col35</th>\n",
              "      <th>Col36</th>\n",
              "      <th>Col37</th>\n",
              "      <th>Col38</th>\n",
              "      <th>Col39</th>\n",
              "      <th>Col40</th>\n",
              "      <th>...</th>\n",
              "      <th>Col2358</th>\n",
              "      <th>Col2359</th>\n",
              "      <th>Col2360</th>\n",
              "      <th>Col2361</th>\n",
              "      <th>Col2362</th>\n",
              "      <th>Col2363</th>\n",
              "      <th>Col2364</th>\n",
              "      <th>Col2365</th>\n",
              "      <th>Col2366</th>\n",
              "      <th>Col2367</th>\n",
              "      <th>Col2368</th>\n",
              "      <th>Col2369</th>\n",
              "      <th>Col2370</th>\n",
              "      <th>Col2371</th>\n",
              "      <th>Col2372</th>\n",
              "      <th>Col2373</th>\n",
              "      <th>Col2374</th>\n",
              "      <th>Col2375</th>\n",
              "      <th>Col2376</th>\n",
              "      <th>Col2377</th>\n",
              "      <th>Col2378</th>\n",
              "      <th>Col2379</th>\n",
              "      <th>Col2380</th>\n",
              "      <th>Col2381</th>\n",
              "      <th>Col2382</th>\n",
              "      <th>Col2383</th>\n",
              "      <th>Col2384</th>\n",
              "      <th>Col2385</th>\n",
              "      <th>Col2386</th>\n",
              "      <th>Col2387</th>\n",
              "      <th>Col2388</th>\n",
              "      <th>Col2389</th>\n",
              "      <th>Col2390</th>\n",
              "      <th>Col2391</th>\n",
              "      <th>Col2392</th>\n",
              "      <th>Col2393</th>\n",
              "      <th>Col2394</th>\n",
              "      <th>Col2395</th>\n",
              "      <th>Col2396</th>\n",
              "      <th>Col2397</th>\n",
              "    </tr>\n",
              "  </thead>\n",
              "  <tbody>\n",
              "    <tr>\n",
              "      <th>0</th>\n",
              "      <td>RIGHGSN</td>\n",
              "      <td>1</td>\n",
              "      <td>1.086711e+04</td>\n",
              "      <td>8.648345e+03</td>\n",
              "      <td>1.576618e+04</td>\n",
              "      <td>2.890466e+04</td>\n",
              "      <td>5.273655e+03</td>\n",
              "      <td>2.346153e+04</td>\n",
              "      <td>1.285597e+04</td>\n",
              "      <td>2.871509e+04</td>\n",
              "      <td>9.114586e+03</td>\n",
              "      <td>3.043078e+04</td>\n",
              "      <td>9.293496</td>\n",
              "      <td>8.570479</td>\n",
              "      <td>10.063117</td>\n",
              "      <td>10.271758</td>\n",
              "      <td>0.548538</td>\n",
              "      <td>0.403366</td>\n",
              "      <td>NaN</td>\n",
              "      <td>NaN</td>\n",
              "      <td>1.486524</td>\n",
              "      <td>1.728324</td>\n",
              "      <td>0.993441</td>\n",
              "      <td>1.297050</td>\n",
              "      <td>0.137398</td>\n",
              "      <td>0.115987</td>\n",
              "      <td>0.260428</td>\n",
              "      <td>1.414214</td>\n",
              "      <td>1</td>\n",
              "      <td>1</td>\n",
              "      <td>1</td>\n",
              "      <td>1</td>\n",
              "      <td>1</td>\n",
              "      <td>1</td>\n",
              "      <td>0</td>\n",
              "      <td>6</td>\n",
              "      <td>NaN</td>\n",
              "      <td>NaN</td>\n",
              "      <td>NaN</td>\n",
              "      <td>NaN</td>\n",
              "      <td>...</td>\n",
              "      <td>0</td>\n",
              "      <td>0</td>\n",
              "      <td>0</td>\n",
              "      <td>0</td>\n",
              "      <td>0</td>\n",
              "      <td>0</td>\n",
              "      <td>0</td>\n",
              "      <td>0</td>\n",
              "      <td>0</td>\n",
              "      <td>0</td>\n",
              "      <td>0</td>\n",
              "      <td>0</td>\n",
              "      <td>0</td>\n",
              "      <td>0</td>\n",
              "      <td>0</td>\n",
              "      <td>0</td>\n",
              "      <td>0</td>\n",
              "      <td>0</td>\n",
              "      <td>0</td>\n",
              "      <td>0</td>\n",
              "      <td>0</td>\n",
              "      <td>0</td>\n",
              "      <td>0</td>\n",
              "      <td>0</td>\n",
              "      <td>0</td>\n",
              "      <td>0</td>\n",
              "      <td>0</td>\n",
              "      <td>0</td>\n",
              "      <td>0</td>\n",
              "      <td>0</td>\n",
              "      <td>0</td>\n",
              "      <td>1</td>\n",
              "      <td>0</td>\n",
              "      <td>1</td>\n",
              "      <td>214.0</td>\n",
              "      <td>214.0</td>\n",
              "      <td>68.0</td>\n",
              "      <td>22.0</td>\n",
              "      <td>22.0</td>\n",
              "      <td>7.0</td>\n",
              "    </tr>\n",
              "    <tr>\n",
              "      <th>1</th>\n",
              "      <td>RIMHI5ZGP</td>\n",
              "      <td>0</td>\n",
              "      <td>2.584312e+05</td>\n",
              "      <td>2.179633e+05</td>\n",
              "      <td>1.866287e+05</td>\n",
              "      <td>1.866287e+05</td>\n",
              "      <td>2.154519e+05</td>\n",
              "      <td>1.923615e+05</td>\n",
              "      <td>1.726538e+05</td>\n",
              "      <td>1.666974e+05</td>\n",
              "      <td>2.013518e+05</td>\n",
              "      <td>1.859404e+05</td>\n",
              "      <td>12.462385</td>\n",
              "      <td>12.280493</td>\n",
              "      <td>12.167132</td>\n",
              "      <td>12.136876</td>\n",
              "      <td>1.167898</td>\n",
              "      <td>2.676398</td>\n",
              "      <td>NaN</td>\n",
              "      <td>NaN</td>\n",
              "      <td>0.792123</td>\n",
              "      <td>0.934556</td>\n",
              "      <td>0.893203</td>\n",
              "      <td>0.966620</td>\n",
              "      <td>0.753892</td>\n",
              "      <td>0.808295</td>\n",
              "      <td>1.414214</td>\n",
              "      <td>NaN</td>\n",
              "      <td>1</td>\n",
              "      <td>1</td>\n",
              "      <td>3</td>\n",
              "      <td>4</td>\n",
              "      <td>4</td>\n",
              "      <td>0</td>\n",
              "      <td>4</td>\n",
              "      <td>5</td>\n",
              "      <td>NaN</td>\n",
              "      <td>NaN</td>\n",
              "      <td>NaN</td>\n",
              "      <td>NaN</td>\n",
              "      <td>...</td>\n",
              "      <td>0</td>\n",
              "      <td>0</td>\n",
              "      <td>0</td>\n",
              "      <td>0</td>\n",
              "      <td>0</td>\n",
              "      <td>0</td>\n",
              "      <td>0</td>\n",
              "      <td>0</td>\n",
              "      <td>0</td>\n",
              "      <td>0</td>\n",
              "      <td>0</td>\n",
              "      <td>0</td>\n",
              "      <td>0</td>\n",
              "      <td>1</td>\n",
              "      <td>0</td>\n",
              "      <td>0</td>\n",
              "      <td>0</td>\n",
              "      <td>0</td>\n",
              "      <td>0</td>\n",
              "      <td>0</td>\n",
              "      <td>0</td>\n",
              "      <td>0</td>\n",
              "      <td>0</td>\n",
              "      <td>0</td>\n",
              "      <td>0</td>\n",
              "      <td>0</td>\n",
              "      <td>0</td>\n",
              "      <td>0</td>\n",
              "      <td>0</td>\n",
              "      <td>0</td>\n",
              "      <td>0</td>\n",
              "      <td>0</td>\n",
              "      <td>0</td>\n",
              "      <td>0</td>\n",
              "      <td>41.0</td>\n",
              "      <td>41.0</td>\n",
              "      <td>38.0</td>\n",
              "      <td>12.0</td>\n",
              "      <td>12.0</td>\n",
              "      <td>11.0</td>\n",
              "    </tr>\n",
              "    <tr>\n",
              "      <th>2</th>\n",
              "      <td>RIHOG1SZU</td>\n",
              "      <td>0</td>\n",
              "      <td>1.459355e+07</td>\n",
              "      <td>1.260060e+07</td>\n",
              "      <td>1.100315e+07</td>\n",
              "      <td>1.010315e+07</td>\n",
              "      <td>1.879882e+07</td>\n",
              "      <td>1.514035e+07</td>\n",
              "      <td>5.320778e+06</td>\n",
              "      <td>6.906324e+06</td>\n",
              "      <td>9.368338e+06</td>\n",
              "      <td>1.113330e+07</td>\n",
              "      <td>16.496090</td>\n",
              "      <td>16.749305</td>\n",
              "      <td>16.532874</td>\n",
              "      <td>16.128357</td>\n",
              "      <td>1.145182</td>\n",
              "      <td>2.203874</td>\n",
              "      <td>NaN</td>\n",
              "      <td>NaN</td>\n",
              "      <td>0.422264</td>\n",
              "      <td>0.498347</td>\n",
              "      <td>0.683582</td>\n",
              "      <td>0.735339</td>\n",
              "      <td>0.808115</td>\n",
              "      <td>0.776910</td>\n",
              "      <td>1.414214</td>\n",
              "      <td>NaN</td>\n",
              "      <td>3</td>\n",
              "      <td>3</td>\n",
              "      <td>4</td>\n",
              "      <td>12</td>\n",
              "      <td>4</td>\n",
              "      <td>0</td>\n",
              "      <td>2</td>\n",
              "      <td>4</td>\n",
              "      <td>NaN</td>\n",
              "      <td>1.0</td>\n",
              "      <td>NaN</td>\n",
              "      <td>NaN</td>\n",
              "      <td>...</td>\n",
              "      <td>1</td>\n",
              "      <td>0</td>\n",
              "      <td>1</td>\n",
              "      <td>0</td>\n",
              "      <td>1</td>\n",
              "      <td>0</td>\n",
              "      <td>0</td>\n",
              "      <td>0</td>\n",
              "      <td>0</td>\n",
              "      <td>0</td>\n",
              "      <td>2</td>\n",
              "      <td>0</td>\n",
              "      <td>1</td>\n",
              "      <td>1</td>\n",
              "      <td>0</td>\n",
              "      <td>0</td>\n",
              "      <td>0</td>\n",
              "      <td>0</td>\n",
              "      <td>0</td>\n",
              "      <td>0</td>\n",
              "      <td>2</td>\n",
              "      <td>0</td>\n",
              "      <td>0</td>\n",
              "      <td>0</td>\n",
              "      <td>0</td>\n",
              "      <td>0</td>\n",
              "      <td>0</td>\n",
              "      <td>0</td>\n",
              "      <td>0</td>\n",
              "      <td>0</td>\n",
              "      <td>0</td>\n",
              "      <td>1</td>\n",
              "      <td>1</td>\n",
              "      <td>0</td>\n",
              "      <td>378.0</td>\n",
              "      <td>378.0</td>\n",
              "      <td>310.0</td>\n",
              "      <td>21.0</td>\n",
              "      <td>21.0</td>\n",
              "      <td>16.0</td>\n",
              "    </tr>\n",
              "    <tr>\n",
              "      <th>3</th>\n",
              "      <td>RIHOLMQWU</td>\n",
              "      <td>0</td>\n",
              "      <td>6.727043e+05</td>\n",
              "      <td>8.181116e+05</td>\n",
              "      <td>6.794893e+05</td>\n",
              "      <td>6.794893e+05</td>\n",
              "      <td>8.257254e+05</td>\n",
              "      <td>7.605803e+05</td>\n",
              "      <td>3.577134e+05</td>\n",
              "      <td>4.236612e+05</td>\n",
              "      <td>4.304848e+05</td>\n",
              "      <td>4.065539e+05</td>\n",
              "      <td>13.419061</td>\n",
              "      <td>13.624018</td>\n",
              "      <td>13.541837</td>\n",
              "      <td>13.429097</td>\n",
              "      <td>1.204010</td>\n",
              "      <td>0.536304</td>\n",
              "      <td>NaN</td>\n",
              "      <td>NaN</td>\n",
              "      <td>0.437243</td>\n",
              "      <td>0.521341</td>\n",
              "      <td>0.623499</td>\n",
              "      <td>0.534531</td>\n",
              "      <td>-0.125829</td>\n",
              "      <td>0.388830</td>\n",
              "      <td>-1.414214</td>\n",
              "      <td>NaN</td>\n",
              "      <td>2</td>\n",
              "      <td>2</td>\n",
              "      <td>2</td>\n",
              "      <td>24</td>\n",
              "      <td>1</td>\n",
              "      <td>0</td>\n",
              "      <td>1</td>\n",
              "      <td>4</td>\n",
              "      <td>NaN</td>\n",
              "      <td>NaN</td>\n",
              "      <td>NaN</td>\n",
              "      <td>NaN</td>\n",
              "      <td>...</td>\n",
              "      <td>0</td>\n",
              "      <td>0</td>\n",
              "      <td>0</td>\n",
              "      <td>0</td>\n",
              "      <td>0</td>\n",
              "      <td>0</td>\n",
              "      <td>0</td>\n",
              "      <td>0</td>\n",
              "      <td>0</td>\n",
              "      <td>1</td>\n",
              "      <td>2</td>\n",
              "      <td>0</td>\n",
              "      <td>1</td>\n",
              "      <td>2</td>\n",
              "      <td>0</td>\n",
              "      <td>0</td>\n",
              "      <td>0</td>\n",
              "      <td>0</td>\n",
              "      <td>0</td>\n",
              "      <td>1</td>\n",
              "      <td>2</td>\n",
              "      <td>0</td>\n",
              "      <td>0</td>\n",
              "      <td>0</td>\n",
              "      <td>0</td>\n",
              "      <td>0</td>\n",
              "      <td>1</td>\n",
              "      <td>2</td>\n",
              "      <td>0</td>\n",
              "      <td>0</td>\n",
              "      <td>0</td>\n",
              "      <td>0</td>\n",
              "      <td>0</td>\n",
              "      <td>0</td>\n",
              "      <td>702.0</td>\n",
              "      <td>702.0</td>\n",
              "      <td>644.0</td>\n",
              "      <td>951.0</td>\n",
              "      <td>951.0</td>\n",
              "      <td>743.0</td>\n",
              "    </tr>\n",
              "    <tr>\n",
              "      <th>4</th>\n",
              "      <td>RIHO584ET</td>\n",
              "      <td>0</td>\n",
              "      <td>-1.218742e+06</td>\n",
              "      <td>-3.005361e+06</td>\n",
              "      <td>-1.666241e+05</td>\n",
              "      <td>-2.403574e+06</td>\n",
              "      <td>2.583183e+06</td>\n",
              "      <td>2.086546e+06</td>\n",
              "      <td>5.938358e+06</td>\n",
              "      <td>5.446532e+06</td>\n",
              "      <td>3.473444e+06</td>\n",
              "      <td>3.262168e+06</td>\n",
              "      <td>NaN</td>\n",
              "      <td>14.764533</td>\n",
              "      <td>14.551021</td>\n",
              "      <td>NaN</td>\n",
              "      <td>NaN</td>\n",
              "      <td>NaN</td>\n",
              "      <td>NaN</td>\n",
              "      <td>NaN</td>\n",
              "      <td>NaN</td>\n",
              "      <td>1.344637</td>\n",
              "      <td>NaN</td>\n",
              "      <td>1.563430</td>\n",
              "      <td>-0.113101</td>\n",
              "      <td>0.617486</td>\n",
              "      <td>1.414214</td>\n",
              "      <td>NaN</td>\n",
              "      <td>4</td>\n",
              "      <td>3</td>\n",
              "      <td>4</td>\n",
              "      <td>68</td>\n",
              "      <td>8</td>\n",
              "      <td>0</td>\n",
              "      <td>2</td>\n",
              "      <td>4</td>\n",
              "      <td>NaN</td>\n",
              "      <td>3.0</td>\n",
              "      <td>NaN</td>\n",
              "      <td>NaN</td>\n",
              "      <td>...</td>\n",
              "      <td>0</td>\n",
              "      <td>0</td>\n",
              "      <td>0</td>\n",
              "      <td>0</td>\n",
              "      <td>0</td>\n",
              "      <td>0</td>\n",
              "      <td>2</td>\n",
              "      <td>1</td>\n",
              "      <td>0</td>\n",
              "      <td>0</td>\n",
              "      <td>0</td>\n",
              "      <td>0</td>\n",
              "      <td>2</td>\n",
              "      <td>1</td>\n",
              "      <td>2</td>\n",
              "      <td>1</td>\n",
              "      <td>0</td>\n",
              "      <td>0</td>\n",
              "      <td>0</td>\n",
              "      <td>0</td>\n",
              "      <td>0</td>\n",
              "      <td>0</td>\n",
              "      <td>0</td>\n",
              "      <td>0</td>\n",
              "      <td>0</td>\n",
              "      <td>0</td>\n",
              "      <td>0</td>\n",
              "      <td>0</td>\n",
              "      <td>2</td>\n",
              "      <td>0</td>\n",
              "      <td>0</td>\n",
              "      <td>0</td>\n",
              "      <td>0</td>\n",
              "      <td>0</td>\n",
              "      <td>1305.0</td>\n",
              "      <td>1305.0</td>\n",
              "      <td>1211.0</td>\n",
              "      <td>2205.0</td>\n",
              "      <td>2205.0</td>\n",
              "      <td>1831.0</td>\n",
              "    </tr>\n",
              "  </tbody>\n",
              "</table>\n",
              "<p>5 rows × 2395 columns</p>\n",
              "</div>"
            ],
            "text/plain": [
              "        Col1  Col2          Col3  ...  Col2395  Col2396  Col2397\n",
              "0    RIGHGSN     1  1.086711e+04  ...     22.0     22.0      7.0\n",
              "1  RIMHI5ZGP     0  2.584312e+05  ...     12.0     12.0     11.0\n",
              "2  RIHOG1SZU     0  1.459355e+07  ...     21.0     21.0     16.0\n",
              "3  RIHOLMQWU     0  6.727043e+05  ...    951.0    951.0    743.0\n",
              "4  RIHO584ET     0 -1.218742e+06  ...   2205.0   2205.0   1831.0\n",
              "\n",
              "[5 rows x 2395 columns]"
            ]
          },
          "metadata": {
            "tags": []
          },
          "execution_count": 9
        }
      ]
    },
    {
      "cell_type": "markdown",
      "metadata": {
        "id": "YXgBk7JSLSo9",
        "colab_type": "text"
      },
      "source": [
        "### Check data"
      ]
    },
    {
      "cell_type": "code",
      "metadata": {
        "id": "4KaRYUVgL2eH",
        "colab_type": "code",
        "colab": {
          "base_uri": "https://localhost:8080/",
          "height": 34
        },
        "outputId": "934fbfef-9f79-4a24-faed-7c1f3a7d7e29"
      },
      "source": [
        "train_data.shape"
      ],
      "execution_count": 10,
      "outputs": [
        {
          "output_type": "execute_result",
          "data": {
            "text/plain": [
              "(17521, 2395)"
            ]
          },
          "metadata": {
            "tags": []
          },
          "execution_count": 10
        }
      ]
    },
    {
      "cell_type": "markdown",
      "metadata": {
        "id": "OW7H2ZH2K4V8",
        "colab_type": "text"
      },
      "source": [
        "This is a huge number of columns, We have been warned by pandas that **Col746** and **Col835** has mixed dtypes, Let's check them."
      ]
    },
    {
      "cell_type": "code",
      "metadata": {
        "id": "WSNemwQwLRig",
        "colab_type": "code",
        "colab": {
          "base_uri": "https://localhost:8080/",
          "height": 312
        },
        "outputId": "b28847bd-297a-42c6-cda1-b2b12e748de6"
      },
      "source": [
        "train_data.dtypes.value_counts().plot.bar()"
      ],
      "execution_count": 15,
      "outputs": [
        {
          "output_type": "execute_result",
          "data": {
            "text/plain": [
              "<matplotlib.axes._subplots.AxesSubplot at 0x7f3014cd1e10>"
            ]
          },
          "metadata": {
            "tags": []
          },
          "execution_count": 15
        },
        {
          "output_type": "display_data",
          "data": {
            "image/png": "[encoded data removed]",
            "text/plain": [
              "<Figure size 432x288 with 1 Axes>"
            ]
          },
          "metadata": {
            "tags": []
          }
        }
      ]
    },
    {
      "cell_type": "markdown",
      "metadata": {
        "id": "fWxxBbe4MSlg",
        "colab_type": "text"
      },
      "source": [
        "Let's check the object type columns since that is quite low in the dataset"
      ]
    },
    {
      "cell_type": "code",
      "metadata": {
        "id": "5RitfDKPNJw3",
        "colab_type": "code",
        "colab": {
          "base_uri": "https://localhost:8080/",
          "height": 202
        },
        "outputId": "6b1124c5-94b6-47a9-8771-96a2ec0557b2"
      },
      "source": [
        "object_cols = train_data.select_dtypes(['object'])\n",
        "object_cols.head()"
      ],
      "execution_count": 17,
      "outputs": [
        {
          "output_type": "execute_result",
          "data": {
            "text/html": [
              "<div>\n",
              "<style scoped>\n",
              "    .dataframe tbody tr th:only-of-type {\n",
              "        vertical-align: middle;\n",
              "    }\n",
              "\n",
              "    .dataframe tbody tr th {\n",
              "        vertical-align: top;\n",
              "    }\n",
              "\n",
              "    .dataframe thead th {\n",
              "        text-align: right;\n",
              "    }\n",
              "</style>\n",
              "<table border=\"1\" class=\"dataframe\">\n",
              "  <thead>\n",
              "    <tr style=\"text-align: right;\">\n",
              "      <th></th>\n",
              "      <th>Col1</th>\n",
              "      <th>Col747</th>\n",
              "      <th>Col836</th>\n",
              "    </tr>\n",
              "  </thead>\n",
              "  <tbody>\n",
              "    <tr>\n",
              "      <th>0</th>\n",
              "      <td>RIGHGSN</td>\n",
              "      <td>NaN</td>\n",
              "      <td>NaN</td>\n",
              "    </tr>\n",
              "    <tr>\n",
              "      <th>1</th>\n",
              "      <td>RIMHI5ZGP</td>\n",
              "      <td>NaN</td>\n",
              "      <td>NaN</td>\n",
              "    </tr>\n",
              "    <tr>\n",
              "      <th>2</th>\n",
              "      <td>RIHOG1SZU</td>\n",
              "      <td>NaN</td>\n",
              "      <td>NaN</td>\n",
              "    </tr>\n",
              "    <tr>\n",
              "      <th>3</th>\n",
              "      <td>RIHOLMQWU</td>\n",
              "      <td>NaN</td>\n",
              "      <td>NaN</td>\n",
              "    </tr>\n",
              "    <tr>\n",
              "      <th>4</th>\n",
              "      <td>RIHO584ET</td>\n",
              "      <td>NaN</td>\n",
              "      <td>NaN</td>\n",
              "    </tr>\n",
              "  </tbody>\n",
              "</table>\n",
              "</div>"
            ],
            "text/plain": [
              "        Col1 Col747 Col836\n",
              "0    RIGHGSN    NaN    NaN\n",
              "1  RIMHI5ZGP    NaN    NaN\n",
              "2  RIHOG1SZU    NaN    NaN\n",
              "3  RIHOLMQWU    NaN    NaN\n",
              "4  RIHO584ET    NaN    NaN"
            ]
          },
          "metadata": {
            "tags": []
          },
          "execution_count": 17
        }
      ]
    },
    {
      "cell_type": "markdown",
      "metadata": {
        "id": "fNnS_s_qNTYn",
        "colab_type": "text"
      },
      "source": [
        "### Let's check the number of nan values"
      ]
    },
    {
      "cell_type": "code",
      "metadata": {
        "id": "aU_5CdmgNkj0",
        "colab_type": "code",
        "colab": {
          "base_uri": "https://localhost:8080/",
          "height": 156
        },
        "outputId": "4ca543f8-9ce6-4130-bbed-b67913bcddde"
      },
      "source": [
        "object_cols.info()"
      ],
      "execution_count": 19,
      "outputs": [
        {
          "output_type": "stream",
          "text": [
            "<class 'pandas.core.frame.DataFrame'>\n",
            "RangeIndex: 17521 entries, 0 to 17520\n",
            "Data columns (total 3 columns):\n",
            "Col1      17521 non-null object\n",
            "Col747    626 non-null object\n",
            "Col836    624 non-null object\n",
            "dtypes: object(3)\n",
            "memory usage: 410.7+ KB\n"
          ],
          "name": "stdout"
        }
      ]
    },
    {
      "cell_type": "markdown",
      "metadata": {
        "id": "f-UnQ4hjNmpz",
        "colab_type": "text"
      },
      "source": [
        "Ignoring **Col1** since it is an ID column and highly unlikely to have any information, we can see that it has too many **NaN** values, let's check the values present in the columns"
      ]
    },
    {
      "cell_type": "code",
      "metadata": {
        "id": "eQ-erNxJOOIW",
        "colab_type": "code",
        "colab": {
          "base_uri": "https://localhost:8080/",
          "height": 138
        },
        "outputId": "1c5448c4-85c1-4f6f-e24d-e2093a1fe180"
      },
      "source": [
        "object_cols.loc[:, 'Col747'].value_counts()"
      ],
      "execution_count": 21,
      "outputs": [
        {
          "output_type": "execute_result",
          "data": {
            "text/plain": [
              "0      443\n",
              "-      133\n",
              "0.0     46\n",
              "1        2\n",
              "3        1\n",
              "5.0      1\n",
              "Name: Col747, dtype: int64"
            ]
          },
          "metadata": {
            "tags": []
          },
          "execution_count": 21
        }
      ]
    },
    {
      "cell_type": "code",
      "metadata": {
        "id": "2poqX7IvOXym",
        "colab_type": "code",
        "colab": {
          "base_uri": "https://localhost:8080/",
          "height": 104
        },
        "outputId": "a76befce-c07e-48f6-d1dd-dc12283e5d57"
      },
      "source": [
        "object_cols.loc[:, 'Col836'].value_counts()"
      ],
      "execution_count": 22,
      "outputs": [
        {
          "output_type": "execute_result",
          "data": {
            "text/plain": [
              "0      438\n",
              "-      144\n",
              "0.0     41\n",
              "5        1\n",
              "Name: Col836, dtype: int64"
            ]
          },
          "metadata": {
            "tags": []
          },
          "execution_count": 22
        }
      ]
    },
    {
      "cell_type": "code",
      "metadata": {
        "id": "otNHv5nAOhH1",
        "colab_type": "code",
        "colab": {}
      },
      "source": [
        ""
      ],
      "execution_count": 0,
      "outputs": []
    }
  ]
}