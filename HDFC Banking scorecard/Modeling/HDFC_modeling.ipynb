{
  "nbformat": 4,
  "nbformat_minor": 0,
  "metadata": {
    "colab": {
      "name": "HDFC modeling.ipynb",
      "provenance": [],
      "collapsed_sections": [
        "ZbcG_b7DIiN-"
      ],
      "toc_visible": true
    },
    "kernelspec": {
      "name": "python3",
      "display_name": "Python 3"
    }
  },
  "cells": [
    {
      "cell_type": "markdown",
      "metadata": {
        "id": "ZbcG_b7DIiN-",
        "colab_type": "text"
      },
      "source": [
        "### Prepare storage and get Data"
      ]
    },
    {
      "cell_type": "code",
      "metadata": {
        "id": "9mmOya4ZIMkR",
        "colab_type": "code",
        "outputId": "2433b180-b2b4-4590-e655-a665dc6e4796",
        "colab": {
          "base_uri": "https://localhost:8080/",
          "height": 346
        }
      },
      "source": [
        "!wget -O data.zip http://hck.re/TT3Xkb"
      ],
      "execution_count": 0,
      "outputs": [
        {
          "output_type": "stream",
          "text": [
            "--2019-09-29 14:10:11--  http://hck.re/TT3Xkb\n",
            "Resolving hck.re (hck.re)... 54.169.54.236, 52.220.222.195, 13.250.79.191\n",
            "Connecting to hck.re (hck.re)|54.169.54.236|:80... connected.\n",
            "HTTP request sent, awaiting response... 301 Moved Permanently\n",
            "Cookie coming from hck.re attempted to set domain to hackerearth.com\n",
            "Cookie coming from hck.re attempted to set domain to hackerearth.com\n",
            "Cookie coming from hck.re attempted to set domain to hackerearth.com\n",
            "Location: https://he-s3.s3.amazonaws.com/media/hackathon/hdfc-bank-ml-hiring-challenge-2019/banking-behavioral-scorecard-for-internal-liability-customers-4caf1786/d407ebe0db9a11e9.zip [following]\n",
            "--2019-09-29 14:10:12--  https://he-s3.s3.amazonaws.com/media/hackathon/hdfc-bank-ml-hiring-challenge-2019/banking-behavioral-scorecard-for-internal-liability-customers-4caf1786/d407ebe0db9a11e9.zip\n",
            "Resolving he-s3.s3.amazonaws.com (he-s3.s3.amazonaws.com)... 52.219.40.188\n",
            "Connecting to he-s3.s3.amazonaws.com (he-s3.s3.amazonaws.com)|52.219.40.188|:443... connected.\n",
            "HTTP request sent, awaiting response... 200 OK\n",
            "Length: 52184897 (50M) [application/zip]\n",
            "Saving to: ‘data.zip’\n",
            "\n",
            "data.zip            100%[===================>]  49.77M  13.2MB/s    in 4.3s    \n",
            "\n",
            "2019-09-29 14:10:17 (11.5 MB/s) - ‘data.zip’ saved [52184897/52184897]\n",
            "\n"
          ],
          "name": "stdout"
        }
      ]
    },
    {
      "cell_type": "code",
      "metadata": {
        "id": "rQEca-9NI6eW",
        "colab_type": "code",
        "outputId": "26f87f64-eadc-4110-8a63-6df17d190969",
        "colab": {
          "base_uri": "https://localhost:8080/",
          "height": 98
        }
      },
      "source": [
        "!unzip data.zip"
      ],
      "execution_count": 0,
      "outputs": [
        {
          "output_type": "stream",
          "text": [
            "Archive:  data.zip\n",
            "   creating: DataSet/\n",
            "  inflating: DataSet/Train.csv       \n",
            "  inflating: DataSet/Sample_submission.csv  \n",
            "  inflating: DataSet/Test.csv        \n"
          ],
          "name": "stdout"
        }
      ]
    },
    {
      "cell_type": "markdown",
      "metadata": {
        "id": "r68Wc7DAnpHx",
        "colab_type": "text"
      },
      "source": [
        "### Remove Useless features found in EDA and feature selection"
      ]
    },
    {
      "cell_type": "code",
      "metadata": {
        "id": "9QeggwRBoFjA",
        "colab_type": "code",
        "outputId": "66e438e3-8d88-4289-a6e3-094661f7d6b2",
        "colab": {
          "base_uri": "https://localhost:8080/",
          "height": 33
        }
      },
      "source": [
        "import pickle\n",
        "with open('useless_features', 'rb') as f:\n",
        "    useless_features = pickle.load(f)\n",
        "\n",
        "print(f\"Number of removable features are {len(useless_features)}\")"
      ],
      "execution_count": 0,
      "outputs": [
        {
          "output_type": "stream",
          "text": [
            "Number of removable features are 1719\n"
          ],
          "name": "stdout"
        }
      ]
    },
    {
      "cell_type": "markdown",
      "metadata": {
        "id": "2kZFkWtzJ6Wv",
        "colab_type": "text"
      },
      "source": [
        "###Import Libraries"
      ]
    },
    {
      "cell_type": "code",
      "metadata": {
        "id": "rHT6WaunKRKw",
        "colab_type": "code",
        "colab": {}
      },
      "source": [
        "import pandas as pd\n",
        "from pathlib import Path\n",
        "DATA_PATH = Path('DataSet')"
      ],
      "execution_count": 0,
      "outputs": []
    },
    {
      "cell_type": "markdown",
      "metadata": {
        "id": "K5CHTW2NoxZ5",
        "colab_type": "text"
      },
      "source": [
        "### Read and filter data"
      ]
    },
    {
      "cell_type": "code",
      "metadata": {
        "id": "msviapHhoviK",
        "colab_type": "code",
        "outputId": "387b0750-8aa2-423e-c349-6776ef7345b7",
        "colab": {
          "base_uri": "https://localhost:8080/",
          "height": 102
        }
      },
      "source": [
        "train_data = pd.read_csv(DATA_PATH/'Train.csv', )\n",
        "print(f\"{train_data.shape} features in dataset before filtering\")\n",
        "train_data_filt = train_data[train_data.columns.difference(useless_features)]\n",
        "print(f\"{train_data_filt.shape} features in dataset before filtering\")"
      ],
      "execution_count": 0,
      "outputs": [
        {
          "output_type": "stream",
          "text": [
            "/usr/local/lib/python3.6/dist-packages/IPython/core/interactiveshell.py:2718: DtypeWarning: Columns (746,835) have mixed types. Specify dtype option on import or set low_memory=False.\n",
            "  interactivity=interactivity, compiler=compiler, result=result)\n"
          ],
          "name": "stderr"
        },
        {
          "output_type": "stream",
          "text": [
            "(17521, 2395) features in dataset before filtering\n",
            "(17521, 686) features in dataset before filtering\n"
          ],
          "name": "stdout"
        }
      ]
    },
    {
      "cell_type": "markdown",
      "metadata": {
        "id": "wCvZQeSEqNKk",
        "colab_type": "text"
      },
      "source": [
        "### Check column data types"
      ]
    },
    {
      "cell_type": "code",
      "metadata": {
        "id": "UTK_BC9TqAd-",
        "colab_type": "code",
        "outputId": "80d6f252-e3db-4940-9eea-065a254a1e70",
        "colab": {
          "base_uri": "https://localhost:8080/",
          "height": 322
        }
      },
      "source": [
        "train_data_filt.dtypes.value_counts().plot.bar(title='Data type distribution')"
      ],
      "execution_count": 0,
      "outputs": [
        {
          "output_type": "execute_result",
          "data": {
            "text/plain": [
              "<matplotlib.axes._subplots.AxesSubplot at 0x7f67a07877b8>"
            ]
          },
          "metadata": {
            "tags": []
          },
          "execution_count": 7
        },
        {
          "output_type": "display_data",
          "data": {
            "image/png": "[encoded data removed]",
            "text/plain": [
              "<Figure size 432x288 with 1 Axes>"
            ]
          },
          "metadata": {
            "tags": []
          }
        }
      ]
    },
    {
      "cell_type": "code",
      "metadata": {
        "id": "VDKSYTTYqS0A",
        "colab_type": "code",
        "outputId": "de0d9f1f-aac7-4fa6-96f1-afe7aa6a5f43",
        "colab": {
          "base_uri": "https://localhost:8080/",
          "height": 325
        }
      },
      "source": [
        "train_data_filt.describe()"
      ],
      "execution_count": 0,
      "outputs": [
        {
          "output_type": "execute_result",
          "data": {
            "text/html": [
              "<div>\n",
              "<style scoped>\n",
              "    .dataframe tbody tr th:only-of-type {\n",
              "        vertical-align: middle;\n",
              "    }\n",
              "\n",
              "    .dataframe tbody tr th {\n",
              "        vertical-align: top;\n",
              "    }\n",
              "\n",
              "    .dataframe thead th {\n",
              "        text-align: right;\n",
              "    }\n",
              "</style>\n",
              "<table border=\"1\" class=\"dataframe\">\n",
              "  <thead>\n",
              "    <tr style=\"text-align: right;\">\n",
              "      <th></th>\n",
              "      <th>Col10</th>\n",
              "      <th>Col100</th>\n",
              "      <th>Col1000</th>\n",
              "      <th>Col1002</th>\n",
              "      <th>Col1003</th>\n",
              "      <th>Col1008</th>\n",
              "      <th>Col1009</th>\n",
              "      <th>Col101</th>\n",
              "      <th>Col102</th>\n",
              "      <th>Col1020</th>\n",
              "      <th>Col1021</th>\n",
              "      <th>Col1024</th>\n",
              "      <th>Col1025</th>\n",
              "      <th>Col1026</th>\n",
              "      <th>Col1028</th>\n",
              "      <th>Col1029</th>\n",
              "      <th>Col103</th>\n",
              "      <th>Col1030</th>\n",
              "      <th>Col1031</th>\n",
              "      <th>Col1036</th>\n",
              "      <th>Col104</th>\n",
              "      <th>Col1044</th>\n",
              "      <th>Col1048</th>\n",
              "      <th>Col1049</th>\n",
              "      <th>Col105</th>\n",
              "      <th>Col1050</th>\n",
              "      <th>Col1051</th>\n",
              "      <th>Col1054</th>\n",
              "      <th>Col106</th>\n",
              "      <th>Col1068</th>\n",
              "      <th>Col107</th>\n",
              "      <th>Col1070</th>\n",
              "      <th>Col1072</th>\n",
              "      <th>Col1073</th>\n",
              "      <th>Col1093</th>\n",
              "      <th>Col1095</th>\n",
              "      <th>Col11</th>\n",
              "      <th>Col1116</th>\n",
              "      <th>Col1118</th>\n",
              "      <th>Col1119</th>\n",
              "      <th>...</th>\n",
              "      <th>Col931</th>\n",
              "      <th>Col933</th>\n",
              "      <th>Col934</th>\n",
              "      <th>Col935</th>\n",
              "      <th>Col936</th>\n",
              "      <th>Col937</th>\n",
              "      <th>Col938</th>\n",
              "      <th>Col939</th>\n",
              "      <th>Col94</th>\n",
              "      <th>Col942</th>\n",
              "      <th>Col943</th>\n",
              "      <th>Col944</th>\n",
              "      <th>Col95</th>\n",
              "      <th>Col950</th>\n",
              "      <th>Col951</th>\n",
              "      <th>Col952</th>\n",
              "      <th>Col953</th>\n",
              "      <th>Col954</th>\n",
              "      <th>Col956</th>\n",
              "      <th>Col957</th>\n",
              "      <th>Col958</th>\n",
              "      <th>Col959</th>\n",
              "      <th>Col96</th>\n",
              "      <th>Col964</th>\n",
              "      <th>Col97</th>\n",
              "      <th>Col970</th>\n",
              "      <th>Col971</th>\n",
              "      <th>Col976</th>\n",
              "      <th>Col977</th>\n",
              "      <th>Col98</th>\n",
              "      <th>Col980</th>\n",
              "      <th>Col981</th>\n",
              "      <th>Col982</th>\n",
              "      <th>Col983</th>\n",
              "      <th>Col986</th>\n",
              "      <th>Col99</th>\n",
              "      <th>Col996</th>\n",
              "      <th>Col997</th>\n",
              "      <th>Col998</th>\n",
              "      <th>Col999</th>\n",
              "    </tr>\n",
              "  </thead>\n",
              "  <tbody>\n",
              "    <tr>\n",
              "      <th>count</th>\n",
              "      <td>1.752100e+04</td>\n",
              "      <td>11539.000000</td>\n",
              "      <td>17521.000000</td>\n",
              "      <td>17521.000000</td>\n",
              "      <td>17521.000000</td>\n",
              "      <td>17521.000000</td>\n",
              "      <td>17521.000000</td>\n",
              "      <td>11842.000000</td>\n",
              "      <td>10470.000000</td>\n",
              "      <td>17521.000000</td>\n",
              "      <td>17521.000000</td>\n",
              "      <td>17521.000000</td>\n",
              "      <td>17521.000000</td>\n",
              "      <td>17521.000000</td>\n",
              "      <td>17521.000000</td>\n",
              "      <td>17521.000000</td>\n",
              "      <td>9990.000000</td>\n",
              "      <td>17521.000000</td>\n",
              "      <td>17521.000000</td>\n",
              "      <td>17521.000000</td>\n",
              "      <td>9509.000000</td>\n",
              "      <td>17521.000000</td>\n",
              "      <td>17521.000000</td>\n",
              "      <td>17521.000000</td>\n",
              "      <td>7803.000000</td>\n",
              "      <td>17521.000000</td>\n",
              "      <td>17521.000000</td>\n",
              "      <td>17521.000000</td>\n",
              "      <td>16099.000000</td>\n",
              "      <td>17521.000000</td>\n",
              "      <td>15637.000000</td>\n",
              "      <td>17521.000000</td>\n",
              "      <td>17521.000000</td>\n",
              "      <td>17521.000000</td>\n",
              "      <td>17521.000000</td>\n",
              "      <td>17521.000000</td>\n",
              "      <td>1.752100e+04</td>\n",
              "      <td>17521.000000</td>\n",
              "      <td>17521.000000</td>\n",
              "      <td>17521.000000</td>\n",
              "      <td>...</td>\n",
              "      <td>16275.000000</td>\n",
              "      <td>16170.000000</td>\n",
              "      <td>17521.000000</td>\n",
              "      <td>17521.000000</td>\n",
              "      <td>17521.000000</td>\n",
              "      <td>17521.000000</td>\n",
              "      <td>17521.000000</td>\n",
              "      <td>17521.000000</td>\n",
              "      <td>14079.000000</td>\n",
              "      <td>17521.000000</td>\n",
              "      <td>17521.000000</td>\n",
              "      <td>17521.000000</td>\n",
              "      <td>11221.000000</td>\n",
              "      <td>17521.000000</td>\n",
              "      <td>17521.000000</td>\n",
              "      <td>17521.000000</td>\n",
              "      <td>17521.000000</td>\n",
              "      <td>17521.000000</td>\n",
              "      <td>17521.000000</td>\n",
              "      <td>17521.000000</td>\n",
              "      <td>17521.000000</td>\n",
              "      <td>17521.000000</td>\n",
              "      <td>13274.000000</td>\n",
              "      <td>17521.000000</td>\n",
              "      <td>8165.000000</td>\n",
              "      <td>17521.000000</td>\n",
              "      <td>17521.000000</td>\n",
              "      <td>17521.000000</td>\n",
              "      <td>17521.000000</td>\n",
              "      <td>12405.000000</td>\n",
              "      <td>17521.000000</td>\n",
              "      <td>17521.000000</td>\n",
              "      <td>17521.000000</td>\n",
              "      <td>17521.000000</td>\n",
              "      <td>17521.000000</td>\n",
              "      <td>4488.000000</td>\n",
              "      <td>17521.000000</td>\n",
              "      <td>17521.000000</td>\n",
              "      <td>17521.000000</td>\n",
              "      <td>17521.000000</td>\n",
              "    </tr>\n",
              "    <tr>\n",
              "      <th>mean</th>\n",
              "      <td>2.971069e+04</td>\n",
              "      <td>1.309386</td>\n",
              "      <td>1.939273</td>\n",
              "      <td>1.912505</td>\n",
              "      <td>1.242452</td>\n",
              "      <td>1.253011</td>\n",
              "      <td>0.926317</td>\n",
              "      <td>1.149046</td>\n",
              "      <td>1.460267</td>\n",
              "      <td>2.003196</td>\n",
              "      <td>1.418241</td>\n",
              "      <td>2.052337</td>\n",
              "      <td>1.460647</td>\n",
              "      <td>2.278865</td>\n",
              "      <td>2.239826</td>\n",
              "      <td>1.441927</td>\n",
              "      <td>1.283183</td>\n",
              "      <td>1.266138</td>\n",
              "      <td>1.237829</td>\n",
              "      <td>0.935734</td>\n",
              "      <td>1.547586</td>\n",
              "      <td>1.281605</td>\n",
              "      <td>1.274528</td>\n",
              "      <td>1.243080</td>\n",
              "      <td>1.417404</td>\n",
              "      <td>1.219565</td>\n",
              "      <td>1.110553</td>\n",
              "      <td>1.265909</td>\n",
              "      <td>1.437693</td>\n",
              "      <td>1.175618</td>\n",
              "      <td>2.090463</td>\n",
              "      <td>1.319731</td>\n",
              "      <td>1.349409</td>\n",
              "      <td>1.257862</td>\n",
              "      <td>1.241539</td>\n",
              "      <td>1.146681</td>\n",
              "      <td>3.617392e+04</td>\n",
              "      <td>1.966212</td>\n",
              "      <td>2.035101</td>\n",
              "      <td>1.045431</td>\n",
              "      <td>...</td>\n",
              "      <td>0.358401</td>\n",
              "      <td>0.352756</td>\n",
              "      <td>2.366931</td>\n",
              "      <td>1.476571</td>\n",
              "      <td>2.454769</td>\n",
              "      <td>1.667941</td>\n",
              "      <td>1.355060</td>\n",
              "      <td>1.342218</td>\n",
              "      <td>1.375453</td>\n",
              "      <td>1.297871</td>\n",
              "      <td>1.271046</td>\n",
              "      <td>0.986702</td>\n",
              "      <td>1.059977</td>\n",
              "      <td>0.311169</td>\n",
              "      <td>0.316649</td>\n",
              "      <td>1.377604</td>\n",
              "      <td>1.498031</td>\n",
              "      <td>1.366931</td>\n",
              "      <td>1.481023</td>\n",
              "      <td>1.476457</td>\n",
              "      <td>1.420638</td>\n",
              "      <td>1.338223</td>\n",
              "      <td>1.659861</td>\n",
              "      <td>1.040352</td>\n",
              "      <td>1.296754</td>\n",
              "      <td>1.324239</td>\n",
              "      <td>1.127961</td>\n",
              "      <td>1.428457</td>\n",
              "      <td>1.520119</td>\n",
              "      <td>1.864248</td>\n",
              "      <td>1.551053</td>\n",
              "      <td>1.490840</td>\n",
              "      <td>1.738029</td>\n",
              "      <td>1.117573</td>\n",
              "      <td>1.616346</td>\n",
              "      <td>1.479501</td>\n",
              "      <td>1.830432</td>\n",
              "      <td>1.241653</td>\n",
              "      <td>1.704412</td>\n",
              "      <td>1.134068</td>\n",
              "    </tr>\n",
              "    <tr>\n",
              "      <th>std</th>\n",
              "      <td>2.981508e+05</td>\n",
              "      <td>1.347284</td>\n",
              "      <td>1.225849</td>\n",
              "      <td>1.306265</td>\n",
              "      <td>0.992497</td>\n",
              "      <td>1.269177</td>\n",
              "      <td>1.000738</td>\n",
              "      <td>1.190422</td>\n",
              "      <td>1.414652</td>\n",
              "      <td>1.254940</td>\n",
              "      <td>1.032108</td>\n",
              "      <td>1.263986</td>\n",
              "      <td>1.047696</td>\n",
              "      <td>1.134038</td>\n",
              "      <td>1.120488</td>\n",
              "      <td>1.008219</td>\n",
              "      <td>1.256871</td>\n",
              "      <td>1.068007</td>\n",
              "      <td>1.045046</td>\n",
              "      <td>1.039671</td>\n",
              "      <td>1.459224</td>\n",
              "      <td>1.037058</td>\n",
              "      <td>1.021334</td>\n",
              "      <td>1.004605</td>\n",
              "      <td>1.307870</td>\n",
              "      <td>1.068657</td>\n",
              "      <td>1.007190</td>\n",
              "      <td>1.092318</td>\n",
              "      <td>9.918549</td>\n",
              "      <td>1.023263</td>\n",
              "      <td>17.141681</td>\n",
              "      <td>1.094164</td>\n",
              "      <td>1.068459</td>\n",
              "      <td>1.028392</td>\n",
              "      <td>0.957362</td>\n",
              "      <td>0.953096</td>\n",
              "      <td>2.612427e+05</td>\n",
              "      <td>1.214496</td>\n",
              "      <td>1.051402</td>\n",
              "      <td>0.881437</td>\n",
              "      <td>...</td>\n",
              "      <td>0.262387</td>\n",
              "      <td>0.276509</td>\n",
              "      <td>1.173139</td>\n",
              "      <td>0.985472</td>\n",
              "      <td>1.184335</td>\n",
              "      <td>1.040835</td>\n",
              "      <td>1.121657</td>\n",
              "      <td>1.108345</td>\n",
              "      <td>1.404166</td>\n",
              "      <td>1.114619</td>\n",
              "      <td>1.119967</td>\n",
              "      <td>1.092939</td>\n",
              "      <td>1.109698</td>\n",
              "      <td>0.663183</td>\n",
              "      <td>0.659460</td>\n",
              "      <td>1.090321</td>\n",
              "      <td>1.132293</td>\n",
              "      <td>1.124905</td>\n",
              "      <td>1.113685</td>\n",
              "      <td>1.107327</td>\n",
              "      <td>1.159286</td>\n",
              "      <td>1.099338</td>\n",
              "      <td>1.507841</td>\n",
              "      <td>1.137280</td>\n",
              "      <td>1.222841</td>\n",
              "      <td>1.134429</td>\n",
              "      <td>1.011213</td>\n",
              "      <td>1.113496</td>\n",
              "      <td>1.141355</td>\n",
              "      <td>1.569506</td>\n",
              "      <td>1.146679</td>\n",
              "      <td>1.114065</td>\n",
              "      <td>1.202299</td>\n",
              "      <td>0.936689</td>\n",
              "      <td>1.230164</td>\n",
              "      <td>1.322864</td>\n",
              "      <td>1.174190</td>\n",
              "      <td>0.952611</td>\n",
              "      <td>1.232507</td>\n",
              "      <td>0.977664</td>\n",
              "    </tr>\n",
              "    <tr>\n",
              "      <th>min</th>\n",
              "      <td>0.000000e+00</td>\n",
              "      <td>0.000000</td>\n",
              "      <td>0.000000</td>\n",
              "      <td>0.000000</td>\n",
              "      <td>0.000000</td>\n",
              "      <td>0.000000</td>\n",
              "      <td>0.000000</td>\n",
              "      <td>0.000000</td>\n",
              "      <td>0.000000</td>\n",
              "      <td>0.000000</td>\n",
              "      <td>0.000000</td>\n",
              "      <td>0.000000</td>\n",
              "      <td>0.000000</td>\n",
              "      <td>0.000000</td>\n",
              "      <td>0.000000</td>\n",
              "      <td>0.000000</td>\n",
              "      <td>0.000000</td>\n",
              "      <td>0.000000</td>\n",
              "      <td>0.000000</td>\n",
              "      <td>0.000000</td>\n",
              "      <td>0.000000</td>\n",
              "      <td>0.000000</td>\n",
              "      <td>0.000000</td>\n",
              "      <td>0.000000</td>\n",
              "      <td>0.000000</td>\n",
              "      <td>0.000000</td>\n",
              "      <td>0.000000</td>\n",
              "      <td>0.000000</td>\n",
              "      <td>-154.244141</td>\n",
              "      <td>0.000000</td>\n",
              "      <td>-210.023233</td>\n",
              "      <td>0.000000</td>\n",
              "      <td>0.000000</td>\n",
              "      <td>0.000000</td>\n",
              "      <td>0.000000</td>\n",
              "      <td>0.000000</td>\n",
              "      <td>0.000000e+00</td>\n",
              "      <td>0.000000</td>\n",
              "      <td>0.000000</td>\n",
              "      <td>0.000000</td>\n",
              "      <td>...</td>\n",
              "      <td>0.000000</td>\n",
              "      <td>0.000000</td>\n",
              "      <td>0.000000</td>\n",
              "      <td>0.000000</td>\n",
              "      <td>0.000000</td>\n",
              "      <td>0.000000</td>\n",
              "      <td>0.000000</td>\n",
              "      <td>0.000000</td>\n",
              "      <td>0.000000</td>\n",
              "      <td>0.000000</td>\n",
              "      <td>0.000000</td>\n",
              "      <td>0.000000</td>\n",
              "      <td>0.000000</td>\n",
              "      <td>0.000000</td>\n",
              "      <td>0.000000</td>\n",
              "      <td>0.000000</td>\n",
              "      <td>0.000000</td>\n",
              "      <td>0.000000</td>\n",
              "      <td>0.000000</td>\n",
              "      <td>0.000000</td>\n",
              "      <td>0.000000</td>\n",
              "      <td>0.000000</td>\n",
              "      <td>0.000000</td>\n",
              "      <td>0.000000</td>\n",
              "      <td>0.000000</td>\n",
              "      <td>0.000000</td>\n",
              "      <td>0.000000</td>\n",
              "      <td>0.000000</td>\n",
              "      <td>0.000000</td>\n",
              "      <td>0.000000</td>\n",
              "      <td>0.000000</td>\n",
              "      <td>0.000000</td>\n",
              "      <td>0.000000</td>\n",
              "      <td>0.000000</td>\n",
              "      <td>0.000000</td>\n",
              "      <td>0.000000</td>\n",
              "      <td>0.000000</td>\n",
              "      <td>0.000000</td>\n",
              "      <td>0.000000</td>\n",
              "      <td>0.000000</td>\n",
              "    </tr>\n",
              "    <tr>\n",
              "      <th>25%</th>\n",
              "      <td>1.787456e+03</td>\n",
              "      <td>0.000000</td>\n",
              "      <td>1.000000</td>\n",
              "      <td>1.000000</td>\n",
              "      <td>0.000000</td>\n",
              "      <td>0.000000</td>\n",
              "      <td>0.000000</td>\n",
              "      <td>0.000000</td>\n",
              "      <td>0.000000</td>\n",
              "      <td>1.000000</td>\n",
              "      <td>1.000000</td>\n",
              "      <td>1.000000</td>\n",
              "      <td>1.000000</td>\n",
              "      <td>2.000000</td>\n",
              "      <td>2.000000</td>\n",
              "      <td>1.000000</td>\n",
              "      <td>0.000000</td>\n",
              "      <td>0.000000</td>\n",
              "      <td>0.000000</td>\n",
              "      <td>0.000000</td>\n",
              "      <td>0.000000</td>\n",
              "      <td>0.000000</td>\n",
              "      <td>0.000000</td>\n",
              "      <td>0.000000</td>\n",
              "      <td>0.000000</td>\n",
              "      <td>0.000000</td>\n",
              "      <td>0.000000</td>\n",
              "      <td>0.000000</td>\n",
              "      <td>0.032911</td>\n",
              "      <td>0.000000</td>\n",
              "      <td>-0.104605</td>\n",
              "      <td>0.000000</td>\n",
              "      <td>0.000000</td>\n",
              "      <td>0.000000</td>\n",
              "      <td>1.000000</td>\n",
              "      <td>0.000000</td>\n",
              "      <td>3.505288e+03</td>\n",
              "      <td>1.000000</td>\n",
              "      <td>1.000000</td>\n",
              "      <td>0.000000</td>\n",
              "      <td>...</td>\n",
              "      <td>0.128323</td>\n",
              "      <td>0.100000</td>\n",
              "      <td>2.000000</td>\n",
              "      <td>1.000000</td>\n",
              "      <td>2.000000</td>\n",
              "      <td>1.000000</td>\n",
              "      <td>0.000000</td>\n",
              "      <td>0.000000</td>\n",
              "      <td>0.000000</td>\n",
              "      <td>0.000000</td>\n",
              "      <td>0.000000</td>\n",
              "      <td>0.000000</td>\n",
              "      <td>0.000000</td>\n",
              "      <td>0.000000</td>\n",
              "      <td>0.000000</td>\n",
              "      <td>0.000000</td>\n",
              "      <td>1.000000</td>\n",
              "      <td>0.000000</td>\n",
              "      <td>1.000000</td>\n",
              "      <td>1.000000</td>\n",
              "      <td>0.000000</td>\n",
              "      <td>0.000000</td>\n",
              "      <td>0.000000</td>\n",
              "      <td>0.000000</td>\n",
              "      <td>0.000000</td>\n",
              "      <td>0.000000</td>\n",
              "      <td>0.000000</td>\n",
              "      <td>0.000000</td>\n",
              "      <td>1.000000</td>\n",
              "      <td>0.000000</td>\n",
              "      <td>1.000000</td>\n",
              "      <td>1.000000</td>\n",
              "      <td>1.000000</td>\n",
              "      <td>0.000000</td>\n",
              "      <td>1.000000</td>\n",
              "      <td>0.000000</td>\n",
              "      <td>1.000000</td>\n",
              "      <td>1.000000</td>\n",
              "      <td>1.000000</td>\n",
              "      <td>0.000000</td>\n",
              "    </tr>\n",
              "    <tr>\n",
              "      <th>50%</th>\n",
              "      <td>5.536147e+03</td>\n",
              "      <td>1.000000</td>\n",
              "      <td>2.000000</td>\n",
              "      <td>2.000000</td>\n",
              "      <td>1.000000</td>\n",
              "      <td>1.000000</td>\n",
              "      <td>1.000000</td>\n",
              "      <td>1.000000</td>\n",
              "      <td>1.000000</td>\n",
              "      <td>2.000000</td>\n",
              "      <td>1.000000</td>\n",
              "      <td>2.000000</td>\n",
              "      <td>1.000000</td>\n",
              "      <td>2.000000</td>\n",
              "      <td>2.000000</td>\n",
              "      <td>1.000000</td>\n",
              "      <td>1.000000</td>\n",
              "      <td>1.000000</td>\n",
              "      <td>1.000000</td>\n",
              "      <td>1.000000</td>\n",
              "      <td>1.000000</td>\n",
              "      <td>1.000000</td>\n",
              "      <td>1.000000</td>\n",
              "      <td>1.000000</td>\n",
              "      <td>1.000000</td>\n",
              "      <td>1.000000</td>\n",
              "      <td>1.000000</td>\n",
              "      <td>1.000000</td>\n",
              "      <td>0.401132</td>\n",
              "      <td>1.000000</td>\n",
              "      <td>0.193541</td>\n",
              "      <td>1.000000</td>\n",
              "      <td>1.000000</td>\n",
              "      <td>1.000000</td>\n",
              "      <td>1.000000</td>\n",
              "      <td>1.000000</td>\n",
              "      <td>8.832639e+03</td>\n",
              "      <td>2.000000</td>\n",
              "      <td>2.000000</td>\n",
              "      <td>1.000000</td>\n",
              "      <td>...</td>\n",
              "      <td>0.333333</td>\n",
              "      <td>0.326087</td>\n",
              "      <td>2.000000</td>\n",
              "      <td>1.000000</td>\n",
              "      <td>3.000000</td>\n",
              "      <td>2.000000</td>\n",
              "      <td>1.000000</td>\n",
              "      <td>1.000000</td>\n",
              "      <td>1.000000</td>\n",
              "      <td>1.000000</td>\n",
              "      <td>1.000000</td>\n",
              "      <td>1.000000</td>\n",
              "      <td>1.000000</td>\n",
              "      <td>0.000000</td>\n",
              "      <td>0.000000</td>\n",
              "      <td>1.000000</td>\n",
              "      <td>1.000000</td>\n",
              "      <td>1.000000</td>\n",
              "      <td>1.000000</td>\n",
              "      <td>1.000000</td>\n",
              "      <td>1.000000</td>\n",
              "      <td>1.000000</td>\n",
              "      <td>1.000000</td>\n",
              "      <td>1.000000</td>\n",
              "      <td>1.000000</td>\n",
              "      <td>1.000000</td>\n",
              "      <td>1.000000</td>\n",
              "      <td>1.000000</td>\n",
              "      <td>2.000000</td>\n",
              "      <td>2.000000</td>\n",
              "      <td>2.000000</td>\n",
              "      <td>1.000000</td>\n",
              "      <td>2.000000</td>\n",
              "      <td>1.000000</td>\n",
              "      <td>2.000000</td>\n",
              "      <td>1.000000</td>\n",
              "      <td>2.000000</td>\n",
              "      <td>1.000000</td>\n",
              "      <td>2.000000</td>\n",
              "      <td>1.000000</td>\n",
              "    </tr>\n",
              "    <tr>\n",
              "      <th>75%</th>\n",
              "      <td>1.753976e+04</td>\n",
              "      <td>2.000000</td>\n",
              "      <td>3.000000</td>\n",
              "      <td>3.000000</td>\n",
              "      <td>2.000000</td>\n",
              "      <td>2.000000</td>\n",
              "      <td>2.000000</td>\n",
              "      <td>2.000000</td>\n",
              "      <td>2.000000</td>\n",
              "      <td>3.000000</td>\n",
              "      <td>2.000000</td>\n",
              "      <td>3.000000</td>\n",
              "      <td>2.000000</td>\n",
              "      <td>3.000000</td>\n",
              "      <td>3.000000</td>\n",
              "      <td>2.000000</td>\n",
              "      <td>2.000000</td>\n",
              "      <td>2.000000</td>\n",
              "      <td>2.000000</td>\n",
              "      <td>2.000000</td>\n",
              "      <td>3.000000</td>\n",
              "      <td>2.000000</td>\n",
              "      <td>2.000000</td>\n",
              "      <td>2.000000</td>\n",
              "      <td>2.000000</td>\n",
              "      <td>2.000000</td>\n",
              "      <td>2.000000</td>\n",
              "      <td>2.000000</td>\n",
              "      <td>1.267750</td>\n",
              "      <td>2.000000</td>\n",
              "      <td>0.943240</td>\n",
              "      <td>2.000000</td>\n",
              "      <td>2.000000</td>\n",
              "      <td>2.000000</td>\n",
              "      <td>2.000000</td>\n",
              "      <td>2.000000</td>\n",
              "      <td>2.341911e+04</td>\n",
              "      <td>3.000000</td>\n",
              "      <td>3.000000</td>\n",
              "      <td>2.000000</td>\n",
              "      <td>...</td>\n",
              "      <td>0.559322</td>\n",
              "      <td>0.563339</td>\n",
              "      <td>3.000000</td>\n",
              "      <td>2.000000</td>\n",
              "      <td>3.000000</td>\n",
              "      <td>2.000000</td>\n",
              "      <td>2.000000</td>\n",
              "      <td>2.000000</td>\n",
              "      <td>2.000000</td>\n",
              "      <td>2.000000</td>\n",
              "      <td>2.000000</td>\n",
              "      <td>2.000000</td>\n",
              "      <td>2.000000</td>\n",
              "      <td>0.000000</td>\n",
              "      <td>0.000000</td>\n",
              "      <td>2.000000</td>\n",
              "      <td>2.000000</td>\n",
              "      <td>2.000000</td>\n",
              "      <td>2.000000</td>\n",
              "      <td>2.000000</td>\n",
              "      <td>2.000000</td>\n",
              "      <td>2.000000</td>\n",
              "      <td>3.000000</td>\n",
              "      <td>2.000000</td>\n",
              "      <td>2.000000</td>\n",
              "      <td>2.000000</td>\n",
              "      <td>2.000000</td>\n",
              "      <td>2.000000</td>\n",
              "      <td>2.000000</td>\n",
              "      <td>3.000000</td>\n",
              "      <td>2.000000</td>\n",
              "      <td>2.000000</td>\n",
              "      <td>3.000000</td>\n",
              "      <td>2.000000</td>\n",
              "      <td>3.000000</td>\n",
              "      <td>2.000000</td>\n",
              "      <td>3.000000</td>\n",
              "      <td>2.000000</td>\n",
              "      <td>3.000000</td>\n",
              "      <td>2.000000</td>\n",
              "    </tr>\n",
              "    <tr>\n",
              "      <th>max</th>\n",
              "      <td>2.788633e+07</td>\n",
              "      <td>7.000000</td>\n",
              "      <td>6.000000</td>\n",
              "      <td>6.000000</td>\n",
              "      <td>5.000000</td>\n",
              "      <td>6.000000</td>\n",
              "      <td>5.000000</td>\n",
              "      <td>10.000000</td>\n",
              "      <td>7.000000</td>\n",
              "      <td>6.000000</td>\n",
              "      <td>6.000000</td>\n",
              "      <td>6.000000</td>\n",
              "      <td>5.000000</td>\n",
              "      <td>7.000000</td>\n",
              "      <td>6.000000</td>\n",
              "      <td>6.000000</td>\n",
              "      <td>10.000000</td>\n",
              "      <td>5.000000</td>\n",
              "      <td>6.000000</td>\n",
              "      <td>5.000000</td>\n",
              "      <td>10.000000</td>\n",
              "      <td>5.000000</td>\n",
              "      <td>5.000000</td>\n",
              "      <td>5.000000</td>\n",
              "      <td>10.000000</td>\n",
              "      <td>5.000000</td>\n",
              "      <td>5.000000</td>\n",
              "      <td>5.000000</td>\n",
              "      <td>1043.172719</td>\n",
              "      <td>5.000000</td>\n",
              "      <td>1130.618948</td>\n",
              "      <td>5.000000</td>\n",
              "      <td>5.000000</td>\n",
              "      <td>5.000000</td>\n",
              "      <td>5.000000</td>\n",
              "      <td>5.000000</td>\n",
              "      <td>1.314762e+07</td>\n",
              "      <td>6.000000</td>\n",
              "      <td>6.000000</td>\n",
              "      <td>5.000000</td>\n",
              "      <td>...</td>\n",
              "      <td>1.000000</td>\n",
              "      <td>1.000000</td>\n",
              "      <td>7.000000</td>\n",
              "      <td>5.000000</td>\n",
              "      <td>7.000000</td>\n",
              "      <td>6.000000</td>\n",
              "      <td>6.000000</td>\n",
              "      <td>6.000000</td>\n",
              "      <td>8.000000</td>\n",
              "      <td>5.000000</td>\n",
              "      <td>5.000000</td>\n",
              "      <td>5.000000</td>\n",
              "      <td>10.000000</td>\n",
              "      <td>5.000000</td>\n",
              "      <td>5.000000</td>\n",
              "      <td>6.000000</td>\n",
              "      <td>6.000000</td>\n",
              "      <td>5.000000</td>\n",
              "      <td>6.000000</td>\n",
              "      <td>5.000000</td>\n",
              "      <td>6.000000</td>\n",
              "      <td>6.000000</td>\n",
              "      <td>10.000000</td>\n",
              "      <td>5.000000</td>\n",
              "      <td>10.000000</td>\n",
              "      <td>6.000000</td>\n",
              "      <td>5.000000</td>\n",
              "      <td>5.000000</td>\n",
              "      <td>8.000000</td>\n",
              "      <td>10.000000</td>\n",
              "      <td>6.000000</td>\n",
              "      <td>5.000000</td>\n",
              "      <td>6.000000</td>\n",
              "      <td>5.000000</td>\n",
              "      <td>6.000000</td>\n",
              "      <td>10.000000</td>\n",
              "      <td>6.000000</td>\n",
              "      <td>6.000000</td>\n",
              "      <td>6.000000</td>\n",
              "      <td>5.000000</td>\n",
              "    </tr>\n",
              "  </tbody>\n",
              "</table>\n",
              "<p>8 rows × 686 columns</p>\n",
              "</div>"
            ],
            "text/plain": [
              "              Col10        Col100  ...        Col998        Col999\n",
              "count  1.752100e+04  11539.000000  ...  17521.000000  17521.000000\n",
              "mean   2.971069e+04      1.309386  ...      1.704412      1.134068\n",
              "std    2.981508e+05      1.347284  ...      1.232507      0.977664\n",
              "min    0.000000e+00      0.000000  ...      0.000000      0.000000\n",
              "25%    1.787456e+03      0.000000  ...      1.000000      0.000000\n",
              "50%    5.536147e+03      1.000000  ...      2.000000      1.000000\n",
              "75%    1.753976e+04      2.000000  ...      3.000000      2.000000\n",
              "max    2.788633e+07      7.000000  ...      6.000000      5.000000\n",
              "\n",
              "[8 rows x 686 columns]"
            ]
          },
          "metadata": {
            "tags": []
          },
          "execution_count": 8
        }
      ]
    },
    {
      "cell_type": "markdown",
      "metadata": {
        "id": "THaRcJy3qhRu",
        "colab_type": "text"
      },
      "source": [
        "There seems to be need to scale the data in order to perform better modeling with **non-tree** type classifiers. So let's try modeling with Decision tree classifier"
      ]
    },
    {
      "cell_type": "markdown",
      "metadata": {
        "id": "2pFUuyGp8tCg",
        "colab_type": "text"
      },
      "source": [
        "### Impute missing data"
      ]
    },
    {
      "cell_type": "code",
      "metadata": {
        "id": "ZoE3B8zMwxWz",
        "colab_type": "code",
        "outputId": "70125844-be94-40fb-8baa-d08177d40dfd",
        "colab": {
          "base_uri": "https://localhost:8080/",
          "height": 66
        }
      },
      "source": [
        "from sklearn.experimental import enable_iterative_imputer\n",
        "from sklearn.impute import IterativeImputer\n",
        "\n",
        "X = train_data_filt.drop(['Col2'], axis=1).values\n",
        "y = train_data_filt.Col2.values\n",
        "\n",
        "imp = IterativeImputer(max_iter=20, random_state=0, verbose=2)\n",
        "\n",
        "X_imp = imp.fit_transform(X, y)"
      ],
      "execution_count": 0,
      "outputs": [
        {
          "output_type": "stream",
          "text": [
            "[IterativeImputer] Completing matrix with shape (17521, 685)\n",
            "[IterativeImputer] Ending imputation round 1/20, elapsed time 1472.67\n",
            "[IterativeImputer] Early stopping criterion reached.\n"
          ],
          "name": "stdout"
        }
      ]
    },
    {
      "cell_type": "markdown",
      "metadata": {
        "id": "LnY686S_5mEY",
        "colab_type": "text"
      },
      "source": [
        "### Perform Model building and Cross validation"
      ]
    },
    {
      "cell_type": "code",
      "metadata": {
        "id": "jY42Rf-NqyiE",
        "colab_type": "code",
        "outputId": "f1d1858b-19fd-44e2-ba55-d1649e08fcc0",
        "colab": {
          "base_uri": "https://localhost:8080/",
          "height": 66
        }
      },
      "source": [
        "from sklearn.tree import DecisionTreeClassifier\n",
        "from sklearn.tree.export import export_text\n",
        "from sklearn.model_selection import cross_validate\n",
        "from sklearn.metrics import f1_score\n",
        "from sklearn.model_selection import StratifiedKFold\n",
        "from sklearn.metrics.scorer import make_scorer\n",
        "\n",
        "decision_tree = DecisionTreeClassifier(random_state=0, max_depth=10)\n",
        "\n",
        "# weighted f1_score\n",
        "wgted_f1 = make_scorer(f1_score, average='weighted')\n",
        "# Stratified split since we have class imbalance\n",
        "skf = StratifiedKFold(n_splits=5)\n",
        "scoring = dict(weighted_f1 = wgted_f1)\n",
        "\n",
        "scores = cross_validate(decision_tree, X_imp, y, scoring=scoring,\n",
        "                        cv=skf.split(X_imp, y), return_estimator=True,\n",
        "                        n_jobs=-1, verbose=2)"
      ],
      "execution_count": 0,
      "outputs": [
        {
          "output_type": "stream",
          "text": [
            "[Parallel(n_jobs=-1)]: Using backend LokyBackend with 2 concurrent workers.\n",
            "[Parallel(n_jobs=-1)]: Done   5 out of   5 | elapsed:   24.4s remaining:    0.0s\n",
            "[Parallel(n_jobs=-1)]: Done   5 out of   5 | elapsed:   24.4s finished\n"
          ],
          "name": "stderr"
        }
      ]
    },
    {
      "cell_type": "code",
      "metadata": {
        "id": "U_1I3s2-wSV8",
        "colab_type": "code",
        "outputId": "ea2e7214-39ff-454b-8c2a-241e8eeed961",
        "colab": {
          "base_uri": "https://localhost:8080/",
          "height": 33
        }
      },
      "source": [
        "sorted(scores.keys())"
      ],
      "execution_count": 0,
      "outputs": [
        {
          "output_type": "execute_result",
          "data": {
            "text/plain": [
              "['estimator', 'fit_time', 'score_time', 'test_weighted_f1']"
            ]
          },
          "metadata": {
            "tags": []
          },
          "execution_count": 12
        }
      ]
    },
    {
      "cell_type": "code",
      "metadata": {
        "id": "z1-86_rB4kl6",
        "colab_type": "code",
        "outputId": "e366cf7b-e208-42f2-8a86-b41b2fb8484d",
        "colab": {
          "base_uri": "https://localhost:8080/",
          "height": 33
        }
      },
      "source": [
        "scores['test_weighted_f1']"
      ],
      "execution_count": 0,
      "outputs": [
        {
          "output_type": "execute_result",
          "data": {
            "text/plain": [
              "array([0.85688656, 0.86460008, 0.85557827, 0.85318739, 0.86000416])"
            ]
          },
          "metadata": {
            "tags": []
          },
          "execution_count": 13
        }
      ]
    },
    {
      "cell_type": "markdown",
      "metadata": {
        "id": "OLKmD3cefOut",
        "colab_type": "text"
      },
      "source": [
        "### Persist model objects"
      ]
    },
    {
      "cell_type": "code",
      "metadata": {
        "id": "fxpy1acOfSPJ",
        "colab_type": "code",
        "outputId": "1fb46e20-4618-426e-951c-361c18eaf1fe",
        "colab": {
          "base_uri": "https://localhost:8080/",
          "height": 33
        }
      },
      "source": [
        "import joblib\n",
        "\n",
        "joblib.dump(imp, 'IterativeImputer.impute')"
      ],
      "execution_count": 0,
      "outputs": [
        {
          "output_type": "execute_result",
          "data": {
            "text/plain": [
              "['IterativeImputer.impute']"
            ]
          },
          "metadata": {
            "tags": []
          },
          "execution_count": 14
        }
      ]
    },
    {
      "cell_type": "markdown",
      "metadata": {
        "id": "1Yh5NXOi7Qr_",
        "colab_type": "text"
      },
      "source": [
        "### Transform test data"
      ]
    },
    {
      "cell_type": "code",
      "metadata": {
        "id": "-IiDj8g27XEk",
        "colab_type": "code",
        "outputId": "0f7a98ab-da50-41d7-8dff-ddc0b30500cc",
        "colab": {
          "base_uri": "https://localhost:8080/",
          "height": 102
        }
      },
      "source": [
        "_ = pd.read_csv(DATA_PATH/'Test.csv')\n",
        "test_data = _[_.columns.difference(useless_features)]\n",
        "\n",
        "test_data_imp = imp.transform(test_data)"
      ],
      "execution_count": 0,
      "outputs": [
        {
          "output_type": "stream",
          "text": [
            "/usr/local/lib/python3.6/dist-packages/IPython/core/interactiveshell.py:2718: DtypeWarning: Columns (700,731,740,752,761,789,811,820,829,841,850) have mixed types. Specify dtype option on import or set low_memory=False.\n",
            "  interactivity=interactivity, compiler=compiler, result=result)\n"
          ],
          "name": "stderr"
        },
        {
          "output_type": "stream",
          "text": [
            "[IterativeImputer] Completing matrix with shape (20442, 685)\n",
            "[IterativeImputer] Ending imputation round 1/1, elapsed time 17.69\n"
          ],
          "name": "stdout"
        }
      ]
    },
    {
      "cell_type": "markdown",
      "metadata": {
        "id": "tEfR7tho8mO8",
        "colab_type": "text"
      },
      "source": [
        "### Predict with test data"
      ]
    },
    {
      "cell_type": "code",
      "metadata": {
        "id": "GG6ReUnN62fx",
        "colab_type": "code",
        "colab": {}
      },
      "source": [
        "predictions = {}\n",
        "for i, estimator in enumerate(scores['estimator']):\n",
        "    est_name = f'Decision_tree_model_{i}'\n",
        "    joblib.dump(estimator, est_name+'.model')\n",
        "    predictions[f'Decision_tree_model_{i}'] = estimator.predict(test_data_imp)"
      ],
      "execution_count": 0,
      "outputs": []
    },
    {
      "cell_type": "code",
      "metadata": {
        "id": "NBZB0lyh8WvF",
        "colab_type": "code",
        "colab": {}
      },
      "source": [
        "test_ids = pd.read_csv(DATA_PATH/'Test.csv', usecols=['Col1'])"
      ],
      "execution_count": 0,
      "outputs": []
    },
    {
      "cell_type": "code",
      "metadata": {
        "id": "zKvy-VQO9R9g",
        "colab_type": "code",
        "colab": {}
      },
      "source": [
        "for prediction in predictions:\n",
        "    t_df = test_ids.copy()\n",
        "    t_df['Col2'] = predictions[prediction].reshape(-1,1)\n",
        "    t_df.to_csv(f\"{prediction}.csv\", index=False)"
      ],
      "execution_count": 0,
      "outputs": []
    },
    {
      "cell_type": "markdown",
      "metadata": {
        "id": "AHG1Amfbkmuq",
        "colab_type": "text"
      },
      "source": [
        "### Save Imputer to drive"
      ]
    },
    {
      "cell_type": "code",
      "metadata": {
        "id": "C6JjDqHckRUE",
        "colab_type": "code",
        "outputId": "11128334-15ee-4bda-dec7-849ae06eecba",
        "colab": {
          "base_uri": "https://localhost:8080/",
          "height": 118
        }
      },
      "source": [
        "from google.colab import drive\n",
        "drive.mount('/content/drive')"
      ],
      "execution_count": 0,
      "outputs": [
        {
          "output_type": "stream",
          "text": [
            "Go to this URL in a browser: https://accounts.google.com/o/oauth2/auth?client_id=947318989803-6bn6qk8qdgf4n4g3pfee6491hc0brc4i.apps.googleusercontent.com&redirect_uri=urn%3Aietf%3Awg%3Aoauth%3A2.0%3Aoob&scope=email%20https%3A%2F%2Fwww.googleapis.com%2Fauth%2Fdocs.test%20https%3A%2F%2Fwww.googleapis.com%2Fauth%2Fdrive%20https%3A%2F%2Fwww.googleapis.com%2Fauth%2Fdrive.photos.readonly%20https%3A%2F%2Fwww.googleapis.com%2Fauth%2Fpeopleapi.readonly&response_type=code\n",
            "\n",
            "Enter your authorization code:\n",
            "··········\n",
            "Mounted at /content/drive\n"
          ],
          "name": "stdout"
        }
      ]
    },
    {
      "cell_type": "code",
      "metadata": {
        "id": "EfVxONWqkSQX",
        "colab_type": "code",
        "colab": {}
      },
      "source": [
        "!mkdir drive/My\\ Drive/HDFC_ML"
      ],
      "execution_count": 0,
      "outputs": []
    },
    {
      "cell_type": "code",
      "metadata": {
        "id": "rMcjPy95kyPz",
        "colab_type": "code",
        "colab": {}
      },
      "source": [
        "!mv /content/IterativeImputer.impute drive/My\\ Drive/HDFC_ML"
      ],
      "execution_count": 0,
      "outputs": []
    },
    {
      "cell_type": "markdown",
      "metadata": {
        "id": "V460zlC05LSb",
        "colab_type": "text"
      },
      "source": [
        "### Save Model Representation"
      ]
    },
    {
      "cell_type": "code",
      "metadata": {
        "id": "V3oET-oyzU5l",
        "colab_type": "code",
        "colab": {}
      },
      "source": [
        "from sklearn.externals.six import StringIO\n",
        "import pydot\n",
        "from sklearn import tree\n",
        "\n",
        "dot_data = StringIO()\n",
        "col_names = train_data_filt.drop(['Col2'], axis=1).columns.tolist()"
      ],
      "execution_count": 0,
      "outputs": []
    },
    {
      "cell_type": "code",
      "metadata": {
        "id": "P782I9RK1q5i",
        "colab_type": "code",
        "colab": {}
      },
      "source": [
        "i = 0\n",
        "for estimator in scores['estimator']:\n",
        "    tree.export_graphviz(estimator,\n",
        "        out_file=dot_data,\n",
        "        max_depth=4,\n",
        "        feature_names=col_names,\n",
        "        class_names=['0', '1'],\n",
        "        filled=True,\n",
        "        rounded=True,\n",
        "        impurity=False)\n",
        "\n",
        "    graph = pydot.graph_from_dot_data(dot_data.getvalue())\n",
        "    graph[0].write_pdf(f\"model_{i}.pdf\")\n",
        "    i+=1"
      ],
      "execution_count": 0,
      "outputs": []
    },
    {
      "cell_type": "code",
      "metadata": {
        "id": "r-UFNMr-18td",
        "colab_type": "code",
        "colab": {}
      },
      "source": [
        ""
      ],
      "execution_count": 0,
      "outputs": []
    }
  ]
}