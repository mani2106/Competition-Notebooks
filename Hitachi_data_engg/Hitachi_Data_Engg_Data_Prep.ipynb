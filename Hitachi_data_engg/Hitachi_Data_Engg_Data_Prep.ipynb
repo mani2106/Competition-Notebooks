{
  "nbformat": 4,
  "nbformat_minor": 0,
  "metadata": {
    "colab": {
      "name": "Hitachi Data Engg Data Prep.ipynb",
      "provenance": [],
      "collapsed_sections": [
        "KHDMJc-lX3qF"
      ],
      "toc_visible": true,
      "include_colab_link": true
    },
    "kernelspec": {
      "name": "python3",
      "display_name": "Python 3"
    }
  },
  "cells": [
    {
      "cell_type": "markdown",
      "metadata": {
        "id": "view-in-github",
        "colab_type": "text"
      },
      "source": [
        "<a href=\"https://colab.research.google.com/github/mani2106/Competition-Notebooks/blob/master/Hitachi_data_engg/Hitachi_Data_Engg_Data_Prep.ipynb\" target=\"_parent\"><img src=\"https://colab.research.google.com/assets/colab-badge.svg\" alt=\"Open In Colab\"/></a>"
      ]
    },
    {
      "cell_type": "markdown",
      "metadata": {
        "id": "J0D_g-8CssGB",
        "colab_type": "text"
      },
      "source": [
        "### Import data and libraries"
      ]
    },
    {
      "cell_type": "code",
      "metadata": {
        "id": "5a3yLkXWU6iC",
        "colab_type": "code",
        "outputId": "649964c7-546f-4562-8563-68f22e05b0b6",
        "colab": {
          "base_uri": "https://localhost:8080/",
          "height": 121
        }
      },
      "source": [
        "!unzip /content/d522aa9cf97211e9.zip"
      ],
      "execution_count": 5,
      "outputs": [
        {
          "output_type": "stream",
          "text": [
            "Archive:  /content/d522aa9cf97211e9.zip\n",
            "   creating: DataSet/\n",
            "  inflating: DataSet/Train.csv       \n",
            " extracting: DataSet/Sample SourceFile Submission.zip  \n",
            "  inflating: DataSet/sample_submission.csv  \n",
            "  inflating: DataSet/Test.csv        \n"
          ],
          "name": "stdout"
        }
      ]
    },
    {
      "cell_type": "code",
      "metadata": {
        "id": "xnkpUnt2VPV9",
        "colab_type": "code",
        "colab": {}
      },
      "source": [
        "from pathlib import Path\n",
        "import pandas as pd"
      ],
      "execution_count": 0,
      "outputs": []
    },
    {
      "cell_type": "code",
      "metadata": {
        "id": "KO9UXQSNWORR",
        "colab_type": "code",
        "colab": {}
      },
      "source": [
        "DATA_PATH = Path('/content/DataSet')"
      ],
      "execution_count": 0,
      "outputs": []
    },
    {
      "cell_type": "code",
      "metadata": {
        "id": "zLyjqfiuWTc_",
        "colab_type": "code",
        "outputId": "646f0d9b-68b2-4110-e131-45fb80f046fd",
        "colab": {
          "base_uri": "https://localhost:8080/",
          "height": 253
        }
      },
      "source": [
        "train_data = pd.read_csv(DATA_PATH/'Train.csv', index_col=[0])\n",
        "train_data.head()"
      ],
      "execution_count": 8,
      "outputs": [
        {
          "output_type": "execute_result",
          "data": {
            "text/html": [
              "<div>\n",
              "<style scoped>\n",
              "    .dataframe tbody tr th:only-of-type {\n",
              "        vertical-align: middle;\n",
              "    }\n",
              "\n",
              "    .dataframe tbody tr th {\n",
              "        vertical-align: top;\n",
              "    }\n",
              "\n",
              "    .dataframe thead th {\n",
              "        text-align: right;\n",
              "    }\n",
              "</style>\n",
              "<table border=\"1\" class=\"dataframe\">\n",
              "  <thead>\n",
              "    <tr style=\"text-align: right;\">\n",
              "      <th></th>\n",
              "      <th>current_date</th>\n",
              "      <th>current_time</th>\n",
              "      <th>source_name</th>\n",
              "      <th>destination_name</th>\n",
              "      <th>train_name</th>\n",
              "      <th>target</th>\n",
              "      <th>country_code_source</th>\n",
              "      <th>longitude_source</th>\n",
              "      <th>latitude_source</th>\n",
              "      <th>mean_halt_times_source</th>\n",
              "      <th>country_code_destination</th>\n",
              "      <th>longitude_destination</th>\n",
              "      <th>latitude_destination</th>\n",
              "      <th>mean_halt_times_destination</th>\n",
              "      <th>current_year</th>\n",
              "      <th>current_week</th>\n",
              "      <th>current_day</th>\n",
              "      <th>is_weekend</th>\n",
              "    </tr>\n",
              "    <tr>\n",
              "      <th>id_code</th>\n",
              "      <th></th>\n",
              "      <th></th>\n",
              "      <th></th>\n",
              "      <th></th>\n",
              "      <th></th>\n",
              "      <th></th>\n",
              "      <th></th>\n",
              "      <th></th>\n",
              "      <th></th>\n",
              "      <th></th>\n",
              "      <th></th>\n",
              "      <th></th>\n",
              "      <th></th>\n",
              "      <th></th>\n",
              "      <th></th>\n",
              "      <th></th>\n",
              "      <th></th>\n",
              "      <th></th>\n",
              "    </tr>\n",
              "  </thead>\n",
              "  <tbody>\n",
              "    <tr>\n",
              "      <th>isfywypmkqqhyft</th>\n",
              "      <td>2016-07-27</td>\n",
              "      <td>08:05:51 PM</td>\n",
              "      <td>station$147</td>\n",
              "      <td>station$1</td>\n",
              "      <td>ICZVZS</td>\n",
              "      <td>high</td>\n",
              "      <td>whber</td>\n",
              "      <td>4.356801</td>\n",
              "      <td>50.845658</td>\n",
              "      <td>634.16474</td>\n",
              "      <td>NaN</td>\n",
              "      <td>NaN</td>\n",
              "      <td>NaN</td>\n",
              "      <td>NaN</td>\n",
              "      <td>2016</td>\n",
              "      <td>30</td>\n",
              "      <td>Wednesday</td>\n",
              "      <td>False</td>\n",
              "    </tr>\n",
              "    <tr>\n",
              "      <th>mqsfxyvuqpbwomk</th>\n",
              "      <td>2016-07-27</td>\n",
              "      <td>08:06:11 PM</td>\n",
              "      <td>station$147</td>\n",
              "      <td>station$1</td>\n",
              "      <td>ICZVZS</td>\n",
              "      <td>high</td>\n",
              "      <td>whber</td>\n",
              "      <td>4.356801</td>\n",
              "      <td>50.845658</td>\n",
              "      <td>634.16474</td>\n",
              "      <td>NaN</td>\n",
              "      <td>NaN</td>\n",
              "      <td>NaN</td>\n",
              "      <td>NaN</td>\n",
              "      <td>2016</td>\n",
              "      <td>30</td>\n",
              "      <td>Wednesday</td>\n",
              "      <td>False</td>\n",
              "    </tr>\n",
              "    <tr>\n",
              "      <th>alspwwtbdvqsgby</th>\n",
              "      <td>2016-07-27</td>\n",
              "      <td>08:08:57 PM</td>\n",
              "      <td>station$147</td>\n",
              "      <td>station$1</td>\n",
              "      <td>ICZVZS</td>\n",
              "      <td>high</td>\n",
              "      <td>whber</td>\n",
              "      <td>4.356801</td>\n",
              "      <td>50.845658</td>\n",
              "      <td>634.16474</td>\n",
              "      <td>NaN</td>\n",
              "      <td>NaN</td>\n",
              "      <td>NaN</td>\n",
              "      <td>NaN</td>\n",
              "      <td>2016</td>\n",
              "      <td>30</td>\n",
              "      <td>Wednesday</td>\n",
              "      <td>False</td>\n",
              "    </tr>\n",
              "    <tr>\n",
              "      <th>szitxhhqduyrqpg</th>\n",
              "      <td>2016-07-27</td>\n",
              "      <td>08:09:08 PM</td>\n",
              "      <td>station$147</td>\n",
              "      <td>station$1</td>\n",
              "      <td>ICZVZS</td>\n",
              "      <td>high</td>\n",
              "      <td>whber</td>\n",
              "      <td>4.356801</td>\n",
              "      <td>50.845658</td>\n",
              "      <td>634.16474</td>\n",
              "      <td>NaN</td>\n",
              "      <td>NaN</td>\n",
              "      <td>NaN</td>\n",
              "      <td>NaN</td>\n",
              "      <td>2016</td>\n",
              "      <td>30</td>\n",
              "      <td>Wednesday</td>\n",
              "      <td>False</td>\n",
              "    </tr>\n",
              "    <tr>\n",
              "      <th>krisdqzczivvwcp</th>\n",
              "      <td>2016-07-27</td>\n",
              "      <td>08:11:01 PM</td>\n",
              "      <td>station$147</td>\n",
              "      <td>station$1</td>\n",
              "      <td>ICZVZS</td>\n",
              "      <td>high</td>\n",
              "      <td>whber</td>\n",
              "      <td>4.356801</td>\n",
              "      <td>50.845658</td>\n",
              "      <td>634.16474</td>\n",
              "      <td>NaN</td>\n",
              "      <td>NaN</td>\n",
              "      <td>NaN</td>\n",
              "      <td>NaN</td>\n",
              "      <td>2016</td>\n",
              "      <td>30</td>\n",
              "      <td>Wednesday</td>\n",
              "      <td>False</td>\n",
              "    </tr>\n",
              "  </tbody>\n",
              "</table>\n",
              "</div>"
            ],
            "text/plain": [
              "                current_date current_time  ... current_day is_weekend\n",
              "id_code                                    ...                       \n",
              "isfywypmkqqhyft   2016-07-27  08:05:51 PM  ...   Wednesday      False\n",
              "mqsfxyvuqpbwomk   2016-07-27  08:06:11 PM  ...   Wednesday      False\n",
              "alspwwtbdvqsgby   2016-07-27  08:08:57 PM  ...   Wednesday      False\n",
              "szitxhhqduyrqpg   2016-07-27  08:09:08 PM  ...   Wednesday      False\n",
              "krisdqzczivvwcp   2016-07-27  08:11:01 PM  ...   Wednesday      False\n",
              "\n",
              "[5 rows x 18 columns]"
            ]
          },
          "metadata": {
            "tags": []
          },
          "execution_count": 8
        }
      ]
    },
    {
      "cell_type": "markdown",
      "metadata": {
        "id": "rbSrfgbjsx5u",
        "colab_type": "text"
      },
      "source": [
        "### Look at the data"
      ]
    },
    {
      "cell_type": "code",
      "metadata": {
        "id": "YLmDgb5VXMJF",
        "colab_type": "code",
        "outputId": "ea8475af-c9e6-4a6a-8a5e-a53adabcb92f",
        "colab": {
          "base_uri": "https://localhost:8080/",
          "height": 416
        }
      },
      "source": [
        "train_data.info()"
      ],
      "execution_count": 9,
      "outputs": [
        {
          "output_type": "stream",
          "text": [
            "<class 'pandas.core.frame.DataFrame'>\n",
            "Index: 1284 entries, isfywypmkqqhyft to hfhwirltuffenfr\n",
            "Data columns (total 18 columns):\n",
            "current_date                   1284 non-null object\n",
            "current_time                   1284 non-null object\n",
            "source_name                    1284 non-null object\n",
            "destination_name               1284 non-null object\n",
            "train_name                     1284 non-null object\n",
            "target                         1284 non-null object\n",
            "country_code_source            1283 non-null object\n",
            "longitude_source               1283 non-null float64\n",
            "latitude_source                1283 non-null float64\n",
            "mean_halt_times_source         1283 non-null float64\n",
            "country_code_destination       1251 non-null object\n",
            "longitude_destination          1251 non-null float64\n",
            "latitude_destination           1251 non-null float64\n",
            "mean_halt_times_destination    1251 non-null float64\n",
            "current_year                   1284 non-null int64\n",
            "current_week                   1284 non-null int64\n",
            "current_day                    1284 non-null object\n",
            "is_weekend                     1284 non-null bool\n",
            "dtypes: bool(1), float64(6), int64(2), object(9)\n",
            "memory usage: 181.8+ KB\n"
          ],
          "name": "stdout"
        }
      ]
    },
    {
      "cell_type": "markdown",
      "metadata": {
        "id": "spDFvgZwXzS6",
        "colab_type": "text"
      },
      "source": [
        "### Missing data info"
      ]
    },
    {
      "cell_type": "code",
      "metadata": {
        "id": "6i2B3lWvXPqJ",
        "colab_type": "code",
        "outputId": "07f6428a-08b0-40aa-abeb-6743f506cb82",
        "colab": {
          "base_uri": "https://localhost:8080/",
          "height": 346
        }
      },
      "source": [
        "train_data.isna().sum()"
      ],
      "execution_count": 10,
      "outputs": [
        {
          "output_type": "execute_result",
          "data": {
            "text/plain": [
              "current_date                    0\n",
              "current_time                    0\n",
              "source_name                     0\n",
              "destination_name                0\n",
              "train_name                      0\n",
              "target                          0\n",
              "country_code_source             1\n",
              "longitude_source                1\n",
              "latitude_source                 1\n",
              "mean_halt_times_source          1\n",
              "country_code_destination       33\n",
              "longitude_destination          33\n",
              "latitude_destination           33\n",
              "mean_halt_times_destination    33\n",
              "current_year                    0\n",
              "current_week                    0\n",
              "current_day                     0\n",
              "is_weekend                      0\n",
              "dtype: int64"
            ]
          },
          "metadata": {
            "tags": []
          },
          "execution_count": 10
        }
      ]
    },
    {
      "cell_type": "code",
      "metadata": {
        "id": "CEi0-kNZ8TYp",
        "colab_type": "code",
        "outputId": "bb744dd6-a60d-4277-e324-95876625e595",
        "colab": {
          "base_uri": "https://localhost:8080/",
          "height": 156
        }
      },
      "source": [
        "columns_with_missing_vals = list((train_data.isna().sum()[lambda x: x>0].index))\n",
        "columns_with_missing_vals"
      ],
      "execution_count": 11,
      "outputs": [
        {
          "output_type": "execute_result",
          "data": {
            "text/plain": [
              "['country_code_source',\n",
              " 'longitude_source',\n",
              " 'latitude_source',\n",
              " 'mean_halt_times_source',\n",
              " 'country_code_destination',\n",
              " 'longitude_destination',\n",
              " 'latitude_destination',\n",
              " 'mean_halt_times_destination']"
            ]
          },
          "metadata": {
            "tags": []
          },
          "execution_count": 11
        }
      ]
    },
    {
      "cell_type": "markdown",
      "metadata": {
        "id": "KHDMJc-lX3qF",
        "colab_type": "text"
      },
      "source": [
        "### Explore columns with missing variables"
      ]
    },
    {
      "cell_type": "markdown",
      "metadata": {
        "id": "8tWuvgLxYVGl",
        "colab_type": "text"
      },
      "source": [
        "#### Country Code"
      ]
    },
    {
      "cell_type": "code",
      "metadata": {
        "id": "mlFCIgRxYCrM",
        "colab_type": "code",
        "outputId": "d7f45367-d265-47a3-b521-eca28a6a5b85",
        "colab": {
          "base_uri": "https://localhost:8080/",
          "height": 0
        }
      },
      "source": [
        "train_data.country_code_destination.value_counts().plot.bar()"
      ],
      "execution_count": 12,
      "outputs": [
        {
          "output_type": "execute_result",
          "data": {
            "text/plain": [
              "<matplotlib.axes._subplots.AxesSubplot at 0x7f87913cf390>"
            ]
          },
          "metadata": {
            "tags": []
          },
          "execution_count": 12
        },
        {
          "output_type": "display_data",
          "data": {
            "image/png": "[encoded data removed]",
            "text/plain": [
              "<Figure size 432x288 with 1 Axes>"
            ]
          },
          "metadata": {
            "tags": []
          }
        }
      ]
    },
    {
      "cell_type": "code",
      "metadata": {
        "id": "Ok8pfjpsYMs4",
        "colab_type": "code",
        "outputId": "d85569d2-cb70-4730-dec1-a507c5159eca",
        "colab": {
          "base_uri": "https://localhost:8080/",
          "height": 0
        }
      },
      "source": [
        "train_data.country_code_destination.value_counts()"
      ],
      "execution_count": 13,
      "outputs": [
        {
          "output_type": "execute_result",
          "data": {
            "text/plain": [
              "whber    1247\n",
              "zxdec       1\n",
              "aqfre       1\n",
              "logbp       1\n",
              "qwnll       1\n",
              "Name: country_code_destination, dtype: int64"
            ]
          },
          "metadata": {
            "tags": []
          },
          "execution_count": 13
        }
      ]
    },
    {
      "cell_type": "markdown",
      "metadata": {
        "id": "JMflv_0pfYeJ",
        "colab_type": "text"
      },
      "source": [
        "### Plotting the Railway stations"
      ]
    },
    {
      "cell_type": "code",
      "metadata": {
        "id": "dDiOrGcHbkkj",
        "colab_type": "code",
        "outputId": "61c20a34-9d60-4e99-d4ee-437cdd152236",
        "colab": {
          "base_uri": "https://localhost:8080/",
          "height": 34
        }
      },
      "source": [
        "import plotly.graph_objects as go\n",
        "from sklearn.preprocessing import LabelEncoder\n",
        "\n",
        "# Just for legend in the map\n",
        "le = LabelEncoder()\n",
        "train_data['target_enc'] = le.fit_transform(train_data['target'])\n",
        "le_name_mapping = dict(zip(le.classes_, le.transform(le.classes_)))\n",
        "le_name_mapping"
      ],
      "execution_count": 14,
      "outputs": [
        {
          "output_type": "execute_result",
          "data": {
            "text/plain": [
              "{'high': 0, 'low': 1, 'medium': 2}"
            ]
          },
          "metadata": {
            "tags": []
          },
          "execution_count": 14
        }
      ]
    },
    {
      "cell_type": "code",
      "metadata": {
        "id": "W-WmYsnxn3cG",
        "colab_type": "code",
        "colab": {}
      },
      "source": [
        "high_data = train_data[train_data['target_enc'] == 0]\n",
        "low_data = train_data[train_data['target_enc'] == 1]\n",
        "med_data = train_data[train_data['target_enc'] == 2]"
      ],
      "execution_count": 0,
      "outputs": []
    },
    {
      "cell_type": "code",
      "metadata": {
        "id": "jh72xyWUozD8",
        "colab_type": "code",
        "colab": {}
      },
      "source": [
        "df_data = []\n",
        "for df, l, c in zip([high_data, low_data, med_data], [\"high\", \"low\", \"med\"], ['red', 'blue', 'green']):\n",
        "    df_data.append(go.Scattergeo(\n",
        "        lon = df['longitude_source'],\n",
        "        lat = df['latitude_destination'],\n",
        "        mode = 'markers',\n",
        "        marker_color = c,\n",
        "        name=l\n",
        "        ))"
      ],
      "execution_count": 0,
      "outputs": []
    },
    {
      "cell_type": "code",
      "metadata": {
        "id": "jGEpjwQscZTx",
        "colab_type": "code",
        "outputId": "69f20054-552a-41ca-9485-aedf87f128d1",
        "colab": {
          "base_uri": "https://localhost:8080/",
          "height": 542
        }
      },
      "source": [
        "fig = go.Figure(data=df_data)\n",
        "\n",
        "fig.update_layout(\n",
        "        title = 'Most trafficked Railway stations',\n",
        "        geo = dict(\n",
        "            scope='europe',\n",
        "            showland=True\n",
        "        )\n",
        "    )\n",
        "fig.show()"
      ],
      "execution_count": 17,
      "outputs": [
        {
          "output_type": "display_data",
          "data": {
            "text/html": [
              "<html>\n",
              "<head><meta charset=\"utf-8\" /></head>\n",
              "<body>\n",
              "    <div>\n",
              "            <script src=\"https://cdnjs.cloudflare.com/ajax/libs/mathjax/2.7.5/MathJax.js?config=TeX-AMS-MML_SVG\"></script><script type=\"text/javascript\">if (window.MathJax) {MathJax.Hub.Config({SVG: {font: \"STIX-Web\"}});}</script>\n",
              "                <script type=\"text/javascript\">window.PlotlyConfig = {MathJaxConfig: 'local'};</script>\n",
              "        <script src=\"https://cdn.plot.ly/plotly-latest.min.js\"></script>    \n",
              "            <div id=\"f2399a34-1b7b-49b4-af6b-f9b24329ca19\" class=\"plotly-graph-div\" style=\"height:525px; width:100%;\"></div>\n",
              "            <script type=\"text/javascript\">\n",
              "                \n",
              "                    window.PLOTLYENV=window.PLOTLYENV || {};\n",
              "                    \n",
              "                if (document.getElementById(\"f2399a34-1b7b-49b4-af6b-f9b24329ca19\")) {\n",
              "                    Plotly.newPlot(\n",
              "                        'f2399a34-1b7b-49b4-af6b-f9b24329ca19',\n",
              "                        [{\"lat\": [null, null, null, null, null, null, null, null, null, null, null, null, null, null, null, 51.017648, 50.859663, 50.835707, 50.835707, 50.835707, 50.835707, 50.835707, 50.835707, 50.835707, 50.835707, 50.845658, 51.197226, 50.835707, 50.835707, 50.835707, 51.035896, 50.673667, 51.035896, 51.035896, 51.228212, 51.208336, 51.2172, 50.835707, 51.056365, 51.108062, 51.171472, 51.19923, 51.056365, 50.733931, 51.035896, 51.322032, 51.197226, 51.2172, 50.62455, 51.003149, 51.035896, 50.449827, 50.977449, 51.017648, 51.017648, 51.2172, 51.2172, 50.838943, 50.62455, 50.993341, 51.017648, 50.930822, 50.835707, 50.896456, 51.197828, 51.171472, 51.108062, 51.056365, 51.035896, 50.626932, 51.035896, 50.990842, 50.978258, 50.88228, 51.035896, 50.835707, 50.737958, 51.197226, 50.949025, 50.845658, 51.197828, 51.19923, 50.859663, 50.859663, 50.859663, 50.835707, 50.661235, 50.686585, 50.703062, 50.712015, 50.733095, 50.835707, 50.859663, 51.135758, 51.135758, 50.859663, 50.880833, 51.154114, 50.845658, 50.859663, 50.600612, 50.723701, 50.984406, 51.171472, 51.171472, 51.056365, 50.843276, 50.376798, 50.697273, 50.835707, 50.640299, 50.62455, 50.859663, 50.835707, 50.626932, 50.835707, 50.468794, 50.859663, 50.859663, 51.017648, 50.725697, 51.035896, 51.035896, 50.530496, 50.44286, 50.713894, 50.859663, 50.924583, 50.835707, 50.942813, 51.035896, 50.859663, 50.924583, 51.017648, 51.135758, 50.839509, 50.88228, 50.859663, 50.845658, 50.661208, 51.197226, 51.2172, 51.035896, 50.859663, 50.896456, 50.896456, 50.835707, 50.824506, 50.733931, 50.924583, 50.933473, 50.859663, 50.890028, 50.845658, 50.859663, 50.697273, 50.640299, 50.640299, 50.662386, 50.626932, 51.035896, 50.661208, 50.824506, 50.661208, 51.19923, 50.673667, 50.605079, 50.845658, 50.882531, 50.845658, 50.605079, 50.605079, 50.605079, 50.605079, 50.859663, 51.2172, 50.595308, 51.135758, 51.19923, 51.2172, 50.997063, 50.978258, 50.845658, 50.835707, 50.845658, 50.845658, 50.845658, 50.835707, 50.845658, 50.845658, 50.191639, 50.930822, 50.845658, 50.88228, 50.859663, 50.835707, 51.092295, 51.035896, 50.613134, 50.845658, 50.835707, 50.859663, 50.993341, 51.074146, 51.135758, 51.19923, 51.2172, 50.684778, 51.019437, 50.838943, 50.87943, 50.824506, 51.017648, 50.930822, 50.930822, 50.930822, 50.824506, 50.784405, 51.017648, 51.135758, 51.017648, 50.924583, 51.188057, 51.19923, 51.135758, 51.181513, 51.168955, 50.733931, 50.733931, 50.845658, 50.845658, 50.859663, 50.88228, 50.859663, 50.859663, 50.88228, 50.835707, 50.791749, 50.859663, 50.835707, 50.694549, 50.997063, 50.850116, 50.891925, 50.86910200000001, 51.025163, 50.810195, 51.017648, 50.835707, 51.009091, 50.88228, 50.810195, 50.733931, 51.197828, 51.197828, 50.930822, 50.859663, 50.845658, 50.835707, 50.997063, 50.859663, 50.835707, 50.892456, 50.824506, 50.825845, 51.135758, 50.835707, 50.845658, 51.017648, 50.859663, 51.035896, 51.035896, 50.88228, 50.845658, 50.733931, 50.733931, 50.859663, 50.859663, 50.896456, 50.845658, 50.835707, 50.854449, 50.843276, 51.135758, 50.859663, 50.891296, 50.859663, 50.835707, 51.017648, 50.673667, 50.693758, 50.835707, 50.87943, 50.95495800000001, 51.135758, 51.181513, 51.188057, 51.168955, 50.822187, 50.570489, 50.892456, 50.640299, 51.2172, 50.930021, 51.017531, 51.035896, 50.997063, 50.960774, 50.733931, 50.845658, 50.62455, 50.88228, 50.845658, 50.845658, 50.845658, 51.113662, 50.835707, 51.168955, 50.984406, 50.984406, 50.88228, 50.88228, 50.88228, 51.208336, 50.62455, 50.88228, 50.88228, 50.661208, 51.135758, 50.956261, 50.824506, 50.859663, 51.017648, 50.930822, 50.892456, 51.07722, 50.984406, 50.984406, 50.984406, 51.19923, 51.19923, 51.19923, 51.19923, 51.035896, 50.845658, 50.859663, 50.468794, 50.908025, 50.850116, 50.850116, 50.845658, 50.845658, 50.845658, 50.88228, 50.88228, 50.84855200000001, 50.822187, 50.859663, 50.859663, 50.835707, 50.845658, 50.684778, 50.835707, 50.854072, 50.530496, 50.859663, 50.843276, 50.661208, 50.984406, 50.835707, 51.056365, 50.993341, 50.984406, 50.88228, 50.88228, 51.2172, 50.835707, 51.035896, 50.859663, 50.859663, 50.859663, 50.845658, 50.44286, 50.40471, 51.025163, 50.738812, 50.859663, 50.859663, 50.859663, 50.669793, 50.645423, 51.19923], \"lon\": [4.356801, 4.356801, 4.356801, 4.356801, 4.356801, 4.356801, 4.356801, 4.356801, 4.356801, 4.356801, 4.356801, 4.356801, 4.356801, 4.356801, 4.356801, 4.360846, 4.482076, 4.421101, 4.421101, 3.710675, 3.710675, 4.421101, 4.421101, 4.421101, 4.421101, 4.432823, 3.216726, 3.710675, 4.9374150000000006, 4.9374150000000006, 2.925809, 4.380722, 4.336531, 4.336531, 3.710675, 3.740591, 3.740591, 3.710675, 3.710675, 3.740591, 3.987794, 4.142966, 4.421101, 4.3736739999999985, 3.216726, 4.356801, 3.710675, 3.740591, 4.360846, 3.881883, 4.421101, 4.336531, 4.45749, 4.360846, 4.360846, 3.710675, 3.710675, 4.360846, 4.86222, 4.715866, 4.011094, 5.497685, 3.216726, 4.336531, 4.432221, 4.390259, 4.142966, 3.987794, 3.740591, 3.872328, 2.6527700000000003, 3.127212, 3.330341, 2.925809, 3.216726, 3.710675, 4.408112, 3.710675, null, 4.1376620000000015, 4.432221, 5.327627, 4.06894, 5.509704, 5.327627, 4.047357, 3.777429, 3.793627, 3.823408, 3.835175, 3.836434, 4.482785, 4.715866, 4.829535, 4.829535, 4.222718, 4.274541, 4.455737, 4.715866, 4.715866, 3.777429, 4.360846, 4.360846, 4.432221, 4.432221, 4.432221, 4.360846, 5.566694999999998, 4.356801, 4.356801, 5.854917, 5.854917, 4.824043, 4.715866, 3.935863, 3.710675, 4.3736739999999985, 4.715866, 4.715866, 4.360846, 4.3736739999999985, 4.356801, 4.356801, 3.942542, 3.666304, 3.228448, 4.715866, 4.482785, 3.710675, 4.071825, 4.356801, 4.356801, 4.360846, 4.432823, 4.482785, 4.336531, 4.747679, 3.768889, 4.071825, 5.566694999999998, 3.264549, 4.360846, 4.336531, 4.071825, 3.710675, 4.336531, 4.335065, 3.255416, 4.047357, 4.432221, 4.222718, 4.222718, 4.207985, 5.050031, 4.482785, 4.240634, 5.566694999999998, 5.566694999999998, 4.047357, 3.935863, 4.356801, 4.360846, 3.710675, 4.360846, 4.360846, 4.86222, 4.336531, 4.360846, 4.336531, 4.360846, 4.336531, 4.336531, 4.336531, 4.336531, 4.356801, 4.356801, 5.566694999999998, 4.829535, 4.560614, 4.432221, 3.710675, 3.650465, 4.336531, 4.482076, 3.710675, 4.207985, 5.313892, 3.710675, 4.482785, 4.482785, 4.438567, 4.92581, 3.216726, 4.432221, 3.216726, 3.942542, 3.216726, 3.4478480000000005, 3.820253, 4.361997, 4.1376620000000015, 5.509704, 5.327627, 5.050031, 4.708235, 4.560614, 4.432221, 4.336531, 4.101426999999998, 4.56936, 4.326219999999998, 4.432221, 4.482076, 4.360846, 4.360846, 4.824043, 3.710675, 4.432221, 4.432823, 4.482785, 4.432823, 4.360846, 4.829535, 4.421101, 4.432221, 4.560614, 4.847585, 4.336531, 4.356801, 4.715866, 4.289895, 4.389513, 4.360846, 4.482076, 5.509704, 5.566694999999998, 4.240634, 4.361997, 3.768889, 3.710675, 4.336531, 3.710675, 3.710675, 4.336531, 4.071825, 3.130412, 4.336531, 4.432823, 4.482785, 4.482785, 4.360846, 4.336531, 4.336531, 4.259519999999998, 4.259519999999998, 5.176654, 4.560614, 4.361997, 4.240634, 3.710675, 3.264549, 5.050031, 3.710675, 3.42551, 3.264549, 4.829535, 4.295333, 4.715866, 4.432221, 4.432221, 4.071825, 3.216726, 4.356801, 4.715866, 4.360846, 4.360846, 4.482076, 4.482076, 4.715866, 4.360846, 4.356801, 3.264549, 4.360846, 4.829535, 4.432221, 3.81441, 4.356801, 4.071825, 4.360846, 4.49706, 4.5328550000000005, 3.264549, 4.360846, 4.360846, 4.432221, 4.560614, 4.829535, 4.847585, 4.360846, 4.86222, 3.710675, 5.566694999999998, 4.356801, 3.646384, 3.710675, 3.650465, 3.627839, 3.639732, 4.273696, 4.1376620000000015, 5.599695, 5.566694999999998, 4.360846, 4.336531, 4.1376620000000015, 4.715866, 4.421101, 5.327627, 4.360846, 4.360846, 4.360846, 4.360846, 4.360846, 3.740591, 4.360846, 4.360846, 5.497685, 4.360846, 4.715866, 4.715866, 3.710675, 4.356801, 4.360846, 4.715866, 3.710675, 4.356019, 4.715866, 4.432221, 4.715866, 4.482785, 4.482785, 4.482785, 4.482785, 3.534432, 3.881883, 4.715866, 5.809971, 3.710675, 3.264549, 3.264549, 4.336531, 3.710675, 4.336531, 5.327627, 5.327627, 4.336531, 4.715866, 4.715866, 4.715866, 3.710675, 4.383481, 4.335065, 4.205729, 4.240634, 3.777429, 5.050031, 4.86222, 4.360846, 4.360846, 4.356801, 3.710675, 4.715866, 5.050031, 4.92581, 4.92581, 4.432661, 3.879384, 3.216726, 4.715866, 5.327627, 4.715866, 4.715866, 3.396942, 4.356801, 3.130412, 4.383481, 5.509704, 4.715866, 4.715866, 4.49706, 4.356801, 4.560614], \"marker\": {\"color\": \"red\"}, \"mode\": \"markers\", \"name\": \"high\", \"type\": \"scattergeo\"}, {\"lat\": [50.967057, null, 50.845658, 50.845658, 51.035896, 51.035896, 50.835707, 51.035896, 51.035896, 51.035896, 50.967057, 51.092295, 50.967057, 50.967057, 50.967057, 50.967057, 50.967057, 50.967057, 51.035896, 51.035896, 51.107612, 50.967057, 51.035896, 50.967057, 50.967057, 50.967057, 50.967057, 51.223115, 51.294714, 51.324549, 50.967057, 51.294714, 51.223115, 51.197226, 50.880833, 50.845658, 51.092295, 50.845658, 50.845658, 50.845658, 51.19923, 51.029883, 51.171256, 51.19923, 50.967057, 50.967057, 51.181513, 51.169099, 51.035896, 51.056365, 51.108062, 51.171472, 50.835707, 50.835707, 50.845658, 50.859663, 50.984406, 51.035896, 51.108062, 51.056365, 51.035896, 51.056365, 51.108062, 51.171472, 51.056365, 51.19923, 51.2172, 51.19923, 51.135758, 51.181513, 51.322032, 50.835707, 51.241021, 51.181513, 51.135758, 51.19923, 51.208336, 51.197226, 50.835707, 50.845658, 50.88228, 50.863645, 50.62455, 50.88228, 50.956261, 50.984406, 51.074146, 51.135758, 51.19923, 51.241021, 51.322032, 51.033548, 51.2172, 50.40471, 50.646349, 51.241021, 51.181513, 51.135758, 51.017648, 50.924583, 50.859663, 50.845658, 50.835707, 50.691708, 50.605079, 50.56239, 50.478161, 50.40471, 50.505856, 50.599641, 50.684778, 51.19923, 51.135758, 51.181513, 51.241021, 51.033548, 51.033548, 51.2172, 51.241021, 51.181513, 51.135758, 51.017648, 50.924583, 50.859663, 50.845658, 50.845658, 50.859663, 50.924583, 51.017648, 51.135758, 51.181513, 51.241021, 51.181513, 51.135758, 51.19923, 51.2172, 51.19923, 51.017648, 50.859663, 50.88228, 50.859663, 50.930822, 50.838943, 50.673667, 50.886837, 51.035896, 51.197226, 51.056365, 51.108062, 51.171472, 50.896456, 51.035896, 51.056365, 51.108062, 51.171472, 50.824506, 51.2172, 51.035896, 51.197226, 51.035896, 51.035896, 51.056365, 51.241021, 51.181513, 51.135758, 51.19923, 51.197828, 51.208336, 51.171472, 51.108062, 51.056365, 50.835707, 50.835707, 51.056365, 51.035896, 51.056365, 51.056365, 51.035896, 51.228212, 51.228212, 50.882531, 51.017531, 51.017531, 51.035896, 51.022781, 50.845658, 51.022781, 51.056365, 51.022781, 51.035896, 51.197226, 50.88228, 51.003149, 51.035896, 51.197226, 50.835707, 51.035896, 51.022781, 51.022781, 51.017531, 50.845658, 51.022781, 50.835707, 51.197226, 51.002807, 51.035896, 51.19923, 51.197828, 51.208336, 51.171472, 51.108062, 51.035896, 51.197226, 51.228212, 50.88228, 50.859663, 50.87943, 50.880833, 50.872625, 50.868337, 50.866728, 50.86716, 50.86716, 50.874522, 50.882451, 50.882531, 50.891925, 50.919621, 50.942813, 50.90353, 51.017648, 50.835707, 50.859663, 50.892456, 50.993341, 49.68053, 50.88228, 50.835707, 50.429529, 50.435246, 51.017648, 51.017648, 51.143398, 50.845658, 50.99175, 51.009091, 51.241021, 51.322032, 51.19923, 51.135758, 50.859663, 50.88228, 50.8642714, 51.2172, 51.19923, 50.907198, 50.880833, 50.859663, 50.835707, 50.40471, 51.197226, 51.2172, 51.197226, 50.349417, 51.143398, 50.613134, 51.143398, 50.835707, 50.859663, 50.859663, 51.035896, 51.197226, 51.056365, 51.108062, 51.171472, 51.19923, 51.2172, 50.838943, 50.88228, 50.92274000000001, 51.022781, 51.208336, 51.171472, 51.197226, 50.694549, 51.197226, 51.035896, 51.108062, 51.029883, 51.029883, 51.017531, 51.197226, 51.2172, 51.017648, 50.890028, 51.017531, 50.85586, 51.322032, 51.197226, 51.19923, 51.197828, 50.88228, 50.481927, 51.017648, 50.859663, 50.835707, 51.211564, 50.859663, 50.835707, 50.891925, 51.017648, 51.19923, 50.835707, 51.017648, 51.19923, 51.171256, 50.859663, 50.723701, 50.845658, 51.017648, 51.197828, 51.017531, 50.845658, 50.845658, 51.017648, 50.891925, 50.527242, 50.890478, 50.637611, 50.845658, 50.977449, 50.977449, 50.9584, 50.845658, 50.924583, 51.2172, 50.733931, 50.733931, 51.241021, 51.017648, 51.181333, 50.530496, 50.468794, 50.443328, 50.640299, 50.40471, 50.40471, 51.056365, 51.017648, 51.017648, 50.942721, 51.035896, 50.88228, 50.859663, 51.19105, 51.211564, 50.859663, 50.588135, 50.62455, 51.092295, 51.025244, 51.19923, 50.859663, 50.822187, 50.468794, 50.845658, 50.993341, 50.684778, 50.725697, 51.022781, 50.892456, 50.824506, 51.035896, 51.168955, 50.891925, 50.662386, 50.859663, 51.017531, 51.017648, 51.135758, 50.993341, 50.845658, 50.845658, 50.835707, 50.845658, 50.859663, 51.022781, 50.843276, 51.035896, 50.86910200000001, 50.86910200000001, 51.017648, 51.017648, 50.694549, 50.859663, 50.859663, 50.88228, 50.859663, 51.150994, 51.035896, 51.197226, 50.845658, 51.197828, 51.19923, 50.942813, 50.845658, 50.835707, 50.872625, 51.169027, 51.18296, 51.017648, 51.035896, 50.669793, 50.993341, 50.595308, 50.222472, 50.88228, 50.733931, 50.859663, 50.889696, 50.878513, 50.859663, 50.845658, 50.835707, 51.197226, 51.134023, 50.88228, 50.88228, 50.993341, 50.854072, 51.021972, 51.035896, 51.035896, 50.845658, 50.835707, 50.423335, 50.436388, 50.428019, 50.423335, 50.891925, 50.646349, 50.859663, 50.859663, 51.31352800000001, 50.824506, 50.978258, 50.859663, 50.835707, 51.197828, 50.733931, 50.993341, 50.80802, 50.588135, 51.017648, 50.859663, 50.930822, 50.88228, 50.410103, 50.859663, 50.859663, 51.035896, 50.88228, 50.843276, 50.886837, 51.356838, 51.356838, 50.86253, 50.673667, 50.673667, 51.171472, 50.202821, 50.673667, 50.505461, 50.891925, 51.2172, 50.839509, 50.40471, 50.835707, 51.134023, 51.2172, 51.021972, 51.19923, 51.19923, 51.197828, 51.197226, 50.845658, 51.017648, 51.019437, 51.154114, 50.845658, 51.025163, 50.733931, 50.605079, 50.859663, 50.845658, 50.733931, 50.412171, 51.017648, 51.462767, 50.505856, 50.880833, 51.197828, 51.339894, 50.892456, 51.035896, 50.843276, 50.843276, 50.843276, 50.697273, 50.843276, 50.854072, 51.017531, 51.035896, 50.859663, 50.984406, 50.993341, 50.930822, 50.993341, 51.035896, 50.733931, 51.197226, 50.845658, 51.017648, 51.022781, 51.035896, 51.18296, 50.75157700000001, 50.733931, 51.035896, 50.737958, 50.794698, 50.505856], \"lon\": [5.497685, 5.497685, 5.497685, 4.289895, 4.336531, 4.336531, 3.710675, 3.4478480000000005, 4.356801, 3.987794, 4.360846, 3.710675, 4.360846, 4.360846, 4.360846, 4.360846, 4.715866, 4.360846, 4.356801, 4.356801, 3.4478480000000005, 4.360846, 4.356801, 4.360846, 4.360846, 4.360846, 4.360846, 3.216726, 3.201795, 3.194505, 4.360846, 3.186666, 3.194505, 3.201795, 4.289895, 4.326219999999998, 3.216726, 4.289895, 3.710675, 3.710675, 4.432823, 4.482785, 4.489914, 4.455737, 4.360846, 4.360846, 4.9374150000000006, 5.116336, 3.4478480000000005, 3.710675, 3.740591, 3.987794, 5.327627, 3.710675, 4.360846, 4.824043, 5.050031, 4.336531, 4.142966, 3.987794, 3.740591, 3.710675, 3.740591, 3.987794, 4.421101, 4.142966, 4.432221, 4.421101, 4.432221, 4.560614, 4.893089, 5.497685, 4.9374150000000006, 4.893089, 4.829535, 4.560614, 4.390259, 2.925809, 3.710675, 4.336531, 4.360846, 4.207985, 4.715866, 5.566694999999998, 4.715866, 4.747679, 4.824043, 4.708235, 4.560614, 4.829535, 4.893089, 4.715866, 5.3299, 4.438567, 5.533561, 4.9374150000000006, 4.893089, 4.829535, 4.560614, 4.482785, 4.432823, 4.360846, 4.356801, 4.240634, 4.205729, 4.1376620000000015, 4.156639, 4.1906089999999985, 4.394223, 4.3841199999999985, 4.335065, 4.421101, 4.432221, 4.560614, 4.829535, 4.421101, 4.421101, 5.982265, 4.9374150000000006, 4.893089, 4.829535, 4.560614, 4.482785, 4.432823, 4.360846, 4.336531, 4.356801, 4.360846, 4.432823, 4.482785, 4.560614, 4.9374150000000006, 4.893089, 4.829535, 4.560614, 4.432221, 4.421101, 4.432221, 4.482785, 3.710675, 4.356801, 4.715866, 4.380722, 4.3736739999999985, 5.327627, 5.327627, 3.4478480000000005, 3.710675, 3.740591, 3.987794, 3.710675, 3.4478480000000005, 3.710675, 3.740591, 3.987794, 4.421101, 3.710675, 3.216726, 3.710675, 4.421101, 4.421101, 4.259519999999998, 4.9374150000000006, 4.893089, 4.829535, 4.560614, 4.432221, 4.390259, 4.259519999999998, 4.142966, 3.987794, 4.336531, 3.710675, 4.259519999999998, 3.216726, 4.259519999999998, 3.710675, 3.130412, 3.710675, 3.710675, 3.710675, 4.101426999999998, 4.101426999999998, 3.330341, 3.768889, 4.421101, 3.768889, 4.421101, 3.768889, 3.216726, 3.710675, 4.356801, 3.881883, 3.216726, 3.710675, 3.216726, 4.039653, 3.768889, 3.768889, 4.101426999999998, 3.710675, 3.768889, 4.336531, 4.482076, 4.715866, 3.216726, 4.421101, 4.432221, 4.390259, 4.259519999999998, 4.142966, 3.740591, 3.710675, 3.216726, 5.292866, 4.356801, 4.360846, 4.348513, 4.326219999999998, 4.289895, 4.273543, 4.243393, 4.243393, 4.205081, 4.1653400000000005, 4.115171, 4.095287, 4.071825, 4.055447, 4.356801, 4.465157, 4.465157, 5.327627, 3.710675, 4.715866, 4.336531, 4.336531, 4.438567, 4.564138, 4.521861, 4.421101, 4.421101, 3.710675, 4.360846, 3.710675, 4.22911, 4.829535, 4.893089, 4.421101, 4.432221, 3.910694, 4.360846, 4.336531, 3.987794, 5.327627, 4.039653, 4.360846, 4.047357, 4.047357, 4.336531, 4.336531, 4.432221, 3.710675, 5.566694999999998, 4.101426999999998, 3.616872, 4.101426999999998, 5.497685, 4.047357, 4.047357, 3.216726, 4.390259, 3.710675, 3.740591, 3.987794, 4.390259, 4.432221, 4.56936, 4.701475, 4.482785, 4.299073, 4.390259, 4.259519999999998, 3.710675, 4.360846, 3.710675, 3.740591, 4.142966, 4.482785, 4.482785, 3.710675, 4.336531, 4.715866, 4.5739, 4.326219999999998, 4.360846, 3.264549, 4.893089, 3.710675, 4.421101, 4.432221, 4.747679, 4.630532, 4.560614, 5.327627, 4.482785, 5.422751, 4.047357, 4.047357, 3.872328, 4.482076, 4.482785, 5.050031, 4.360846, 4.482785, 4.432221, 5.327627, 4.360846, 4.240634, 4.432823, 4.432221, 4.360846, 4.442774, 4.442774, 4.715866, 4.360846, 5.566694999999998, 4.356801, 4.668538, 4.438567, 4.482785, 4.482785, 4.470937, 4.715866, 4.45749, 4.560614, 4.360846, 4.360846, 4.432823, 4.465157, 3.740591, 4.360846, 4.733548000000001, 4.733548000000001, 5.566694999999998, 4.394223, 4.356801, 4.421101, 4.465157, 4.560614, 4.336531, 4.336531, 5.050031, 4.421101, 5.312031, 5.422751, 4.356801, 5.975381, 5.854917, 3.710675, 3.127212, 4.421101, 4.715866, 4.2664870000000015, 4.908182, 4.361997, 5.327627, 4.336531, 4.56936, 3.768889, 3.710675, 3.710675, 4.336531, 5.116336, 4.026133, 4.047357, 4.378636, 4.101426999999998, 4.715866, 4.432221, 5.327627, 5.07966, 5.07966, 3.910694, 4.715866, 4.715866, 3.768889, 4.360846, 3.216726, 4.336531, 4.356801, 4.476358, 4.476358, 4.336531, 4.482076, 4.432823, 3.710675, 4.289895, 4.06894, 4.421101, 3.710675, 4.336531, 4.259519999999998, 4.560614, 4.055447, 4.378636, 4.432823, 4.360846, 4.465157, 4.468843, 4.448437, 3.216726, 4.49706, 5.327627, 5.510162, 5.570453, 4.356801, 4.378636, 4.378636, 4.442774, 4.415357, 4.378636, 4.360846, 4.356801, 3.710675, 4.489914, 4.360846, 4.482785, 5.327627, 4.240634, 4.773478, 3.216726, 4.360846, 4.360846, 4.356801, 3.820253, 3.820253, 3.797025, 3.766893, 3.710675, 5.566694999999998, 5.327627, 5.327627, 4.360846, 2.736343, 3.710675, 4.835522, 4.071825, 3.710675, 4.273696, 4.356801, 4.715866, 5.975381, 4.465157, 4.715866, 4.482076, 4.336531, 3.744708, 4.378636, 4.432221, 4.336531, 4.482785, 4.86222, 5.327627, 4.421101, 4.421101, 4.56936, 4.615745, 4.56936, 4.482785, 4.356801, 4.594746, 3.396942, 4.039653, 4.715866, 4.071825, 4.375526, 4.222718, 4.360846, 4.432823, 4.824043, 4.824043, 4.421101, 4.432221, 3.710675, 4.071825, 4.101426999999998, 4.101426999999998, 3.216726, 4.438567, 3.130412, 4.336531, 4.336531, 4.715866, 4.438567, 4.336531, 4.3841199999999985, 4.356801, 4.434154, 4.394223, 4.071825, 4.32978, 3.216726, 3.710675, 5.566694999999998, 4.400965, 4.400965, 4.400965, 4.240634, 4.400965, 4.400965, 4.101426999999998, 4.356801, 4.067519, 4.360846, 4.824043, 5.050031, 4.360846, 4.421101, 4.047357, 3.133864, 3.42551, 4.448437, 3.768889, 3.4478480000000005, 4.468843, 4.273696, 4.258558, 4.360846, 4.56936, 4.3998870000000005, 4.356801], \"marker\": {\"color\": \"blue\"}, \"mode\": \"markers\", \"name\": \"low\", \"type\": \"scattergeo\"}, {\"lat\": [null, null, null, null, null, null, null, null, null, null, null, null, null, null, null, null, 50.845658, 50.835707, 50.835707, 50.835707, 50.835707, 50.835707, 51.035896, 50.845658, 50.88228, 51.197226, 51.025163, 51.135758, 51.151057, 51.188057, 43.455128, 51.197226, 50.859663, 51.108062, 51.056365, 51.035896, 51.197226, 51.228212, 50.835707, 51.181513, 51.2172, 51.035896, 50.845658, 50.859663, 51.017648, 51.19923, 51.056365, 51.197226, 50.468794, 50.570489, 50.29105, 51.035896, 51.035896, 51.197226, 51.035896, 51.197226, 51.035896, 50.88228, 50.588135, 52.379128, 50.845658, 51.035896, 51.208336, 51.056365, 51.2172, 51.025163, 50.824506, 51.035896, 51.056365, 50.40471, 51.035896, 51.035896, 51.197226, 50.605079, 51.2172, 50.530496, 51.197226, 51.001962, 51.197226, 50.88228, 50.88228, 51.2172, 50.845658, 50.845658, 51.035896, 51.017648, 51.035896, 51.017531, 50.990842, 51.035896, 50.88228, 50.88228, 51.056365, 50.838943, 50.885723, 51.022781, 51.2172, 50.890028, 50.40471, 50.45095, 50.859663, 50.859663, 51.197226, 51.035896, 51.073867, 51.032723, 51.001603, 50.75157700000001, 50.907198, 50.88228, 50.859663, 50.771137, 50.835707, 50.835707, 51.135758, 51.035896, 50.835707, 51.154114, 50.845658, 49.68053, 50.733931, 51.017648, 51.19923, 50.694549, 50.530496, 50.626932, 50.694549, 51.19923, 51.022781, 50.845658, 51.19923, 50.829929, 50.868643, 50.733931, 51.035896, 51.029883, 50.845658, 51.035896, 50.845658, 50.845658, 51.035896, 50.845658, 50.723701, 51.017648, 51.2172, 50.854072, 50.859663, 50.859663, 50.835707, 50.845658, 50.741005, 50.453854, 50.88228, 50.984406, 50.723701, 50.723701, 50.530496, 50.824506, 50.859663, 50.845658, 51.181513, 51.241021, 50.839509, 51.017648, 50.673667, 50.568179, 50.859663, 51.181513, 51.19105, 50.640299, 50.660911, 51.092295, 51.035896, 50.835707, 51.029883, 50.766103, 50.835707, 50.835707, 50.835707, 51.035896, 50.737958, 50.410103, 50.845658, 51.035896, 50.896456, 50.599641, 51.19105, 51.19923, 50.907495, 50.878513, 51.099225, 50.824506, 51.19923, 50.640299, 50.673667, 50.838943, 50.921149, 50.824506, 50.891925, 50.891925, 51.18296, 50.852067, 50.859663, 50.896456, 50.824506, 50.74781, 50.835707, 51.181513, 51.188057, 51.168955, 51.035896, 51.035896, 50.990842, 51.025163, 50.202821, 51.44304, 50.62455, 51.035896, 51.010843, 50.845658, 50.835707, 50.859663, 50.453854, 50.835707, 50.984406, 50.878513, 50.835707, 50.737958, 50.835707, 50.835707, 50.794698, 51.035896, 50.843276, 50.838943, 50.822187, 50.794698, 51.19923, 51.197226, 50.859663, 50.955812, 50.822187, 50.661208, 51.19105, 51.211564, 50.713894, 51.003149, 50.640299, 51.19923, 51.2172, 51.2172, 51.2172, 50.80802, 50.835707, 50.854072, 50.835707, 51.134023, 51.091243, 51.069975, 51.228212, 51.228212, 51.017648, 50.845658, 50.835707, 50.850116, 50.824506, 50.914326, null, 51.31352800000001, 50.845658, 50.845658, 50.930822, 50.468794, 50.835707, 50.854072, 50.859663, 51.171472, 50.835707, 50.733931, 50.845658, 51.08753, 50.933473, 50.859663, 50.80802, 50.44286, 50.835707, 51.035896, 51.171472, 51.056365, 51.108062, 51.197828, 51.19923, 51.2172, 50.88228, 50.691708, 50.62455, 50.669793, 50.669793, 50.711413, 50.673667, 50.669793, 51.197226, 50.838943, 51.19923, 50.835707, 50.568179, 50.613152, 50.845658, 50.859663, 50.468794, 50.835707, 51.19923, 51.19923, 51.2172, 50.835707, 51.017648, 50.930822, 50.967057, 50.859663, 51.035896, 51.035896, 51.035896, 50.963758, 50.468794, 51.056365, 51.035896, 51.197226, 51.017648, 50.824506, 50.613134, 50.824506, 50.990842, 50.835707, 51.035896, 50.882531, 50.845658, 51.035896, 50.845658, 50.845658, 50.859663, 50.859663, 50.892456, 51.017648, 51.035896, 50.835707, 50.835707, 50.88228, 50.845658, 50.835707, 51.339894, 51.035896, 50.892456, 50.845658, 50.845658, 50.62455, 50.859663, 50.809215, 50.79183, 50.766364, 50.747927, 50.88228], \"lon\": [4.356801, 4.356801, 4.356801, 4.356801, 4.356801, 4.356801, 4.356801, 4.356801, 4.356801, 4.356801, 4.356801, 4.356801, 4.356801, 4.356801, 4.356801, 4.356801, 3.710675, 3.710675, 3.710675, 3.710675, 3.710675, 3.710675, 4.356801, 4.715866, 4.356801, 3.4478480000000005, 3.710675, 4.432221, 4.560614, 4.829535, 4.336531, 3.710675, 5.327627, 4.142966, 3.987794, 3.740591, 3.710675, 3.216726, 3.710675, 4.560614, 4.988608, 4.525691, 4.336531, 4.356801, 4.360846, 4.482785, 4.432221, 3.4478480000000005, 4.691497, 4.56936, 4.86222, 3.4478480000000005, 4.336531, 2.925809, 4.336531, 3.710675, 3.740591, 4.356801, 4.360846, 4.356801, 3.710675, 4.356801, 3.740591, 4.421101, 3.740591, 3.710675, 4.421101, 3.4478480000000005, 4.421101, 4.336531, 4.039653, 4.039653, 3.216726, 4.336531, 4.432221, 4.336531, 3.710675, 3.710675, 3.710675, 4.356801, 4.360846, 3.740591, 4.421101, 4.691497, 4.421101, 4.482785, 4.039653, 3.710675, 3.710675, 3.330341, 4.356801, 5.327627, 3.987794, 4.442774, 4.442774, 4.360846, 3.710675, 4.326219999999998, 4.356801, 4.86222, 4.06894, 4.715866, 2.925809, 2.925809, 2.6527700000000003, 2.66994, 3.710675, 4.336531, 3.600386, 4.360846, 5.509704, 3.847086, 4.482785, 4.482785, 4.829535, 3.216726, 3.710675, 4.455737, 4.360846, 5.266698, 4.336531, 4.482076, 4.482785, 4.360846, 4.360846, 3.935863, 4.360846, 4.432823, 4.482785, 4.360846, 4.432823, 4.389513, 4.432221, 4.047357, 4.336531, 4.455737, 3.710675, 3.216726, 4.360846, 4.360846, 4.336531, 4.360846, 4.360846, 4.432221, 4.432221, 4.240634, 4.222718, 3.768889, 3.710675, 4.360846, 3.396942, 4.067519, 4.421101, 4.356801, 4.360846, 4.360846, 4.360846, 3.710675, 4.356801, 4.336531, 4.560614, 4.829535, 4.336531, 3.710675, 4.552676, 5.854917, 4.06894, 5.422751, 5.312031, 5.566694999999998, 5.570453, 3.216726, 3.4478480000000005, 3.710675, 4.455737, 4.49706, 5.050031, 3.710675, 3.710675, 3.4478480000000005, 4.56936, 4.86222, 4.421101, 4.421101, 4.336531, 4.363569999999998, 4.432221, 4.489914, 4.432823, 4.417074, 4.221352, 3.130412, 4.390259, 5.566694999999998, 4.615745, 4.56936, 3.130412, 4.432221, 4.095287, 4.095287, 4.432221, 4.360846, 4.378636, 4.482785, 4.336531, 4.482076, 4.86222, 4.847585, 4.988608, 5.116336, 3.81441, 3.329892, 3.534432, 3.330341, 5.346289, -0.1260606, 3.710675, 4.336531, 4.482785, 3.216726, 3.710675, 4.434154, 4.1906089999999985, 4.205729, 5.50938, 4.240634, 4.309167, 4.5328550000000005, 3.3140080000000003, 3.3140080000000003, 4.49706, 3.216726, 4.360846, 4.380722, 4.3736739999999985, 4.389513, 4.476358, 3.710675, 4.380722, 4.715866, 4.360846, 5.249475, 4.988608, 5.116336, 3.396942, 4.356801, 5.570453, 4.482076, 4.469424, 4.432221, 3.42551, 5.07966, 4.240634, 4.240634, 3.710675, 4.465157, 4.476358, 4.493186, 5.566694999999998, 3.710675, 4.356801, 4.360846, 4.356801, 3.81441, 3.600386, 3.264549, 3.255416, 4.360846, 4.336531, 3.710675, 5.176654, 4.56936, 4.240634, 4.240634, 4.240634, 4.221352, 4.356801, 4.336531, 4.360846, 3.987794, 4.222718, 4.715866, 5.07966, 3.744708, 4.1376620000000015, 4.421101, 3.987794, 3.710675, 3.740591, 4.259519999999998, 4.390259, 4.432221, 4.360846, 4.336531, 4.356801, 4.56936, 4.56936, 4.514832, 4.549153, 4.56936, 3.710675, 4.360846, 4.421101, 4.375526, 5.854917, 5.80615, 4.360846, 4.469886, 4.380722, 4.3736739999999985, 3.264549, 4.482785, 4.432221, 4.356801, 4.360846, 4.482785, 5.327627, 4.715866, 3.216726, 3.216726, 3.216726, 5.327627, 5.809971, 3.987794, 3.740591, 3.710675, 4.101426999999998, 2.999286, 3.264549, 2.999286, 3.127212, 4.375526, 3.216726, 4.071825, 4.360846, 3.216726, 4.240634, 3.650465, 4.455737, 4.715866, 4.356801, 4.356801, 3.216726, 4.375526, 3.710675, 5.566694999999998, 3.42551, 3.879384, 3.216726, 3.740591, 4.356801, 4.360846, 4.360846, 4.336531, 5.327627, 4.336531, 4.309167, 4.295333, 4.360846, 3.710675], \"marker\": {\"color\": \"green\"}, \"mode\": \"markers\", \"name\": \"med\", \"type\": \"scattergeo\"}],\n",
              "                        {\"geo\": {\"scope\": \"europe\", \"showland\": true}, \"template\": {\"data\": {\"bar\": [{\"error_x\": {\"color\": \"#2a3f5f\"}, \"error_y\": {\"color\": \"#2a3f5f\"}, \"marker\": {\"line\": {\"color\": \"#E5ECF6\", \"width\": 0.5}}, \"type\": \"bar\"}], \"barpolar\": [{\"marker\": {\"line\": {\"color\": \"#E5ECF6\", \"width\": 0.5}}, \"type\": \"barpolar\"}], \"carpet\": [{\"aaxis\": {\"endlinecolor\": \"#2a3f5f\", \"gridcolor\": \"white\", \"linecolor\": \"white\", \"minorgridcolor\": \"white\", \"startlinecolor\": \"#2a3f5f\"}, \"baxis\": {\"endlinecolor\": \"#2a3f5f\", \"gridcolor\": \"white\", \"linecolor\": \"white\", \"minorgridcolor\": \"white\", \"startlinecolor\": \"#2a3f5f\"}, \"type\": \"carpet\"}], \"choropleth\": [{\"colorbar\": {\"outlinewidth\": 0, \"ticks\": \"\"}, \"type\": \"choropleth\"}], \"contour\": [{\"colorbar\": {\"outlinewidth\": 0, \"ticks\": \"\"}, \"colorscale\": [[0.0, \"#0d0887\"], [0.1111111111111111, \"#46039f\"], [0.2222222222222222, \"#7201a8\"], [0.3333333333333333, \"#9c179e\"], [0.4444444444444444, \"#bd3786\"], [0.5555555555555556, \"#d8576b\"], [0.6666666666666666, \"#ed7953\"], [0.7777777777777778, \"#fb9f3a\"], [0.8888888888888888, \"#fdca26\"], [1.0, \"#f0f921\"]], \"type\": \"contour\"}], \"contourcarpet\": [{\"colorbar\": {\"outlinewidth\": 0, \"ticks\": \"\"}, \"type\": \"contourcarpet\"}], \"heatmap\": [{\"colorbar\": {\"outlinewidth\": 0, \"ticks\": \"\"}, \"colorscale\": [[0.0, \"#0d0887\"], [0.1111111111111111, \"#46039f\"], [0.2222222222222222, \"#7201a8\"], [0.3333333333333333, \"#9c179e\"], [0.4444444444444444, \"#bd3786\"], [0.5555555555555556, \"#d8576b\"], [0.6666666666666666, \"#ed7953\"], [0.7777777777777778, \"#fb9f3a\"], [0.8888888888888888, \"#fdca26\"], [1.0, \"#f0f921\"]], \"type\": \"heatmap\"}], \"heatmapgl\": [{\"colorbar\": {\"outlinewidth\": 0, \"ticks\": \"\"}, \"colorscale\": [[0.0, \"#0d0887\"], [0.1111111111111111, \"#46039f\"], [0.2222222222222222, \"#7201a8\"], [0.3333333333333333, \"#9c179e\"], [0.4444444444444444, \"#bd3786\"], [0.5555555555555556, \"#d8576b\"], [0.6666666666666666, \"#ed7953\"], [0.7777777777777778, \"#fb9f3a\"], [0.8888888888888888, \"#fdca26\"], [1.0, \"#f0f921\"]], \"type\": \"heatmapgl\"}], \"histogram\": [{\"marker\": {\"colorbar\": {\"outlinewidth\": 0, \"ticks\": \"\"}}, \"type\": \"histogram\"}], \"histogram2d\": [{\"colorbar\": {\"outlinewidth\": 0, \"ticks\": \"\"}, \"colorscale\": [[0.0, \"#0d0887\"], [0.1111111111111111, \"#46039f\"], [0.2222222222222222, \"#7201a8\"], [0.3333333333333333, \"#9c179e\"], [0.4444444444444444, \"#bd3786\"], [0.5555555555555556, \"#d8576b\"], [0.6666666666666666, \"#ed7953\"], [0.7777777777777778, \"#fb9f3a\"], [0.8888888888888888, \"#fdca26\"], [1.0, \"#f0f921\"]], \"type\": \"histogram2d\"}], \"histogram2dcontour\": [{\"colorbar\": {\"outlinewidth\": 0, \"ticks\": \"\"}, \"colorscale\": [[0.0, \"#0d0887\"], [0.1111111111111111, \"#46039f\"], [0.2222222222222222, \"#7201a8\"], [0.3333333333333333, \"#9c179e\"], [0.4444444444444444, \"#bd3786\"], [0.5555555555555556, \"#d8576b\"], [0.6666666666666666, \"#ed7953\"], [0.7777777777777778, \"#fb9f3a\"], [0.8888888888888888, \"#fdca26\"], [1.0, \"#f0f921\"]], \"type\": \"histogram2dcontour\"}], \"mesh3d\": [{\"colorbar\": {\"outlinewidth\": 0, \"ticks\": \"\"}, \"type\": \"mesh3d\"}], \"parcoords\": [{\"line\": {\"colorbar\": {\"outlinewidth\": 0, \"ticks\": \"\"}}, \"type\": \"parcoords\"}], \"scatter\": [{\"marker\": {\"colorbar\": {\"outlinewidth\": 0, \"ticks\": \"\"}}, \"type\": \"scatter\"}], \"scatter3d\": [{\"line\": {\"colorbar\": {\"outlinewidth\": 0, \"ticks\": \"\"}}, \"marker\": {\"colorbar\": {\"outlinewidth\": 0, \"ticks\": \"\"}}, \"type\": \"scatter3d\"}], \"scattercarpet\": [{\"marker\": {\"colorbar\": {\"outlinewidth\": 0, \"ticks\": \"\"}}, \"type\": \"scattercarpet\"}], \"scattergeo\": [{\"marker\": {\"colorbar\": {\"outlinewidth\": 0, \"ticks\": \"\"}}, \"type\": \"scattergeo\"}], \"scattergl\": [{\"marker\": {\"colorbar\": {\"outlinewidth\": 0, \"ticks\": \"\"}}, \"type\": \"scattergl\"}], \"scattermapbox\": [{\"marker\": {\"colorbar\": {\"outlinewidth\": 0, \"ticks\": \"\"}}, \"type\": \"scattermapbox\"}], \"scatterpolar\": [{\"marker\": {\"colorbar\": {\"outlinewidth\": 0, \"ticks\": \"\"}}, \"type\": \"scatterpolar\"}], \"scatterpolargl\": [{\"marker\": {\"colorbar\": {\"outlinewidth\": 0, \"ticks\": \"\"}}, \"type\": \"scatterpolargl\"}], \"scatterternary\": [{\"marker\": {\"colorbar\": {\"outlinewidth\": 0, \"ticks\": \"\"}}, \"type\": \"scatterternary\"}], \"surface\": [{\"colorbar\": {\"outlinewidth\": 0, \"ticks\": \"\"}, \"colorscale\": [[0.0, \"#0d0887\"], [0.1111111111111111, \"#46039f\"], [0.2222222222222222, \"#7201a8\"], [0.3333333333333333, \"#9c179e\"], [0.4444444444444444, \"#bd3786\"], [0.5555555555555556, \"#d8576b\"], [0.6666666666666666, \"#ed7953\"], [0.7777777777777778, \"#fb9f3a\"], [0.8888888888888888, \"#fdca26\"], [1.0, \"#f0f921\"]], \"type\": \"surface\"}], \"table\": [{\"cells\": {\"fill\": {\"color\": \"#EBF0F8\"}, \"line\": {\"color\": \"white\"}}, \"header\": {\"fill\": {\"color\": \"#C8D4E3\"}, \"line\": {\"color\": \"white\"}}, \"type\": \"table\"}]}, \"layout\": {\"annotationdefaults\": {\"arrowcolor\": \"#2a3f5f\", \"arrowhead\": 0, \"arrowwidth\": 1}, \"colorscale\": {\"diverging\": [[0, \"#8e0152\"], [0.1, \"#c51b7d\"], [0.2, \"#de77ae\"], [0.3, \"#f1b6da\"], [0.4, \"#fde0ef\"], [0.5, \"#f7f7f7\"], [0.6, \"#e6f5d0\"], [0.7, \"#b8e186\"], [0.8, \"#7fbc41\"], [0.9, \"#4d9221\"], [1, \"#276419\"]], \"sequential\": [[0.0, \"#0d0887\"], [0.1111111111111111, \"#46039f\"], [0.2222222222222222, \"#7201a8\"], [0.3333333333333333, \"#9c179e\"], [0.4444444444444444, \"#bd3786\"], [0.5555555555555556, \"#d8576b\"], [0.6666666666666666, \"#ed7953\"], [0.7777777777777778, \"#fb9f3a\"], [0.8888888888888888, \"#fdca26\"], [1.0, \"#f0f921\"]], \"sequentialminus\": [[0.0, \"#0d0887\"], [0.1111111111111111, \"#46039f\"], [0.2222222222222222, \"#7201a8\"], [0.3333333333333333, \"#9c179e\"], [0.4444444444444444, \"#bd3786\"], [0.5555555555555556, \"#d8576b\"], [0.6666666666666666, \"#ed7953\"], [0.7777777777777778, \"#fb9f3a\"], [0.8888888888888888, \"#fdca26\"], [1.0, \"#f0f921\"]]}, \"colorway\": [\"#636efa\", \"#EF553B\", \"#00cc96\", \"#ab63fa\", \"#FFA15A\", \"#19d3f3\", \"#FF6692\", \"#B6E880\", \"#FF97FF\", \"#FECB52\"], \"font\": {\"color\": \"#2a3f5f\"}, \"geo\": {\"bgcolor\": \"white\", \"lakecolor\": \"white\", \"landcolor\": \"#E5ECF6\", \"showlakes\": true, \"showland\": true, \"subunitcolor\": \"white\"}, \"hoverlabel\": {\"align\": \"left\"}, \"hovermode\": \"closest\", \"mapbox\": {\"style\": \"light\"}, \"paper_bgcolor\": \"white\", \"plot_bgcolor\": \"#E5ECF6\", \"polar\": {\"angularaxis\": {\"gridcolor\": \"white\", \"linecolor\": \"white\", \"ticks\": \"\"}, \"bgcolor\": \"#E5ECF6\", \"radialaxis\": {\"gridcolor\": \"white\", \"linecolor\": \"white\", \"ticks\": \"\"}}, \"scene\": {\"xaxis\": {\"backgroundcolor\": \"#E5ECF6\", \"gridcolor\": \"white\", \"gridwidth\": 2, \"linecolor\": \"white\", \"showbackground\": true, \"ticks\": \"\", \"zerolinecolor\": \"white\"}, \"yaxis\": {\"backgroundcolor\": \"#E5ECF6\", \"gridcolor\": \"white\", \"gridwidth\": 2, \"linecolor\": \"white\", \"showbackground\": true, \"ticks\": \"\", \"zerolinecolor\": \"white\"}, \"zaxis\": {\"backgroundcolor\": \"#E5ECF6\", \"gridcolor\": \"white\", \"gridwidth\": 2, \"linecolor\": \"white\", \"showbackground\": true, \"ticks\": \"\", \"zerolinecolor\": \"white\"}}, \"shapedefaults\": {\"line\": {\"color\": \"#2a3f5f\"}}, \"ternary\": {\"aaxis\": {\"gridcolor\": \"white\", \"linecolor\": \"white\", \"ticks\": \"\"}, \"baxis\": {\"gridcolor\": \"white\", \"linecolor\": \"white\", \"ticks\": \"\"}, \"bgcolor\": \"#E5ECF6\", \"caxis\": {\"gridcolor\": \"white\", \"linecolor\": \"white\", \"ticks\": \"\"}}, \"title\": {\"x\": 0.05}, \"xaxis\": {\"automargin\": true, \"gridcolor\": \"white\", \"linecolor\": \"white\", \"ticks\": \"\", \"zerolinecolor\": \"white\", \"zerolinewidth\": 2}, \"yaxis\": {\"automargin\": true, \"gridcolor\": \"white\", \"linecolor\": \"white\", \"ticks\": \"\", \"zerolinecolor\": \"white\", \"zerolinewidth\": 2}}}, \"title\": {\"text\": \"Most trafficked Railway stations\"}},\n",
              "                        {\"responsive\": true}\n",
              "                    ).then(function(){\n",
              "                            \n",
              "var gd = document.getElementById('f2399a34-1b7b-49b4-af6b-f9b24329ca19');\n",
              "var x = new MutationObserver(function (mutations, observer) {{\n",
              "        var display = window.getComputedStyle(gd).display;\n",
              "        if (!display || display === 'none') {{\n",
              "            console.log([gd, 'removed!']);\n",
              "            Plotly.purge(gd);\n",
              "            observer.disconnect();\n",
              "        }}\n",
              "}});\n",
              "\n",
              "// Listen for the removal of the full notebook cells\n",
              "var notebookContainer = gd.closest('#notebook-container');\n",
              "if (notebookContainer) {{\n",
              "    x.observe(notebookContainer, {childList: true});\n",
              "}}\n",
              "\n",
              "// Listen for the clearing of the current output cell\n",
              "var outputEl = gd.closest('.output');\n",
              "if (outputEl) {{\n",
              "    x.observe(outputEl, {childList: true});\n",
              "}}\n",
              "\n",
              "                        })\n",
              "                };\n",
              "                \n",
              "            </script>\n",
              "        </div>\n",
              "</body>\n",
              "</html>"
            ]
          },
          "metadata": {
            "tags": []
          }
        }
      ]
    },
    {
      "cell_type": "markdown",
      "metadata": {
        "id": "yKbSN3AXew9U",
        "colab_type": "text"
      },
      "source": [
        "### Look at rows with missing data"
      ]
    },
    {
      "cell_type": "code",
      "metadata": {
        "id": "t2nqjxWpkpK5",
        "colab_type": "code",
        "colab": {}
      },
      "source": [
        "null_df = train_data[train_data.isnull()]"
      ],
      "execution_count": 0,
      "outputs": []
    },
    {
      "cell_type": "code",
      "metadata": {
        "id": "mSmc0oMClY4S",
        "colab_type": "code",
        "outputId": "f4a890d3-4391-4116-ea99-3a2cc792e7b3",
        "colab": {
          "base_uri": "https://localhost:8080/",
          "height": 34
        }
      },
      "source": [
        "null_df.shape, train_data.shape"
      ],
      "execution_count": 19,
      "outputs": [
        {
          "output_type": "execute_result",
          "data": {
            "text/plain": [
              "((1284, 19), (1284, 19))"
            ]
          },
          "metadata": {
            "tags": []
          },
          "execution_count": 19
        }
      ]
    },
    {
      "cell_type": "code",
      "metadata": {
        "id": "092yJGmZloWZ",
        "colab_type": "code",
        "outputId": "11479cf8-3923-4866-ea70-8a4d6c41f826",
        "colab": {
          "base_uri": "https://localhost:8080/",
          "height": 34
        }
      },
      "source": [
        "train_data.dropna(how='all').shape"
      ],
      "execution_count": 21,
      "outputs": [
        {
          "output_type": "execute_result",
          "data": {
            "text/plain": [
              "(1284, 19)"
            ]
          },
          "metadata": {
            "tags": []
          },
          "execution_count": 21
        }
      ]
    },
    {
      "cell_type": "markdown",
      "metadata": {
        "id": "oPbsDSFwmiRJ",
        "colab_type": "text"
      },
      "source": [
        "This means that there no rows with all na values, The map made with coordinates makes it clear that the data is about railway stations across Belgium,Netherlands, France and the UK(maybe the City of London), there are stations data without coordinates which can be filled with data if only the names of stations were known which is not the case here."
      ]
    },
    {
      "cell_type": "markdown",
      "metadata": {
        "id": "cvNT9pW77nOG",
        "colab_type": "text"
      },
      "source": [
        "### Data preprocessing"
      ]
    },
    {
      "cell_type": "code",
      "metadata": {
        "id": "FgG2AGS4MhMo",
        "colab_type": "code",
        "colab": {}
      },
      "source": [
        "from sklearn.preprocessing import OneHotEncoder, RobustScaler, LabelEncoder"
      ],
      "execution_count": 0,
      "outputs": []
    },
    {
      "cell_type": "markdown",
      "metadata": {
        "id": "bz4df0ix7nMw",
        "colab_type": "text"
      },
      "source": [
        "#### Missing values"
      ]
    },
    {
      "cell_type": "markdown",
      "metadata": {
        "id": "gDuL7Tob7nLM",
        "colab_type": "text"
      },
      "source": [
        "As discussed before the missing data can be filled if we knew the names of the railway stations, especially the columns with **latitude**, **longitude** and **country codes**. So any imputation on other columns is useless, so let's drop the rows."
      ]
    },
    {
      "cell_type": "code",
      "metadata": {
        "id": "O4BVh6MPChsn",
        "colab_type": "code",
        "colab": {}
      },
      "source": [
        "train_data.dropna(how='any', inplace=True)"
      ],
      "execution_count": 0,
      "outputs": []
    },
    {
      "cell_type": "markdown",
      "metadata": {
        "id": "O95KdKbkC41o",
        "colab_type": "text"
      },
      "source": [
        "#### Scaling and encoding data"
      ]
    },
    {
      "cell_type": "code",
      "metadata": {
        "id": "dgcCPsT_7nEs",
        "colab_type": "code",
        "colab": {}
      },
      "source": [
        "# These need to be label encoded or one hot encoded\n",
        "# columns with date time\n",
        "# .filter(like=['current_date', 'current_time', 'country_code_source', 'country_code_destination'], axis=1)\n",
        "object_col_df = train_data.select_dtypes(include=['object']).copy()"
      ],
      "execution_count": 0,
      "outputs": []
    },
    {
      "cell_type": "markdown",
      "metadata": {
        "id": "rWV7cZmDG_Jm",
        "colab_type": "text"
      },
      "source": [
        "Peculiar columns include `current_date`, `current_time` which are datetime columns and they are represented as features in other columns eg. `current_year`, `current_week` so they can be safely removed from the dataset."
      ]
    },
    {
      "cell_type": "code",
      "metadata": {
        "id": "WXGiDtU6Iv7A",
        "colab_type": "code",
        "outputId": "bf544cf4-6acb-4ab8-a010-95f926e5aa7d",
        "colab": {
          "base_uri": "https://localhost:8080/",
          "height": 86
        }
      },
      "source": [
        "print(f\"\"\"One hot encoded Columns that will be created for some data columns\n",
        "Number of trains: {len(object_col_df.train_name.unique())}\n",
        "Number of stations: {pd.np.unique(object_col_df[['source_name', 'destination_name']].values.ravel()).shape[0]}\n",
        "Number of countries: {pd.np.unique(object_col_df[['country_code_source', 'country_code_destination']].values.ravel()).shape[0]}\"\"\")"
      ],
      "execution_count": 25,
      "outputs": [
        {
          "output_type": "stream",
          "text": [
            "One hot encoded Columns that will be created for some data columns\n",
            "Number of trains: 558\n",
            "Number of stations: 252\n",
            "Number of countries: 6\n"
          ],
          "name": "stdout"
        }
      ]
    },
    {
      "cell_type": "code",
      "metadata": {
        "id": "-8u6kq6AWRfB",
        "colab_type": "code",
        "colab": {}
      },
      "source": [
        "target = object_col_df['target']"
      ],
      "execution_count": 0,
      "outputs": []
    },
    {
      "cell_type": "code",
      "metadata": {
        "id": "eIp1MWm2YGhv",
        "colab_type": "code",
        "outputId": "6d31ce71-cedb-43e1-95ae-d1a4ecf4e133",
        "colab": {
          "base_uri": "https://localhost:8080/",
          "height": 253
        }
      },
      "source": [
        "object_col_df.head()"
      ],
      "execution_count": 27,
      "outputs": [
        {
          "output_type": "execute_result",
          "data": {
            "text/html": [
              "<div>\n",
              "<style scoped>\n",
              "    .dataframe tbody tr th:only-of-type {\n",
              "        vertical-align: middle;\n",
              "    }\n",
              "\n",
              "    .dataframe tbody tr th {\n",
              "        vertical-align: top;\n",
              "    }\n",
              "\n",
              "    .dataframe thead th {\n",
              "        text-align: right;\n",
              "    }\n",
              "</style>\n",
              "<table border=\"1\" class=\"dataframe\">\n",
              "  <thead>\n",
              "    <tr style=\"text-align: right;\">\n",
              "      <th></th>\n",
              "      <th>current_date</th>\n",
              "      <th>current_time</th>\n",
              "      <th>source_name</th>\n",
              "      <th>destination_name</th>\n",
              "      <th>train_name</th>\n",
              "      <th>target</th>\n",
              "      <th>country_code_source</th>\n",
              "      <th>country_code_destination</th>\n",
              "      <th>current_day</th>\n",
              "    </tr>\n",
              "    <tr>\n",
              "      <th>id_code</th>\n",
              "      <th></th>\n",
              "      <th></th>\n",
              "      <th></th>\n",
              "      <th></th>\n",
              "      <th></th>\n",
              "      <th></th>\n",
              "      <th></th>\n",
              "      <th></th>\n",
              "      <th></th>\n",
              "    </tr>\n",
              "  </thead>\n",
              "  <tbody>\n",
              "    <tr>\n",
              "      <th>mgtoldpcbopaoba</th>\n",
              "      <td>2016-07-27</td>\n",
              "      <td>11:41:46 PM</td>\n",
              "      <td>station$130</td>\n",
              "      <td>station$214</td>\n",
              "      <td>ICWVYA</td>\n",
              "      <td>high</td>\n",
              "      <td>whber</td>\n",
              "      <td>whber</td>\n",
              "      <td>Wednesday</td>\n",
              "    </tr>\n",
              "    <tr>\n",
              "      <th>hbvekntxnxearzq</th>\n",
              "      <td>2016-07-28</td>\n",
              "      <td>12:04:25 AM</td>\n",
              "      <td>station$248</td>\n",
              "      <td>station$248</td>\n",
              "      <td>ICZVXY</td>\n",
              "      <td>low</td>\n",
              "      <td>whber</td>\n",
              "      <td>whber</td>\n",
              "      <td>Thursday</td>\n",
              "    </tr>\n",
              "    <tr>\n",
              "      <th>rfwvjolvzoekxsq</th>\n",
              "      <td>2016-07-28</td>\n",
              "      <td>12:18:09 AM</td>\n",
              "      <td>station$248</td>\n",
              "      <td>station$147</td>\n",
              "      <td>ICZVXY</td>\n",
              "      <td>low</td>\n",
              "      <td>whber</td>\n",
              "      <td>whber</td>\n",
              "      <td>Thursday</td>\n",
              "    </tr>\n",
              "    <tr>\n",
              "      <th>jcbfhwsqzpcifpe</th>\n",
              "      <td>2016-07-28</td>\n",
              "      <td>12:38:28 AM</td>\n",
              "      <td>station$177</td>\n",
              "      <td>station$130</td>\n",
              "      <td>ICXUYS</td>\n",
              "      <td>high</td>\n",
              "      <td>whber</td>\n",
              "      <td>whber</td>\n",
              "      <td>Thursday</td>\n",
              "    </tr>\n",
              "    <tr>\n",
              "      <th>qfnccvisvjzlkxg</th>\n",
              "      <td>2016-07-28</td>\n",
              "      <td>08:50:27 AM</td>\n",
              "      <td>station$544</td>\n",
              "      <td>station$147</td>\n",
              "      <td>ICZVAT</td>\n",
              "      <td>medium</td>\n",
              "      <td>whber</td>\n",
              "      <td>whber</td>\n",
              "      <td>Thursday</td>\n",
              "    </tr>\n",
              "  </tbody>\n",
              "</table>\n",
              "</div>"
            ],
            "text/plain": [
              "                current_date current_time  ... country_code_destination current_day\n",
              "id_code                                    ...                                     \n",
              "mgtoldpcbopaoba   2016-07-27  11:41:46 PM  ...                    whber   Wednesday\n",
              "hbvekntxnxearzq   2016-07-28  12:04:25 AM  ...                    whber    Thursday\n",
              "rfwvjolvzoekxsq   2016-07-28  12:18:09 AM  ...                    whber    Thursday\n",
              "jcbfhwsqzpcifpe   2016-07-28  12:38:28 AM  ...                    whber    Thursday\n",
              "qfnccvisvjzlkxg   2016-07-28  08:50:27 AM  ...                    whber    Thursday\n",
              "\n",
              "[5 rows x 9 columns]"
            ]
          },
          "metadata": {
            "tags": []
          },
          "execution_count": 27
        }
      ]
    },
    {
      "cell_type": "markdown",
      "metadata": {
        "id": "p3IFsQF6kRdd",
        "colab_type": "text"
      },
      "source": [
        "Form `datetime` column from the `current_date` and `current_time` and remove the same"
      ]
    },
    {
      "cell_type": "code",
      "metadata": {
        "id": "IQ2ht8RvGbsJ",
        "colab_type": "code",
        "colab": {}
      },
      "source": [
        "object_col_df.loc[:, 'datetime'] = pd.to_datetime(object_col_df.loc[:, 'current_date']+ ' ' + object_col_df.loc[:, 'current_time'])\n",
        "object_col_df.drop(columns=['current_date', 'current_time', 'current_day'], inplace=True)"
      ],
      "execution_count": 0,
      "outputs": []
    },
    {
      "cell_type": "code",
      "metadata": {
        "id": "-5lwqHgSjvGT",
        "colab_type": "code",
        "outputId": "2f38c7ba-c91d-4b67-ebef-15f680f09df6",
        "colab": {
          "base_uri": "https://localhost:8080/",
          "height": 233
        }
      },
      "source": [
        "object_col_df.head()"
      ],
      "execution_count": 29,
      "outputs": [
        {
          "output_type": "execute_result",
          "data": {
            "text/html": [
              "<div>\n",
              "<style scoped>\n",
              "    .dataframe tbody tr th:only-of-type {\n",
              "        vertical-align: middle;\n",
              "    }\n",
              "\n",
              "    .dataframe tbody tr th {\n",
              "        vertical-align: top;\n",
              "    }\n",
              "\n",
              "    .dataframe thead th {\n",
              "        text-align: right;\n",
              "    }\n",
              "</style>\n",
              "<table border=\"1\" class=\"dataframe\">\n",
              "  <thead>\n",
              "    <tr style=\"text-align: right;\">\n",
              "      <th></th>\n",
              "      <th>source_name</th>\n",
              "      <th>destination_name</th>\n",
              "      <th>train_name</th>\n",
              "      <th>target</th>\n",
              "      <th>country_code_source</th>\n",
              "      <th>country_code_destination</th>\n",
              "      <th>datetime</th>\n",
              "    </tr>\n",
              "    <tr>\n",
              "      <th>id_code</th>\n",
              "      <th></th>\n",
              "      <th></th>\n",
              "      <th></th>\n",
              "      <th></th>\n",
              "      <th></th>\n",
              "      <th></th>\n",
              "      <th></th>\n",
              "    </tr>\n",
              "  </thead>\n",
              "  <tbody>\n",
              "    <tr>\n",
              "      <th>mgtoldpcbopaoba</th>\n",
              "      <td>station$130</td>\n",
              "      <td>station$214</td>\n",
              "      <td>ICWVYA</td>\n",
              "      <td>high</td>\n",
              "      <td>whber</td>\n",
              "      <td>whber</td>\n",
              "      <td>2016-07-27 23:41:46</td>\n",
              "    </tr>\n",
              "    <tr>\n",
              "      <th>hbvekntxnxearzq</th>\n",
              "      <td>station$248</td>\n",
              "      <td>station$248</td>\n",
              "      <td>ICZVXY</td>\n",
              "      <td>low</td>\n",
              "      <td>whber</td>\n",
              "      <td>whber</td>\n",
              "      <td>2016-07-28 00:04:25</td>\n",
              "    </tr>\n",
              "    <tr>\n",
              "      <th>rfwvjolvzoekxsq</th>\n",
              "      <td>station$248</td>\n",
              "      <td>station$147</td>\n",
              "      <td>ICZVXY</td>\n",
              "      <td>low</td>\n",
              "      <td>whber</td>\n",
              "      <td>whber</td>\n",
              "      <td>2016-07-28 00:18:09</td>\n",
              "    </tr>\n",
              "    <tr>\n",
              "      <th>jcbfhwsqzpcifpe</th>\n",
              "      <td>station$177</td>\n",
              "      <td>station$130</td>\n",
              "      <td>ICXUYS</td>\n",
              "      <td>high</td>\n",
              "      <td>whber</td>\n",
              "      <td>whber</td>\n",
              "      <td>2016-07-28 00:38:28</td>\n",
              "    </tr>\n",
              "    <tr>\n",
              "      <th>qfnccvisvjzlkxg</th>\n",
              "      <td>station$544</td>\n",
              "      <td>station$147</td>\n",
              "      <td>ICZVAT</td>\n",
              "      <td>medium</td>\n",
              "      <td>whber</td>\n",
              "      <td>whber</td>\n",
              "      <td>2016-07-28 08:50:27</td>\n",
              "    </tr>\n",
              "  </tbody>\n",
              "</table>\n",
              "</div>"
            ],
            "text/plain": [
              "                 source_name  ...            datetime\n",
              "id_code                       ...                    \n",
              "mgtoldpcbopaoba  station$130  ... 2016-07-27 23:41:46\n",
              "hbvekntxnxearzq  station$248  ... 2016-07-28 00:04:25\n",
              "rfwvjolvzoekxsq  station$248  ... 2016-07-28 00:18:09\n",
              "jcbfhwsqzpcifpe  station$177  ... 2016-07-28 00:38:28\n",
              "qfnccvisvjzlkxg  station$544  ... 2016-07-28 08:50:27\n",
              "\n",
              "[5 rows x 7 columns]"
            ]
          },
          "metadata": {
            "tags": []
          },
          "execution_count": 29
        }
      ]
    },
    {
      "cell_type": "markdown",
      "metadata": {
        "id": "tA1Aod7PkmCJ",
        "colab_type": "text"
      },
      "source": [
        "Get the date and time  specific features from `datetime` column"
      ]
    },
    {
      "cell_type": "code",
      "metadata": {
        "id": "U6b6yvKGiKbD",
        "colab_type": "code",
        "colab": {}
      },
      "source": [
        "import math\n",
        "object_col_df['DT_M'] = object_col_df['datetime'].dt.month.astype(pd.np.int8)\n",
        "object_col_df['DT_W'] = object_col_df['datetime'].dt.weekofyear.astype(pd.np.int8)\n",
        "object_col_df['DT_D'] = object_col_df['datetime'].dt.dayofyear.astype(pd.np.int16)\n",
        "\n",
        "object_col_df['DT_hour'] = object_col_df['datetime'].dt.hour.astype(pd.np.int8)\n",
        "object_col_df['DT_day_week'] = object_col_df['datetime'].dt.dayofweek.astype(pd.np.int8)\n",
        "object_col_df['DT_day_month'] = object_col_df['datetime'].dt.day.astype(pd.np.int8)\n",
        "object_col_df['DT_week_month'] = object_col_df['datetime'].dt.day/7\n",
        "object_col_df['DT_week_month'] = object_col_df['DT_week_month'].apply(lambda x: math.ceil(x)).astype(pd.np.int8)"
      ],
      "execution_count": 0,
      "outputs": []
    },
    {
      "cell_type": "code",
      "metadata": {
        "id": "3VBlS5Xnl6AP",
        "colab_type": "code",
        "colab": {}
      },
      "source": [
        "object_col_df.drop(columns=['datetime', 'target'], inplace=True)"
      ],
      "execution_count": 0,
      "outputs": []
    },
    {
      "cell_type": "markdown",
      "metadata": {
        "id": "1CNMThk_pXgg",
        "colab_type": "text"
      },
      "source": [
        "Filter again"
      ]
    },
    {
      "cell_type": "code",
      "metadata": {
        "id": "IsLc9BHumBy0",
        "colab_type": "code",
        "colab": {}
      },
      "source": [
        "date_feat = object_col_df.select_dtypes(exclude=['object']).copy()"
      ],
      "execution_count": 0,
      "outputs": []
    },
    {
      "cell_type": "code",
      "metadata": {
        "id": "3RIVIj5apHRV",
        "colab_type": "code",
        "colab": {}
      },
      "source": [
        "object_col_df = object_col_df.select_dtypes(exclude=[pd.np.int8, pd.np.int16]).copy()"
      ],
      "execution_count": 0,
      "outputs": []
    },
    {
      "cell_type": "code",
      "metadata": {
        "id": "6_Kibvi9qZ-m",
        "colab_type": "code",
        "outputId": "8b729f0d-b251-4026-c9d2-6da698795977",
        "colab": {
          "base_uri": "https://localhost:8080/",
          "height": 190
        }
      },
      "source": [
        "object_col_df.info()"
      ],
      "execution_count": 34,
      "outputs": [
        {
          "output_type": "stream",
          "text": [
            "<class 'pandas.core.frame.DataFrame'>\n",
            "Index: 1250 entries, mgtoldpcbopaoba to hfhwirltuffenfr\n",
            "Data columns (total 5 columns):\n",
            "source_name                 1250 non-null object\n",
            "destination_name            1250 non-null object\n",
            "train_name                  1250 non-null object\n",
            "country_code_source         1250 non-null object\n",
            "country_code_destination    1250 non-null object\n",
            "dtypes: object(5)\n",
            "memory usage: 58.6+ KB\n"
          ],
          "name": "stdout"
        }
      ]
    },
    {
      "cell_type": "markdown",
      "metadata": {
        "id": "yVWRgaUqplUW",
        "colab_type": "text"
      },
      "source": [
        "Join date features with original dataframes"
      ]
    },
    {
      "cell_type": "code",
      "metadata": {
        "id": "_5suEuG7n13d",
        "colab_type": "code",
        "colab": {}
      },
      "source": [
        "train_data = train_data.join(date_feat, how='outer')"
      ],
      "execution_count": 0,
      "outputs": []
    },
    {
      "cell_type": "markdown",
      "metadata": {
        "id": "2Ml06EpWMSip",
        "colab_type": "text"
      },
      "source": [
        "Let's prep the data now."
      ]
    },
    {
      "cell_type": "code",
      "metadata": {
        "id": "G8FoqbMzprws",
        "colab_type": "code",
        "colab": {}
      },
      "source": [
        "ohe = OneHotEncoder(handle_unknown='error', drop='first')"
      ],
      "execution_count": 0,
      "outputs": []
    },
    {
      "cell_type": "markdown",
      "metadata": {
        "id": "DZRShrcnFgIm",
        "colab_type": "text"
      },
      "source": [
        "###### Before"
      ]
    },
    {
      "cell_type": "code",
      "metadata": {
        "id": "r9-7swU9Fejp",
        "colab_type": "code",
        "outputId": "c03acd99-4b51-430d-9d61-5b2b65e0f640",
        "colab": {
          "base_uri": "https://localhost:8080/",
          "height": 34
        }
      },
      "source": [
        "object_col_df.shape"
      ],
      "execution_count": 38,
      "outputs": [
        {
          "output_type": "execute_result",
          "data": {
            "text/plain": [
              "(1250, 5)"
            ]
          },
          "metadata": {
            "tags": []
          },
          "execution_count": 38
        }
      ]
    },
    {
      "cell_type": "markdown",
      "metadata": {
        "id": "vjtEs40WFieP",
        "colab_type": "text"
      },
      "source": [
        "###### After"
      ]
    },
    {
      "cell_type": "code",
      "metadata": {
        "id": "yC_1eENqEXg5",
        "colab_type": "code",
        "colab": {}
      },
      "source": [
        "ohe_arr = ohe.fit_transform(X=object_col_df)"
      ],
      "execution_count": 0,
      "outputs": []
    },
    {
      "cell_type": "code",
      "metadata": {
        "id": "n2C3S-BmwNai",
        "colab_type": "code",
        "outputId": "8412eceb-15fe-42cd-8d9b-08a3d2741ead",
        "colab": {
          "base_uri": "https://localhost:8080/",
          "height": 34
        }
      },
      "source": [
        "ohe_arr.shape"
      ],
      "execution_count": 52,
      "outputs": [
        {
          "output_type": "execute_result",
          "data": {
            "text/plain": [
              "(1250, 964)"
            ]
          },
          "metadata": {
            "tags": []
          },
          "execution_count": 52
        }
      ]
    },
    {
      "cell_type": "markdown",
      "metadata": {
        "id": "zutCWUlJwTWc",
        "colab_type": "text"
      },
      "source": [
        "As expected one hot encoding made too many columns so a **PCA** may be required."
      ]
    },
    {
      "cell_type": "markdown",
      "metadata": {
        "id": "IoN90LvKoPd_",
        "colab_type": "text"
      },
      "source": [
        "##### Target Encoding"
      ]
    },
    {
      "cell_type": "code",
      "metadata": {
        "id": "XUSnTb_coegM",
        "colab_type": "code",
        "colab": {}
      },
      "source": [
        "le = LabelEncoder()"
      ],
      "execution_count": 0,
      "outputs": []
    },
    {
      "cell_type": "code",
      "metadata": {
        "id": "7c05sH7Sob7z",
        "colab_type": "code",
        "colab": {
          "base_uri": "https://localhost:8080/",
          "height": 34
        },
        "outputId": "98ad424d-f3cf-4883-9638-7c7b91787fcd"
      },
      "source": [
        "target_enc = le.fit_transform(target)\n",
        "le_name_mapping = dict(zip(le.classes_, le.transform(le.classes_)))\n",
        "le_name_mapping"
      ],
      "execution_count": 57,
      "outputs": [
        {
          "output_type": "execute_result",
          "data": {
            "text/plain": [
              "{'high': 0, 'low': 1, 'medium': 2}"
            ]
          },
          "metadata": {
            "tags": []
          },
          "execution_count": 57
        }
      ]
    },
    {
      "cell_type": "markdown",
      "metadata": {
        "id": "HVUWR-bmxZUP",
        "colab_type": "text"
      },
      "source": [
        "#### Filtering Scalable data"
      ]
    },
    {
      "cell_type": "markdown",
      "metadata": {
        "id": "zkL0dCbBrg9-",
        "colab_type": "text"
      },
      "source": [
        "We have excluded the `date` features created above because they would lose meaning if they are scaled. we will also **exclude the coordinate columns** because we have the `source` and `destination` stations names, since there can only **one pair of coordinates** representing a station, we could confirm by checking the unique count of the respective columns."
      ]
    },
    {
      "cell_type": "code",
      "metadata": {
        "colab_type": "code",
        "id": "H5HLYeXivdeH",
        "colab": {}
      },
      "source": [
        "# These need to be scaled\n",
        "num_col_df = train_data.select_dtypes(include=['int', 'float']).copy()"
      ],
      "execution_count": 0,
      "outputs": []
    },
    {
      "cell_type": "code",
      "metadata": {
        "id": "oxZ1wqMVwqEP",
        "colab_type": "code",
        "colab": {}
      },
      "source": [
        "assert len(num_col_df['latitude_source'].unique()) == len(train_data['source_name'].unique())"
      ],
      "execution_count": 0,
      "outputs": []
    },
    {
      "cell_type": "markdown",
      "metadata": {
        "id": "WhvzSoB9DJVO",
        "colab_type": "text"
      },
      "source": [
        "##### Scaling"
      ]
    },
    {
      "cell_type": "code",
      "metadata": {
        "id": "z_bvgDaTrzmv",
        "colab_type": "code",
        "colab": {}
      },
      "source": [
        "num_col_df = num_col_df.filter(like=\"mean\")"
      ],
      "execution_count": 0,
      "outputs": []
    },
    {
      "cell_type": "code",
      "metadata": {
        "id": "RKbmylf_A6K7",
        "colab_type": "code",
        "colab": {}
      },
      "source": [
        "scaler = RobustScaler()"
      ],
      "execution_count": 0,
      "outputs": []
    },
    {
      "cell_type": "markdown",
      "metadata": {
        "id": "1OFVZA3pCTry",
        "colab_type": "text"
      },
      "source": [
        "###### Before"
      ]
    },
    {
      "cell_type": "code",
      "metadata": {
        "id": "C4-xf2ybB-JI",
        "colab_type": "code",
        "outputId": "e6ec2136-9b38-48eb-e19e-852eb8a4d50c",
        "colab": {
          "base_uri": "https://localhost:8080/",
          "height": 294
        }
      },
      "source": [
        "num_col_df.describe()"
      ],
      "execution_count": 47,
      "outputs": [
        {
          "output_type": "execute_result",
          "data": {
            "text/html": [
              "<div>\n",
              "<style scoped>\n",
              "    .dataframe tbody tr th:only-of-type {\n",
              "        vertical-align: middle;\n",
              "    }\n",
              "\n",
              "    .dataframe tbody tr th {\n",
              "        vertical-align: top;\n",
              "    }\n",
              "\n",
              "    .dataframe thead th {\n",
              "        text-align: right;\n",
              "    }\n",
              "</style>\n",
              "<table border=\"1\" class=\"dataframe\">\n",
              "  <thead>\n",
              "    <tr style=\"text-align: right;\">\n",
              "      <th></th>\n",
              "      <th>mean_halt_times_source</th>\n",
              "      <th>mean_halt_times_destination</th>\n",
              "    </tr>\n",
              "  </thead>\n",
              "  <tbody>\n",
              "    <tr>\n",
              "      <th>count</th>\n",
              "      <td>1250.000000</td>\n",
              "      <td>1250.000000</td>\n",
              "    </tr>\n",
              "    <tr>\n",
              "      <th>mean</th>\n",
              "      <td>269.617010</td>\n",
              "      <td>272.061979</td>\n",
              "    </tr>\n",
              "    <tr>\n",
              "      <th>std</th>\n",
              "      <td>224.705656</td>\n",
              "      <td>234.417394</td>\n",
              "    </tr>\n",
              "    <tr>\n",
              "      <th>min</th>\n",
              "      <td>0.000000</td>\n",
              "      <td>0.000000</td>\n",
              "    </tr>\n",
              "    <tr>\n",
              "      <th>25%</th>\n",
              "      <td>78.488439</td>\n",
              "      <td>71.193642</td>\n",
              "    </tr>\n",
              "    <tr>\n",
              "      <th>50%</th>\n",
              "      <td>180.598266</td>\n",
              "      <td>164.419075</td>\n",
              "    </tr>\n",
              "    <tr>\n",
              "      <th>75%</th>\n",
              "      <td>421.644509</td>\n",
              "      <td>421.644509</td>\n",
              "    </tr>\n",
              "    <tr>\n",
              "      <th>max</th>\n",
              "      <td>686.615607</td>\n",
              "      <td>686.615607</td>\n",
              "    </tr>\n",
              "  </tbody>\n",
              "</table>\n",
              "</div>"
            ],
            "text/plain": [
              "       mean_halt_times_source  mean_halt_times_destination\n",
              "count             1250.000000                  1250.000000\n",
              "mean               269.617010                   272.061979\n",
              "std                224.705656                   234.417394\n",
              "min                  0.000000                     0.000000\n",
              "25%                 78.488439                    71.193642\n",
              "50%                180.598266                   164.419075\n",
              "75%                421.644509                   421.644509\n",
              "max                686.615607                   686.615607"
            ]
          },
          "metadata": {
            "tags": []
          },
          "execution_count": 47
        }
      ]
    },
    {
      "cell_type": "markdown",
      "metadata": {
        "id": "cZbL1PUgCYZS",
        "colab_type": "text"
      },
      "source": [
        "###### After"
      ]
    },
    {
      "cell_type": "code",
      "metadata": {
        "id": "ZUVwWSxaBHf3",
        "colab_type": "code",
        "outputId": "ec5760d1-4ab9-4f59-bb62-16e7c70adfe7",
        "colab": {
          "base_uri": "https://localhost:8080/",
          "height": 294
        }
      },
      "source": [
        "scaled_num = scaler.fit_transform(num_col_df)\n",
        "pd.DataFrame(scaled_num, columns=num_col_df.columns).describe()"
      ],
      "execution_count": 48,
      "outputs": [
        {
          "output_type": "execute_result",
          "data": {
            "text/html": [
              "<div>\n",
              "<style scoped>\n",
              "    .dataframe tbody tr th:only-of-type {\n",
              "        vertical-align: middle;\n",
              "    }\n",
              "\n",
              "    .dataframe tbody tr th {\n",
              "        vertical-align: top;\n",
              "    }\n",
              "\n",
              "    .dataframe thead th {\n",
              "        text-align: right;\n",
              "    }\n",
              "</style>\n",
              "<table border=\"1\" class=\"dataframe\">\n",
              "  <thead>\n",
              "    <tr style=\"text-align: right;\">\n",
              "      <th></th>\n",
              "      <th>mean_halt_times_source</th>\n",
              "      <th>mean_halt_times_destination</th>\n",
              "    </tr>\n",
              "  </thead>\n",
              "  <tbody>\n",
              "    <tr>\n",
              "      <th>count</th>\n",
              "      <td>1250.000000</td>\n",
              "      <td>1250.000000</td>\n",
              "    </tr>\n",
              "    <tr>\n",
              "      <th>mean</th>\n",
              "      <td>0.259412</td>\n",
              "      <td>0.307155</td>\n",
              "    </tr>\n",
              "    <tr>\n",
              "      <th>std</th>\n",
              "      <td>0.654821</td>\n",
              "      <td>0.668902</td>\n",
              "    </tr>\n",
              "    <tr>\n",
              "      <th>min</th>\n",
              "      <td>-0.526286</td>\n",
              "      <td>-0.469164</td>\n",
              "    </tr>\n",
              "    <tr>\n",
              "      <th>25%</th>\n",
              "      <td>-0.297561</td>\n",
              "      <td>-0.266016</td>\n",
              "    </tr>\n",
              "    <tr>\n",
              "      <th>50%</th>\n",
              "      <td>0.000000</td>\n",
              "      <td>0.000000</td>\n",
              "    </tr>\n",
              "    <tr>\n",
              "      <th>75%</th>\n",
              "      <td>0.702439</td>\n",
              "      <td>0.733984</td>\n",
              "    </tr>\n",
              "    <tr>\n",
              "      <th>max</th>\n",
              "      <td>1.474598</td>\n",
              "      <td>1.490071</td>\n",
              "    </tr>\n",
              "  </tbody>\n",
              "</table>\n",
              "</div>"
            ],
            "text/plain": [
              "       mean_halt_times_source  mean_halt_times_destination\n",
              "count             1250.000000                  1250.000000\n",
              "mean                 0.259412                     0.307155\n",
              "std                  0.654821                     0.668902\n",
              "min                 -0.526286                    -0.469164\n",
              "25%                 -0.297561                    -0.266016\n",
              "50%                  0.000000                     0.000000\n",
              "75%                  0.702439                     0.733984\n",
              "max                  1.474598                     1.490071"
            ]
          },
          "metadata": {
            "tags": []
          },
          "execution_count": 48
        }
      ]
    },
    {
      "cell_type": "code",
      "metadata": {
        "id": "BZas5KhWxsvE",
        "colab_type": "code",
        "outputId": "502efba5-834c-464d-c5b6-7fe71391c9e1",
        "colab": {
          "base_uri": "https://localhost:8080/",
          "height": 34
        }
      },
      "source": [
        "scaled_num.shape"
      ],
      "execution_count": 49,
      "outputs": [
        {
          "output_type": "execute_result",
          "data": {
            "text/plain": [
              "(1250, 2)"
            ]
          },
          "metadata": {
            "tags": []
          },
          "execution_count": 49
        }
      ]
    },
    {
      "cell_type": "markdown",
      "metadata": {
        "id": "FmUr6P71nFZD",
        "colab_type": "text"
      },
      "source": [
        "### Gather data and save preprocessing objects"
      ]
    },
    {
      "cell_type": "code",
      "metadata": {
        "id": "vxCCGvac2mPJ",
        "colab_type": "code",
        "colab": {}
      },
      "source": [
        "unneeded_cols = [\n",
        "                 'current_date', 'current_time', 'current_year', 'current_week', 'current_day',         # Since we made date features with the datetime column\n",
        "                 'latitude_destination', 'latitude_source', 'longitude_destination', 'longitude_source' # Since we have the station names\n",
        "                 ]"
      ],
      "execution_count": 0,
      "outputs": []
    },
    {
      "cell_type": "code",
      "metadata": {
        "id": "h9iF_4CAn8Ts",
        "colab_type": "code",
        "colab": {}
      },
      "source": [
        "# Save everything in a dictionary\n",
        "encoders_and_data = {\n",
        "    'target': le,\n",
        "    'ohe': ohe,\n",
        "    'ohe_arr': ohe_arr,\n",
        "    'scaler': scaler,\n",
        "    'scaled_num': scaled_num,\n",
        "    'unneeded_cols': unneeded_cols,\n",
        "    'date_feat': date_feat\n",
        "}"
      ],
      "execution_count": 0,
      "outputs": []
    },
    {
      "cell_type": "code",
      "metadata": {
        "id": "LNVjKT3dmpwL",
        "colab_type": "code",
        "colab": {}
      },
      "source": [
        "import joblib\n",
        "\n",
        "with open('encoders_and_data.joblib', 'wb') as f:\n",
        "    joblib.dump(encoders_and_data, f)"
      ],
      "execution_count": 0,
      "outputs": []
    }
  ]
}