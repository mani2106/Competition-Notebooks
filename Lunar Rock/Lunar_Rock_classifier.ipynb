{
  "nbformat": 4,
  "nbformat_minor": 0,
  "metadata": {
    "colab": {
      "name": "Lunar Rock classifier.ipynb",
      "provenance": [],
      "collapsed_sections": [],
      "toc_visible": true,
      "include_colab_link": true
    },
    "kernelspec": {
      "name": "python3",
      "display_name": "Python 3"
    },
    "accelerator": "GPU"
  },
  "cells": [
    {
      "cell_type": "markdown",
      "metadata": {
        "id": "view-in-github",
        "colab_type": "text"
      },
      "source": [
        "<a href=\"https://colab.research.google.com/github/mani2106/Competition-Notebooks/blob/master/Lunar%20Rock/Lunar_Rock_classifier.ipynb\" target=\"_parent\"><img src=\"https://colab.research.google.com/assets/colab-badge.svg\" alt=\"Open In Colab\"/></a>"
      ]
    },
    {
      "cell_type": "markdown",
      "metadata": {
        "id": "T8j8FuewbX8X",
        "colab_type": "text"
      },
      "source": [
        "### Download data from link"
      ]
    },
    {
      "cell_type": "code",
      "metadata": {
        "id": "eLR1vDCwbbDM",
        "colab_type": "code",
        "colab": {
          "base_uri": "https://localhost:8080/",
          "height": 326
        },
        "outputId": "4ee341c4-355b-444d-bc3a-a236ff0c2e5e"
      },
      "source": [
        "!wget -O data.zip http://hck.re/kkBIfM"
      ],
      "execution_count": 1,
      "outputs": [
        {
          "output_type": "stream",
          "text": [
            "--2019-10-02 13:28:37--  http://hck.re/kkBIfM\n",
            "Resolving hck.re (hck.re)... 52.77.45.194, 54.179.135.16, 18.139.120.80\n",
            "Connecting to hck.re (hck.re)|52.77.45.194|:80... connected.\n",
            "HTTP request sent, awaiting response... 301 Moved Permanently\n",
            "Cookie coming from hck.re attempted to set domain to hackerearth.com\n",
            "Cookie coming from hck.re attempted to set domain to hackerearth.com\n",
            "Cookie coming from hck.re attempted to set domain to hackerearth.com\n",
            "Location: https://he-public-data.s3-ap-southeast-1.amazonaws.com/DataSet.zip [following]\n",
            "--2019-10-02 13:28:38--  https://he-public-data.s3-ap-southeast-1.amazonaws.com/DataSet.zip\n",
            "Resolving he-public-data.s3-ap-southeast-1.amazonaws.com (he-public-data.s3-ap-southeast-1.amazonaws.com)... 52.219.40.207\n",
            "Connecting to he-public-data.s3-ap-southeast-1.amazonaws.com (he-public-data.s3-ap-southeast-1.amazonaws.com)|52.219.40.207|:443... connected.\n",
            "HTTP request sent, awaiting response... 200 OK\n",
            "Length: 733209860 (699M) [application/zip]\n",
            "Saving to: ‘data.zip’\n",
            "\n",
            "data.zip            100%[===================>] 699.24M  39.4MB/s    in 18s     \n",
            "\n",
            "2019-10-02 13:28:57 (38.0 MB/s) - ‘data.zip’ saved [733209860/733209860]\n",
            "\n"
          ],
          "name": "stdout"
        }
      ]
    },
    {
      "cell_type": "markdown",
      "metadata": {
        "id": "WCiNo9fUaxrl",
        "colab_type": "text"
      },
      "source": [
        "### Mount Drive to store model"
      ]
    },
    {
      "cell_type": "code",
      "metadata": {
        "id": "ni_BKTmnbFZF",
        "colab_type": "code",
        "outputId": "d87816a1-a2ee-4ba3-c05d-7abac58426d8",
        "colab": {
          "base_uri": "https://localhost:8080/",
          "height": 118
        }
      },
      "source": [
        "from google.colab import drive\n",
        "drive.mount('/content/drive')"
      ],
      "execution_count": 2,
      "outputs": [
        {
          "output_type": "stream",
          "text": [
            "Go to this URL in a browser: https://accounts.google.com/o/oauth2/auth?client_id=947318989803-6bn6qk8qdgf4n4g3pfee6491hc0brc4i.apps.googleusercontent.com&redirect_uri=urn%3Aietf%3Awg%3Aoauth%3A2.0%3Aoob&scope=email%20https%3A%2F%2Fwww.googleapis.com%2Fauth%2Fdocs.test%20https%3A%2F%2Fwww.googleapis.com%2Fauth%2Fdrive%20https%3A%2F%2Fwww.googleapis.com%2Fauth%2Fdrive.photos.readonly%20https%3A%2F%2Fwww.googleapis.com%2Fauth%2Fpeopleapi.readonly&response_type=code\n",
            "\n",
            "Enter your authorization code:\n",
            "··········\n",
            "Mounted at /content/drive\n"
          ],
          "name": "stdout"
        }
      ]
    },
    {
      "cell_type": "markdown",
      "metadata": {
        "id": "xJioE97zcSxa",
        "colab_type": "text"
      },
      "source": [
        "### Unzip data"
      ]
    },
    {
      "cell_type": "code",
      "metadata": {
        "id": "nJKDgJQncidd",
        "colab_type": "code",
        "colab": {
          "base_uri": "https://localhost:8080/",
          "height": 115
        },
        "outputId": "f15cd08f-b4e3-4a9f-ec3d-a3fa1fb83ce1"
      },
      "source": [
        "!unzip data.zip"
      ],
      "execution_count": 3,
      "outputs": [
        {
          "output_type": "stream",
          "text": [
            "Archive:  data.zip\n",
            "   creating: DataSet/\n",
            " extracting: DataSet/Test Images.zip  \n",
            "  inflating: DataSet/test.csv        \n",
            "  inflating: DataSet/train.csv       \n",
            " extracting: DataSet/Train Images.zip  \n"
          ],
          "name": "stdout"
        }
      ]
    },
    {
      "cell_type": "code",
      "metadata": {
        "id": "AsWye-jncjlC",
        "colab_type": "code",
        "colab": {}
      },
      "source": [
        "!rm data.zip"
      ],
      "execution_count": 0,
      "outputs": []
    },
    {
      "cell_type": "code",
      "metadata": {
        "id": "1IDQZe9-czVc",
        "colab_type": "code",
        "colab": {}
      },
      "source": [
        "!unzip \"DataSet/Train Images.zip\" -d DataSet"
      ],
      "execution_count": 0,
      "outputs": []
    },
    {
      "cell_type": "code",
      "metadata": {
        "id": "4IPUFV9XdVVq",
        "colab_type": "code",
        "colab": {}
      },
      "source": [
        "!unzip \"DataSet/Test Images.zip\" -d DataSet"
      ],
      "execution_count": 0,
      "outputs": []
    },
    {
      "cell_type": "markdown",
      "metadata": {
        "id": "vwiIY7DWd0rT",
        "colab_type": "text"
      },
      "source": [
        "### Import Libraries"
      ]
    },
    {
      "cell_type": "code",
      "metadata": {
        "id": "1wqbkC2Sduw2",
        "colab_type": "code",
        "colab": {}
      },
      "source": [
        "from fastai.vision import *\n",
        "from fastai.metrics import error_rate, auc_roc_score\n",
        "from fastai.callbacks.tracker import ReduceLROnPlateauCallback, SaveModelCallback\n",
        "from fastai.callbacks import CSVLogger"
      ],
      "execution_count": 0,
      "outputs": []
    },
    {
      "cell_type": "markdown",
      "metadata": {
        "id": "k7CPGA1ZfYQ-",
        "colab_type": "text"
      },
      "source": [
        "### Setup paths"
      ]
    },
    {
      "cell_type": "code",
      "metadata": {
        "id": "tA3xxvGyfuGx",
        "colab_type": "code",
        "colab": {}
      },
      "source": [
        "! mkdir drive/My\\ Drive/Competition\\ Models\n",
        "! mkdir drive/My\\ Drive/Competition\\ Models/Lunar\\ Rock"
      ],
      "execution_count": 0,
      "outputs": []
    },
    {
      "cell_type": "code",
      "metadata": {
        "id": "gJWwkptpfnNV",
        "colab_type": "code",
        "colab": {}
      },
      "source": [
        "WEIGHTS_PATH = Path('drive/My Drive/Competition Models/Lunar Rocks')\n",
        "DATA_PATH = Path('DataSet')"
      ],
      "execution_count": 0,
      "outputs": []
    },
    {
      "cell_type": "markdown",
      "metadata": {
        "id": "zYAndMN3g62i",
        "colab_type": "text"
      },
      "source": [
        "### Read labels from dataframes"
      ]
    },
    {
      "cell_type": "code",
      "metadata": {
        "id": "klntoe8Sg90z",
        "colab_type": "code",
        "colab": {
          "base_uri": "https://localhost:8080/",
          "height": 191
        },
        "outputId": "6bd8d37c-cae9-4b56-ad99-70d5ac91da11"
      },
      "source": [
        "train_labels = pd.read_csv(DATA_PATH/'train.csv')\n",
        "train_labels.head()"
      ],
      "execution_count": 11,
      "outputs": [
        {
          "output_type": "execute_result",
          "data": {
            "text/html": [
              "<div>\n",
              "<style scoped>\n",
              "    .dataframe tbody tr th:only-of-type {\n",
              "        vertical-align: middle;\n",
              "    }\n",
              "\n",
              "    .dataframe tbody tr th {\n",
              "        vertical-align: top;\n",
              "    }\n",
              "\n",
              "    .dataframe thead th {\n",
              "        text-align: right;\n",
              "    }\n",
              "</style>\n",
              "<table border=\"1\" class=\"dataframe\">\n",
              "  <thead>\n",
              "    <tr style=\"text-align: right;\">\n",
              "      <th></th>\n",
              "      <th>Image_File</th>\n",
              "      <th>Class</th>\n",
              "    </tr>\n",
              "  </thead>\n",
              "  <tbody>\n",
              "    <tr>\n",
              "      <th>0</th>\n",
              "      <td>clean2416.png</td>\n",
              "      <td>Large</td>\n",
              "    </tr>\n",
              "    <tr>\n",
              "      <th>1</th>\n",
              "      <td>ground4022.png</td>\n",
              "      <td>Small</td>\n",
              "    </tr>\n",
              "    <tr>\n",
              "      <th>2</th>\n",
              "      <td>ground0340.png</td>\n",
              "      <td>Small</td>\n",
              "    </tr>\n",
              "    <tr>\n",
              "      <th>3</th>\n",
              "      <td>ground2110.png</td>\n",
              "      <td>Small</td>\n",
              "    </tr>\n",
              "    <tr>\n",
              "      <th>4</th>\n",
              "      <td>clean1581.png</td>\n",
              "      <td>Large</td>\n",
              "    </tr>\n",
              "  </tbody>\n",
              "</table>\n",
              "</div>"
            ],
            "text/plain": [
              "       Image_File  Class\n",
              "0   clean2416.png  Large\n",
              "1  ground4022.png  Small\n",
              "2  ground0340.png  Small\n",
              "3  ground2110.png  Small\n",
              "4   clean1581.png  Large"
            ]
          },
          "metadata": {
            "tags": []
          },
          "execution_count": 11
        }
      ]
    },
    {
      "cell_type": "markdown",
      "metadata": {
        "id": "pRbCfjxphN6o",
        "colab_type": "text"
      },
      "source": [
        "### Create function to return DataBunch objects"
      ]
    },
    {
      "cell_type": "code",
      "metadata": {
        "id": "da5ijyhShymv",
        "colab_type": "code",
        "colab": {}
      },
      "source": [
        "def return_train_data(size, bs):\n",
        "    return ImageDataBunch.from_folder(\n",
        "            path=DATA_PATH/'Train Images',\n",
        "            train='Train Images',\n",
        "            valid_pct=0.2,\n",
        "            ds_tfms=get_transforms(),\n",
        "            size=size,\n",
        "            bs=bs,\n",
        "            resize_method=ResizeMethod.SQUISH,\n",
        "            padding_mode='zeros'\n",
        "        ).normalize(imagenet_stats)"
      ],
      "execution_count": 0,
      "outputs": []
    },
    {
      "cell_type": "markdown",
      "metadata": {
        "id": "Aic6USOKh-6i",
        "colab_type": "text"
      },
      "source": [
        "### Prepare data from training"
      ]
    },
    {
      "cell_type": "code",
      "metadata": {
        "id": "F-o7D3-Sh7zu",
        "colab_type": "code",
        "colab": {}
      },
      "source": [
        "data = return_train_data(size=128, bs=128)"
      ],
      "execution_count": 0,
      "outputs": []
    },
    {
      "cell_type": "code",
      "metadata": {
        "id": "KbF8X7bc9kbp",
        "colab_type": "code",
        "colab": {}
      },
      "source": [
        "# Check classes\n",
        "# import os\n",
        "assert len(data.classes) == len(set(train_labels['Class'].values))"
      ],
      "execution_count": 0,
      "outputs": []
    },
    {
      "cell_type": "markdown",
      "metadata": {
        "id": "3aTuWc6HkoHV",
        "colab_type": "text"
      },
      "source": [
        "### Create Learner Object"
      ]
    },
    {
      "cell_type": "code",
      "metadata": {
        "id": "pAPy3lkgAL4g",
        "colab_type": "code",
        "colab": {}
      },
      "source": [
        "learn = cnn_learner(data, models.resnet18, metrics=[error_rate])\\\n",
        "        .mixup()\\\n",
        "        .to_fp16()"
      ],
      "execution_count": 0,
      "outputs": []
    },
    {
      "cell_type": "code",
      "metadata": {
        "id": "DoZyx15TC6xJ",
        "colab_type": "code",
        "colab": {}
      },
      "source": [
        "callbacks_list = [\n",
        "    # ReduceLROnPlateauCallback(learn=learn, monitor='error_rate', factor=1e-6,\n",
        "    #                           patience=20, min_delta=1e-5),\n",
        "    SaveModelCallback(learn, mode=\"min\", every='improvement', monitor='error_rate', name='best'),\n",
        "    CSVLogger(learn=learn, append=True)\n",
        "]"
      ],
      "execution_count": 0,
      "outputs": []
    },
    {
      "cell_type": "markdown",
      "metadata": {
        "id": "IbSq43BMC_5L",
        "colab_type": "text"
      },
      "source": [
        "### Find optimal learning rate"
      ]
    },
    {
      "cell_type": "code",
      "metadata": {
        "id": "jtGsRKvOC9vm",
        "colab_type": "code",
        "outputId": "29b8c315-083b-4c2c-ffcb-508dc7e53af3",
        "colab": {
          "base_uri": "https://localhost:8080/",
          "height": 331
        }
      },
      "source": [
        "learn.lr_find()\n",
        "learn.recorder.plot(suggestion=True)\n",
        "min_grad_lr = learn.recorder.min_grad_lr"
      ],
      "execution_count": 25,
      "outputs": [
        {
          "output_type": "display_data",
          "data": {
            "text/html": [
              ""
            ],
            "text/plain": [
              "<IPython.core.display.HTML object>"
            ]
          },
          "metadata": {
            "tags": []
          }
        },
        {
          "output_type": "stream",
          "text": [
            "LR Finder is complete, type {learner_name}.recorder.plot() to see the graph.\n",
            "Min numerical gradient: 2.75E-04\n",
            "Min loss divided by 10: 1.20E-02\n"
          ],
          "name": "stdout"
        },
        {
          "output_type": "display_data",
          "data": {
            "image/png": "[encoded data removed]",
            "text/plain": [
              "<Figure size 432x288 with 1 Axes>"
            ]
          },
          "metadata": {
            "tags": []
          }
        }
      ]
    },
    {
      "cell_type": "markdown",
      "metadata": {
        "id": "JVKN-jJyX-Ss",
        "colab_type": "text"
      },
      "source": [
        "### Train model"
      ]
    },
    {
      "cell_type": "code",
      "metadata": {
        "id": "GhHZmgV2DNF8",
        "colab_type": "code",
        "outputId": "33b45c2a-ed32-4cd4-f044-e472fd96d1fc",
        "colab": {
          "base_uri": "https://localhost:8080/",
          "height": 240
        }
      },
      "source": [
        "learn.fit_one_cycle(5, min_grad_lr, callbacks=callbacks_list)"
      ],
      "execution_count": 26,
      "outputs": [
        {
          "output_type": "display_data",
          "data": {
            "text/html": [
              "<table border=\"1\" class=\"dataframe\">\n",
              "  <thead>\n",
              "    <tr style=\"text-align: left;\">\n",
              "      <th>epoch</th>\n",
              "      <th>train_loss</th>\n",
              "      <th>valid_loss</th>\n",
              "      <th>error_rate</th>\n",
              "      <th>time</th>\n",
              "    </tr>\n",
              "  </thead>\n",
              "  <tbody>\n",
              "    <tr>\n",
              "      <td>0</td>\n",
              "      <td>0.812502</td>\n",
              "      <td>0.142507</td>\n",
              "      <td>0.055023</td>\n",
              "      <td>02:37</td>\n",
              "    </tr>\n",
              "    <tr>\n",
              "      <td>1</td>\n",
              "      <td>0.583445</td>\n",
              "      <td>0.089006</td>\n",
              "      <td>0.030013</td>\n",
              "      <td>02:36</td>\n",
              "    </tr>\n",
              "    <tr>\n",
              "      <td>2</td>\n",
              "      <td>0.499978</td>\n",
              "      <td>0.076805</td>\n",
              "      <td>0.023760</td>\n",
              "      <td>02:36</td>\n",
              "    </tr>\n",
              "    <tr>\n",
              "      <td>3</td>\n",
              "      <td>0.452578</td>\n",
              "      <td>0.071844</td>\n",
              "      <td>0.023760</td>\n",
              "      <td>02:36</td>\n",
              "    </tr>\n",
              "    <tr>\n",
              "      <td>4</td>\n",
              "      <td>0.432352</td>\n",
              "      <td>0.072466</td>\n",
              "      <td>0.025010</td>\n",
              "      <td>02:36</td>\n",
              "    </tr>\n",
              "  </tbody>\n",
              "</table>"
            ],
            "text/plain": [
              "<IPython.core.display.HTML object>"
            ]
          },
          "metadata": {
            "tags": []
          }
        },
        {
          "output_type": "stream",
          "text": [
            "Better model found at epoch 0 with error_rate value: 0.05502292513847351.\n",
            "Better model found at epoch 1 with error_rate value: 0.030012505128979683.\n",
            "Better model found at epoch 2 with error_rate value: 0.02375989779829979.\n"
          ],
          "name": "stdout"
        }
      ]
    },
    {
      "cell_type": "markdown",
      "metadata": {
        "id": "mul-1vT7lzfn",
        "colab_type": "text"
      },
      "source": [
        "### Interpret results"
      ]
    },
    {
      "cell_type": "code",
      "metadata": {
        "id": "cYNxkeLTtt6H",
        "colab_type": "code",
        "colab": {}
      },
      "source": [
        "learn.load('best')\n",
        "interp = learn.interpret()"
      ],
      "execution_count": 0,
      "outputs": []
    },
    {
      "cell_type": "code",
      "metadata": {
        "id": "PjsZW5Gxtv6E",
        "colab_type": "code",
        "colab": {
          "base_uri": "https://localhost:8080/",
          "height": 311
        },
        "outputId": "6af6bdf8-3ce6-497e-b713-57a90eaf5981"
      },
      "source": [
        "interp.plot_confusion_matrix()"
      ],
      "execution_count": 28,
      "outputs": [
        {
          "output_type": "display_data",
          "data": {
            "image/png": "[encoded data removed]",
            "text/plain": [
              "<Figure size 432x288 with 1 Axes>"
            ]
          },
          "metadata": {
            "tags": []
          }
        }
      ]
    },
    {
      "cell_type": "code",
      "metadata": {
        "id": "AQnRx-1UuIVQ",
        "colab_type": "code",
        "colab": {
          "base_uri": "https://localhost:8080/",
          "height": 787
        },
        "outputId": "ecc0e5c6-9278-47da-e5e4-ed5a53f11694"
      },
      "source": [
        "interp.plot_top_losses(9)"
      ],
      "execution_count": 29,
      "outputs": [
        {
          "output_type": "display_data",
          "data": {
            "image/png": "[encoded data removed]",
            "text/plain": [
              "<Figure size 864x864 with 9 Axes>"
            ]
          },
          "metadata": {
            "tags": []
          }
        }
      ]
    },
    {
      "cell_type": "markdown",
      "metadata": {
        "id": "74l9TpYRYREm",
        "colab_type": "text"
      },
      "source": [
        "### Fine tune model"
      ]
    },
    {
      "cell_type": "code",
      "metadata": {
        "id": "RU1vOEgQIUJQ",
        "colab_type": "code",
        "outputId": "84a52761-06be-4c82-83b7-03c72960f3f4",
        "colab": {
          "base_uri": "https://localhost:8080/",
          "height": 33
        }
      },
      "source": [
        "learn.to_fp16()\n",
        "learn.unfreeze()\n",
        "learn.lr_find(start_lr=1e-10)"
      ],
      "execution_count": 30,
      "outputs": [
        {
          "output_type": "display_data",
          "data": {
            "text/html": [
              ""
            ],
            "text/plain": [
              "<IPython.core.display.HTML object>"
            ]
          },
          "metadata": {
            "tags": []
          }
        },
        {
          "output_type": "stream",
          "text": [
            "LR Finder is complete, type {learner_name}.recorder.plot() to see the graph.\n"
          ],
          "name": "stdout"
        }
      ]
    },
    {
      "cell_type": "code",
      "metadata": {
        "id": "b9-ehm1uIX2j",
        "colab_type": "code",
        "outputId": "d1ea81f3-9a47-4dd8-b71c-e00e85d43528",
        "colab": {
          "base_uri": "https://localhost:8080/",
          "height": 282
        }
      },
      "source": [
        "learn.recorder.plot()\n",
        "# min_grad_lr = learn.recorder.min_grad_lr"
      ],
      "execution_count": 31,
      "outputs": [
        {
          "output_type": "display_data",
          "data": {
            "image/png": "[encoded data removed]",
            "text/plain": [
              "<Figure size 432x288 with 1 Axes>"
            ]
          },
          "metadata": {
            "tags": []
          }
        }
      ]
    },
    {
      "cell_type": "code",
      "metadata": {
        "id": "4ltJaDzbIbjE",
        "colab_type": "code",
        "outputId": "61cbc459-a8da-4e20-ae28-bcf21fe7e992",
        "colab": {
          "base_uri": "https://localhost:8080/",
          "height": 137
        }
      },
      "source": [
        "learn.fit_one_cycle(2, slice(2e-6, 1e-5), callbacks=callbacks_list)"
      ],
      "execution_count": 32,
      "outputs": [
        {
          "output_type": "display_data",
          "data": {
            "text/html": [
              "<table border=\"1\" class=\"dataframe\">\n",
              "  <thead>\n",
              "    <tr style=\"text-align: left;\">\n",
              "      <th>epoch</th>\n",
              "      <th>train_loss</th>\n",
              "      <th>valid_loss</th>\n",
              "      <th>error_rate</th>\n",
              "      <th>time</th>\n",
              "    </tr>\n",
              "  </thead>\n",
              "  <tbody>\n",
              "    <tr>\n",
              "      <td>0</td>\n",
              "      <td>0.463664</td>\n",
              "      <td>0.069126</td>\n",
              "      <td>0.024177</td>\n",
              "      <td>02:38</td>\n",
              "    </tr>\n",
              "    <tr>\n",
              "      <td>1</td>\n",
              "      <td>0.436685</td>\n",
              "      <td>0.064403</td>\n",
              "      <td>0.023343</td>\n",
              "      <td>02:37</td>\n",
              "    </tr>\n",
              "  </tbody>\n",
              "</table>"
            ],
            "text/plain": [
              "<IPython.core.display.HTML object>"
            ]
          },
          "metadata": {
            "tags": []
          }
        },
        {
          "output_type": "stream",
          "text": [
            "Better model found at epoch 0 with error_rate value: 0.024176739156246185.\n",
            "Better model found at epoch 1 with error_rate value: 0.023343058302998543.\n"
          ],
          "name": "stdout"
        }
      ]
    },
    {
      "cell_type": "markdown",
      "metadata": {
        "id": "aY2h6tue_v__",
        "colab_type": "text"
      },
      "source": [
        "### Train with bigger data"
      ]
    },
    {
      "cell_type": "code",
      "metadata": {
        "id": "X9p0tR7PwAoT",
        "colab_type": "code",
        "colab": {}
      },
      "source": [
        "learn.data = return_train_data(size=224, bs=64)"
      ],
      "execution_count": 0,
      "outputs": []
    },
    {
      "cell_type": "code",
      "metadata": {
        "id": "BIlLU4StwXNK",
        "colab_type": "code",
        "outputId": "50b40b5e-018b-4d09-c300-de163c172087",
        "colab": {
          "base_uri": "https://localhost:8080/",
          "height": 331
        }
      },
      "source": [
        "learn.load('best');\n",
        "learn.to_fp16()\n",
        "learn.freeze()\n",
        "learn.lr_find()\n",
        "learn.recorder.plot(suggestion=True)\n",
        "min_grad_lr = learn.recorder.min_grad_lr"
      ],
      "execution_count": 34,
      "outputs": [
        {
          "output_type": "display_data",
          "data": {
            "text/html": [
              ""
            ],
            "text/plain": [
              "<IPython.core.display.HTML object>"
            ]
          },
          "metadata": {
            "tags": []
          }
        },
        {
          "output_type": "stream",
          "text": [
            "LR Finder is complete, type {learner_name}.recorder.plot() to see the graph.\n",
            "Min numerical gradient: 4.37E-05\n",
            "Min loss divided by 10: 1.45E-04\n"
          ],
          "name": "stdout"
        },
        {
          "output_type": "display_data",
          "data": {
            "image/png": "[encoded data removed]",
            "text/plain": [
              "<Figure size 432x288 with 1 Axes>"
            ]
          },
          "metadata": {
            "tags": []
          }
        }
      ]
    },
    {
      "cell_type": "code",
      "metadata": {
        "id": "4XViQftXwkHi",
        "colab_type": "code",
        "outputId": "a6933177-f84c-4967-b8e0-2b29b2ad8031",
        "colab": {
          "base_uri": "https://localhost:8080/",
          "height": 432
        }
      },
      "source": [
        "learn.fit_one_cycle(10, slice(2e-4, 1e-4), callbacks=callbacks_list)"
      ],
      "execution_count": 35,
      "outputs": [
        {
          "output_type": "display_data",
          "data": {
            "text/html": [
              "<table border=\"1\" class=\"dataframe\">\n",
              "  <thead>\n",
              "    <tr style=\"text-align: left;\">\n",
              "      <th>epoch</th>\n",
              "      <th>train_loss</th>\n",
              "      <th>valid_loss</th>\n",
              "      <th>error_rate</th>\n",
              "      <th>time</th>\n",
              "    </tr>\n",
              "  </thead>\n",
              "  <tbody>\n",
              "    <tr>\n",
              "      <td>0</td>\n",
              "      <td>0.442623</td>\n",
              "      <td>0.046759</td>\n",
              "      <td>0.014173</td>\n",
              "      <td>04:46</td>\n",
              "    </tr>\n",
              "    <tr>\n",
              "      <td>1</td>\n",
              "      <td>0.402564</td>\n",
              "      <td>0.036704</td>\n",
              "      <td>0.011672</td>\n",
              "      <td>04:46</td>\n",
              "    </tr>\n",
              "    <tr>\n",
              "      <td>2</td>\n",
              "      <td>0.363959</td>\n",
              "      <td>0.029053</td>\n",
              "      <td>0.008754</td>\n",
              "      <td>04:46</td>\n",
              "    </tr>\n",
              "    <tr>\n",
              "      <td>3</td>\n",
              "      <td>0.355403</td>\n",
              "      <td>0.029257</td>\n",
              "      <td>0.009170</td>\n",
              "      <td>04:48</td>\n",
              "    </tr>\n",
              "    <tr>\n",
              "      <td>4</td>\n",
              "      <td>0.329757</td>\n",
              "      <td>0.027880</td>\n",
              "      <td>0.009170</td>\n",
              "      <td>04:46</td>\n",
              "    </tr>\n",
              "    <tr>\n",
              "      <td>5</td>\n",
              "      <td>0.318357</td>\n",
              "      <td>0.024310</td>\n",
              "      <td>0.008337</td>\n",
              "      <td>04:48</td>\n",
              "    </tr>\n",
              "    <tr>\n",
              "      <td>6</td>\n",
              "      <td>0.302473</td>\n",
              "      <td>0.027487</td>\n",
              "      <td>0.009170</td>\n",
              "      <td>04:48</td>\n",
              "    </tr>\n",
              "    <tr>\n",
              "      <td>7</td>\n",
              "      <td>0.300464</td>\n",
              "      <td>0.021783</td>\n",
              "      <td>0.006669</td>\n",
              "      <td>04:48</td>\n",
              "    </tr>\n",
              "    <tr>\n",
              "      <td>8</td>\n",
              "      <td>0.302071</td>\n",
              "      <td>0.022047</td>\n",
              "      <td>0.006253</td>\n",
              "      <td>04:47</td>\n",
              "    </tr>\n",
              "    <tr>\n",
              "      <td>9</td>\n",
              "      <td>0.301710</td>\n",
              "      <td>0.022828</td>\n",
              "      <td>0.007086</td>\n",
              "      <td>04:49</td>\n",
              "    </tr>\n",
              "  </tbody>\n",
              "</table>"
            ],
            "text/plain": [
              "<IPython.core.display.HTML object>"
            ]
          },
          "metadata": {
            "tags": []
          }
        },
        {
          "output_type": "stream",
          "text": [
            "Better model found at epoch 0 with error_rate value: 0.014172571711242199.\n",
            "Better model found at epoch 1 with error_rate value: 0.011671530082821846.\n",
            "Better model found at epoch 2 with error_rate value: 0.008753647096455097.\n",
            "Better model found at epoch 5 with error_rate value: 0.008336806669831276.\n",
            "Better model found at epoch 7 with error_rate value: 0.006669445428997278.\n",
            "Better model found at epoch 8 with error_rate value: 0.006252605468034744.\n"
          ],
          "name": "stdout"
        }
      ]
    },
    {
      "cell_type": "code",
      "metadata": {
        "id": "WY6Bj2nXImnK",
        "colab_type": "code",
        "colab": {}
      },
      "source": [
        "learn.load(\"best\");\n",
        "learn.to_fp32()\n",
        "learn.export(\"lunar_224.pkl\")\n",
        "# learn.save(\"lunar_224\")"
      ],
      "execution_count": 0,
      "outputs": []
    },
    {
      "cell_type": "code",
      "metadata": {
        "id": "uj9gpaVgDCGy",
        "colab_type": "code",
        "colab": {}
      },
      "source": [
        "cp /content/DataSet/Train\\ Images/lunar_224.pkl /content/drive/My\\ Drive/Competition\\ Models/Lunar\\ Rock"
      ],
      "execution_count": 0,
      "outputs": []
    },
    {
      "cell_type": "markdown",
      "metadata": {
        "id": "fM-RlD14YWdS",
        "colab_type": "text"
      },
      "source": [
        "### Predict with test data"
      ]
    },
    {
      "cell_type": "code",
      "metadata": {
        "id": "BkDseP6iPeFQ",
        "colab_type": "code",
        "colab": {}
      },
      "source": [
        "sample_df = pd.read_csv(DATA_PATH/\"test.csv\")"
      ],
      "execution_count": 0,
      "outputs": []
    },
    {
      "cell_type": "code",
      "metadata": {
        "id": "b1ZpNV8nQG9Y",
        "colab_type": "code",
        "outputId": "299821bb-8bf8-454a-df49-0fe95237ecb9",
        "colab": {
          "base_uri": "https://localhost:8080/",
          "height": 191
        }
      },
      "source": [
        "sample_df.head()"
      ],
      "execution_count": 39,
      "outputs": [
        {
          "output_type": "execute_result",
          "data": {
            "text/html": [
              "<div>\n",
              "<style scoped>\n",
              "    .dataframe tbody tr th:only-of-type {\n",
              "        vertical-align: middle;\n",
              "    }\n",
              "\n",
              "    .dataframe tbody tr th {\n",
              "        vertical-align: top;\n",
              "    }\n",
              "\n",
              "    .dataframe thead th {\n",
              "        text-align: right;\n",
              "    }\n",
              "</style>\n",
              "<table border=\"1\" class=\"dataframe\">\n",
              "  <thead>\n",
              "    <tr style=\"text-align: right;\">\n",
              "      <th></th>\n",
              "      <th>Image_File</th>\n",
              "      <th>Class</th>\n",
              "    </tr>\n",
              "  </thead>\n",
              "  <tbody>\n",
              "    <tr>\n",
              "      <th>0</th>\n",
              "      <td>lg 988 (1).png</td>\n",
              "      <td>NaN</td>\n",
              "    </tr>\n",
              "    <tr>\n",
              "      <th>1</th>\n",
              "      <td>lg 988 (10).png</td>\n",
              "      <td>NaN</td>\n",
              "    </tr>\n",
              "    <tr>\n",
              "      <th>2</th>\n",
              "      <td>lg 988 (100).png</td>\n",
              "      <td>NaN</td>\n",
              "    </tr>\n",
              "    <tr>\n",
              "      <th>3</th>\n",
              "      <td>lg 988 (101).png</td>\n",
              "      <td>NaN</td>\n",
              "    </tr>\n",
              "    <tr>\n",
              "      <th>4</th>\n",
              "      <td>lg 988 (102).png</td>\n",
              "      <td>NaN</td>\n",
              "    </tr>\n",
              "  </tbody>\n",
              "</table>\n",
              "</div>"
            ],
            "text/plain": [
              "         Image_File  Class\n",
              "0    lg 988 (1).png    NaN\n",
              "1   lg 988 (10).png    NaN\n",
              "2  lg 988 (100).png    NaN\n",
              "3  lg 988 (101).png    NaN\n",
              "4  lg 988 (102).png    NaN"
            ]
          },
          "metadata": {
            "tags": []
          },
          "execution_count": 39
        }
      ]
    },
    {
      "cell_type": "code",
      "metadata": {
        "id": "nNDK8m2pPQTZ",
        "colab_type": "code",
        "colab": {}
      },
      "source": [
        "learn.data.add_test(ImageList.from_df(sample_df, DATA_PATH,folder='Test Images'))"
      ],
      "execution_count": 0,
      "outputs": []
    },
    {
      "cell_type": "code",
      "metadata": {
        "id": "mSOeZ3H6QlrW",
        "colab_type": "code",
        "outputId": "7a42a73e-42a2-43c5-bd99-dc800b31d4ae",
        "colab": {
          "base_uri": "https://localhost:8080/",
          "height": 17
        }
      },
      "source": [
        "preds,_ = learn.TTA(ds_type=DatasetType.Test)"
      ],
      "execution_count": 43,
      "outputs": [
        {
          "output_type": "display_data",
          "data": {
            "text/html": [
              ""
            ],
            "text/plain": [
              "<IPython.core.display.HTML object>"
            ]
          },
          "metadata": {
            "tags": []
          }
        }
      ]
    },
    {
      "cell_type": "code",
      "metadata": {
        "id": "Yup1kaiZQqAe",
        "colab_type": "code",
        "colab": {}
      },
      "source": [
        "labelled_preds = []\n",
        "\n",
        "for pred in preds:\n",
        "    labelled_preds.append(learn.data.classes[np.argmax(pred)])\n",
        "\n",
        "sample_df['Class'] = labelled_preds"
      ],
      "execution_count": 0,
      "outputs": []
    },
    {
      "cell_type": "code",
      "metadata": {
        "id": "XKc_FgRqQ1pN",
        "colab_type": "code",
        "colab": {}
      },
      "source": [
        "sample_df.to_csv('submission.csv', index=False)"
      ],
      "execution_count": 0,
      "outputs": []
    },
    {
      "cell_type": "code",
      "metadata": {
        "id": "_YzQzFmGSpjb",
        "colab_type": "code",
        "colab": {}
      },
      "source": [
        ""
      ],
      "execution_count": 0,
      "outputs": []
    }
  ]
}