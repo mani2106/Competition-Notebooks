{
  "nbformat": 4,
  "nbformat_minor": 0,
  "metadata": {
    "colab": {
      "name": "Lunar Rock classifier.ipynb",
      "provenance": [],
      "collapsed_sections": [],
      "include_colab_link": true
    },
    "kernelspec": {
      "name": "python3",
      "display_name": "Python 3"
    },
    "accelerator": "GPU"
  },
  "cells": [
    {
      "cell_type": "markdown",
      "metadata": {
        "id": "view-in-github",
        "colab_type": "text"
      },
      "source": [
        "<a href=\"https://colab.research.google.com/github/mani2106/Competition-Notebooks/blob/master/Lunar%20Rock/Lunar_Rock_classifier.ipynb\" target=\"_parent\"><img src=\"https://colab.research.google.com/assets/colab-badge.svg\" alt=\"Open In Colab\"/></a>"
      ]
    },
    {
      "cell_type": "markdown",
      "metadata": {
        "id": "T8j8FuewbX8X",
        "colab_type": "text"
      },
      "source": [
        "### Download data from link"
      ]
    },
    {
      "cell_type": "code",
      "metadata": {
        "id": "eLR1vDCwbbDM",
        "colab_type": "code",
        "outputId": "057ce777-3af3-4c72-b6ba-a1f82b2dacb6",
        "colab": {
          "base_uri": "https://localhost:8080/",
          "height": 346
        }
      },
      "source": [
        "!wget -O data.zip http://hck.re/kkBIfM"
      ],
      "execution_count": 1,
      "outputs": [
        {
          "output_type": "stream",
          "text": [
            "--2019-12-18 15:44:46--  http://hck.re/kkBIfM\n",
            "Resolving hck.re (hck.re)... 18.140.32.73, 13.251.144.131, 52.77.195.45\n",
            "Connecting to hck.re (hck.re)|18.140.32.73|:80... connected.\n",
            "HTTP request sent, awaiting response... 301 Moved Permanently\n",
            "Cookie coming from hck.re attempted to set domain to hackerearth.com\n",
            "Cookie coming from hck.re attempted to set domain to hackerearth.com\n",
            "Cookie coming from hck.re attempted to set domain to hackerearth.com\n",
            "Location: https://he-public-data.s3-ap-southeast-1.amazonaws.com/DataSet.zip [following]\n",
            "--2019-12-18 15:44:47--  https://he-public-data.s3-ap-southeast-1.amazonaws.com/DataSet.zip\n",
            "Resolving he-public-data.s3-ap-southeast-1.amazonaws.com (he-public-data.s3-ap-southeast-1.amazonaws.com)... 52.219.40.75\n",
            "Connecting to he-public-data.s3-ap-southeast-1.amazonaws.com (he-public-data.s3-ap-southeast-1.amazonaws.com)|52.219.40.75|:443... connected.\n",
            "HTTP request sent, awaiting response... 200 OK\n",
            "Length: 733209860 (699M) [application/zip]\n",
            "Saving to: ‘data.zip’\n",
            "\n",
            "data.zip            100%[===================>] 699.24M  10.8MB/s    in 67s     \n",
            "\n",
            "2019-12-18 15:45:55 (10.5 MB/s) - ‘data.zip’ saved [733209860/733209860]\n",
            "\n"
          ],
          "name": "stdout"
        }
      ]
    },
    {
      "cell_type": "markdown",
      "metadata": {
        "id": "xJioE97zcSxa",
        "colab_type": "text"
      },
      "source": [
        "### Unzip data"
      ]
    },
    {
      "cell_type": "code",
      "metadata": {
        "id": "nJKDgJQncidd",
        "colab_type": "code",
        "outputId": "81e70403-e940-4697-d304-34b416c1cfa7",
        "colab": {
          "base_uri": "https://localhost:8080/",
          "height": 121
        }
      },
      "source": [
        "!unzip data.zip"
      ],
      "execution_count": 2,
      "outputs": [
        {
          "output_type": "stream",
          "text": [
            "Archive:  data.zip\n",
            "   creating: DataSet/\n",
            " extracting: DataSet/Test Images.zip  \n",
            "  inflating: DataSet/test.csv        \n",
            "  inflating: DataSet/train.csv       \n",
            " extracting: DataSet/Train Images.zip  \n"
          ],
          "name": "stdout"
        }
      ]
    },
    {
      "cell_type": "code",
      "metadata": {
        "id": "AsWye-jncjlC",
        "colab_type": "code",
        "colab": {}
      },
      "source": [
        "!rm data.zip"
      ],
      "execution_count": 0,
      "outputs": []
    },
    {
      "cell_type": "code",
      "metadata": {
        "id": "1IDQZe9-czVc",
        "colab_type": "code",
        "colab": {}
      },
      "source": [
        "!unzip \"DataSet/Train Images.zip\" -d DataSet"
      ],
      "execution_count": 0,
      "outputs": []
    },
    {
      "cell_type": "code",
      "metadata": {
        "id": "4IPUFV9XdVVq",
        "colab_type": "code",
        "colab": {}
      },
      "source": [
        "!unzip \"DataSet/Test Images.zip\" -d DataSet"
      ],
      "execution_count": 0,
      "outputs": []
    },
    {
      "cell_type": "markdown",
      "metadata": {
        "id": "vwiIY7DWd0rT",
        "colab_type": "text"
      },
      "source": [
        "### Import Libraries"
      ]
    },
    {
      "cell_type": "code",
      "metadata": {
        "id": "1wqbkC2Sduw2",
        "colab_type": "code",
        "colab": {}
      },
      "source": [
        "from fastai.vision import *\n",
        "from fastai.metrics import error_rate, auc_roc_score\n",
        "from fastai.callbacks.tracker import ReduceLROnPlateauCallback, SaveModelCallback\n",
        "from fastai.callbacks import CSVLogger"
      ],
      "execution_count": 0,
      "outputs": []
    },
    {
      "cell_type": "markdown",
      "metadata": {
        "id": "xUxjm1pesMKP",
        "colab_type": "text"
      },
      "source": [
        "### Seeding the process"
      ]
    },
    {
      "cell_type": "code",
      "metadata": {
        "id": "RuFa-PqPsLh4",
        "colab_type": "code",
        "colab": {}
      },
      "source": [
        "def reset_seed(seed=42):\n",
        "    random.seed(seed)\n",
        "    os.environ['PYTHONHASHSEED'] = str(seed)\n",
        "#     tf.set_random_seed(seed)\n",
        "    np.random.seed(seed)\n",
        "    torch.manual_seed(seed)\n",
        "    torch.backends.cudnn.deterministic = True\n",
        "    if torch.cuda.is_available(): \n",
        "        torch.cuda.manual_seed(seed)\n",
        "        torch.cuda.manual_seed_all(seed)"
      ],
      "execution_count": 0,
      "outputs": []
    },
    {
      "cell_type": "code",
      "metadata": {
        "id": "sxxhar_lsu21",
        "colab_type": "code",
        "colab": {}
      },
      "source": [
        "reset_seed()"
      ],
      "execution_count": 0,
      "outputs": []
    },
    {
      "cell_type": "markdown",
      "metadata": {
        "id": "k7CPGA1ZfYQ-",
        "colab_type": "text"
      },
      "source": [
        "### Setup paths"
      ]
    },
    {
      "cell_type": "code",
      "metadata": {
        "id": "tA3xxvGyfuGx",
        "colab_type": "code",
        "colab": {}
      },
      "source": [
        "# ! mkdir drive/My\\ Drive/Competition\\ Models\n",
        "# ! mkdir drive/My\\ Drive/Competition\\ Models/Lunar\\ Rock"
      ],
      "execution_count": 0,
      "outputs": []
    },
    {
      "cell_type": "code",
      "metadata": {
        "id": "gJWwkptpfnNV",
        "colab_type": "code",
        "colab": {}
      },
      "source": [
        "# WEIGHTS_PATH = Path('drive/My Drive/Competition Models/Lunar Rocks')\n",
        "DATA_PATH = Path('DataSet')"
      ],
      "execution_count": 0,
      "outputs": []
    },
    {
      "cell_type": "markdown",
      "metadata": {
        "id": "zYAndMN3g62i",
        "colab_type": "text"
      },
      "source": [
        "### Read labels from dataframes"
      ]
    },
    {
      "cell_type": "code",
      "metadata": {
        "id": "klntoe8Sg90z",
        "colab_type": "code",
        "outputId": "12fa084b-ff0e-4fe8-a4ac-5c7b5fe2eca8",
        "colab": {
          "base_uri": "https://localhost:8080/",
          "height": 202
        }
      },
      "source": [
        "train_labels = pd.read_csv(DATA_PATH/'train.csv')\n",
        "train_labels.head()"
      ],
      "execution_count": 11,
      "outputs": [
        {
          "output_type": "execute_result",
          "data": {
            "text/html": [
              "<div>\n",
              "<style scoped>\n",
              "    .dataframe tbody tr th:only-of-type {\n",
              "        vertical-align: middle;\n",
              "    }\n",
              "\n",
              "    .dataframe tbody tr th {\n",
              "        vertical-align: top;\n",
              "    }\n",
              "\n",
              "    .dataframe thead th {\n",
              "        text-align: right;\n",
              "    }\n",
              "</style>\n",
              "<table border=\"1\" class=\"dataframe\">\n",
              "  <thead>\n",
              "    <tr style=\"text-align: right;\">\n",
              "      <th></th>\n",
              "      <th>Image_File</th>\n",
              "      <th>Class</th>\n",
              "    </tr>\n",
              "  </thead>\n",
              "  <tbody>\n",
              "    <tr>\n",
              "      <th>0</th>\n",
              "      <td>clean2416.png</td>\n",
              "      <td>Large</td>\n",
              "    </tr>\n",
              "    <tr>\n",
              "      <th>1</th>\n",
              "      <td>ground4022.png</td>\n",
              "      <td>Small</td>\n",
              "    </tr>\n",
              "    <tr>\n",
              "      <th>2</th>\n",
              "      <td>ground0340.png</td>\n",
              "      <td>Small</td>\n",
              "    </tr>\n",
              "    <tr>\n",
              "      <th>3</th>\n",
              "      <td>ground2110.png</td>\n",
              "      <td>Small</td>\n",
              "    </tr>\n",
              "    <tr>\n",
              "      <th>4</th>\n",
              "      <td>clean1581.png</td>\n",
              "      <td>Large</td>\n",
              "    </tr>\n",
              "  </tbody>\n",
              "</table>\n",
              "</div>"
            ],
            "text/plain": [
              "       Image_File  Class\n",
              "0   clean2416.png  Large\n",
              "1  ground4022.png  Small\n",
              "2  ground0340.png  Small\n",
              "3  ground2110.png  Small\n",
              "4   clean1581.png  Large"
            ]
          },
          "metadata": {
            "tags": []
          },
          "execution_count": 11
        }
      ]
    },
    {
      "cell_type": "markdown",
      "metadata": {
        "id": "pRbCfjxphN6o",
        "colab_type": "text"
      },
      "source": [
        "### Create function to return DataBunch objects"
      ]
    },
    {
      "cell_type": "code",
      "metadata": {
        "id": "da5ijyhShymv",
        "colab_type": "code",
        "colab": {}
      },
      "source": [
        "def return_train_data(size, bs):\n",
        "    return ImageDataBunch.from_folder(\n",
        "            path=DATA_PATH/'Train Images',\n",
        "            train='Train Images',\n",
        "            valid_pct=0.2,\n",
        "            ds_tfms=get_transforms(),\n",
        "            size=size,\n",
        "            bs=bs,\n",
        "            resize_method=ResizeMethod.SQUISH,\n",
        "            padding_mode='zeros'\n",
        "        ).normalize(imagenet_stats)"
      ],
      "execution_count": 0,
      "outputs": []
    },
    {
      "cell_type": "markdown",
      "metadata": {
        "id": "Aic6USOKh-6i",
        "colab_type": "text"
      },
      "source": [
        "### Prepare data from training"
      ]
    },
    {
      "cell_type": "code",
      "metadata": {
        "id": "F-o7D3-Sh7zu",
        "colab_type": "code",
        "colab": {}
      },
      "source": [
        "data = return_train_data(size=64, bs=250)"
      ],
      "execution_count": 0,
      "outputs": []
    },
    {
      "cell_type": "code",
      "metadata": {
        "id": "KbF8X7bc9kbp",
        "colab_type": "code",
        "colab": {}
      },
      "source": [
        "# Check classes\n",
        "# import os\n",
        "assert len(data.classes) == len(set(train_labels['Class'].values))"
      ],
      "execution_count": 0,
      "outputs": []
    },
    {
      "cell_type": "markdown",
      "metadata": {
        "id": "3aTuWc6HkoHV",
        "colab_type": "text"
      },
      "source": [
        "### Create Learner Object"
      ]
    },
    {
      "cell_type": "code",
      "metadata": {
        "id": "pAPy3lkgAL4g",
        "colab_type": "code",
        "colab": {
          "base_uri": "https://localhost:8080/",
          "height": 52
        },
        "outputId": "19da21ae-b1f8-4f12-8884-ec29d621672a"
      },
      "source": [
        "learn = cnn_learner(data, models.resnet18, metrics=[error_rate])\\\n",
        "        .mixup()\\\n",
        "        .to_fp16()"
      ],
      "execution_count": 15,
      "outputs": [
        {
          "output_type": "stream",
          "text": [
            "Downloading: \"https://download.pytorch.org/models/resnet18-5c106cde.pth\" to /root/.cache/torch/checkpoints/resnet18-5c106cde.pth\n",
            "100%|██████████| 44.7M/44.7M [00:00<00:00, 69.5MB/s]\n"
          ],
          "name": "stderr"
        }
      ]
    },
    {
      "cell_type": "code",
      "metadata": {
        "id": "DoZyx15TC6xJ",
        "colab_type": "code",
        "colab": {}
      },
      "source": [
        "callbacks_list = [\n",
        "    # ReduceLROnPlateauCallback(learn=learn, monitor='error_rate', factor=1e-6,\n",
        "    #                           patience=20, min_delta=1e-5),\n",
        "    SaveModelCallback(learn, mode=\"min\", every='improvement', monitor='error_rate', name='best'),\n",
        "    CSVLogger(learn=learn, append=True)\n",
        "]"
      ],
      "execution_count": 0,
      "outputs": []
    },
    {
      "cell_type": "markdown",
      "metadata": {
        "id": "IbSq43BMC_5L",
        "colab_type": "text"
      },
      "source": [
        "### Find optimal learning rate"
      ]
    },
    {
      "cell_type": "code",
      "metadata": {
        "id": "jtGsRKvOC9vm",
        "colab_type": "code",
        "outputId": "7419fc5c-71db-48da-f616-c33ad1da0b8e",
        "colab": {
          "base_uri": "https://localhost:8080/",
          "height": 330
        }
      },
      "source": [
        "learn.lr_find()\n",
        "learn.recorder.plot(suggestion=True)\n",
        "min_grad_lr = learn.recorder.min_grad_lr"
      ],
      "execution_count": 17,
      "outputs": [
        {
          "output_type": "display_data",
          "data": {
            "text/html": [
              ""
            ],
            "text/plain": [
              "<IPython.core.display.HTML object>"
            ]
          },
          "metadata": {
            "tags": []
          }
        },
        {
          "output_type": "stream",
          "text": [
            "LR Finder is complete, type {learner_name}.recorder.plot() to see the graph.\n",
            "Min numerical gradient: 6.92E-02\n",
            "Min loss divided by 10: 1.00E-02\n"
          ],
          "name": "stdout"
        },
        {
          "output_type": "display_data",
          "data": {
            "image/png": "[encoded data removed]",
            "text/plain": [
              "<Figure size 432x288 with 1 Axes>"
            ]
          },
          "metadata": {
            "tags": []
          }
        }
      ]
    },
    {
      "cell_type": "markdown",
      "metadata": {
        "id": "JVKN-jJyX-Ss",
        "colab_type": "text"
      },
      "source": [
        "### Train model"
      ]
    },
    {
      "cell_type": "code",
      "metadata": {
        "id": "GhHZmgV2DNF8",
        "colab_type": "code",
        "outputId": "51155f62-bfde-430b-fd40-9f677b3d4e6a",
        "colab": {
          "base_uri": "https://localhost:8080/",
          "height": 289
        }
      },
      "source": [
        "learn.fit_one_cycle(5, min_grad_lr, callbacks=callbacks_list, wd=1e-3)"
      ],
      "execution_count": 18,
      "outputs": [
        {
          "output_type": "display_data",
          "data": {
            "text/html": [
              "<table border=\"1\" class=\"dataframe\">\n",
              "  <thead>\n",
              "    <tr style=\"text-align: left;\">\n",
              "      <th>epoch</th>\n",
              "      <th>train_loss</th>\n",
              "      <th>valid_loss</th>\n",
              "      <th>error_rate</th>\n",
              "      <th>time</th>\n",
              "    </tr>\n",
              "  </thead>\n",
              "  <tbody>\n",
              "    <tr>\n",
              "      <td>0</td>\n",
              "      <td>0.556827</td>\n",
              "      <td>0.119793</td>\n",
              "      <td>0.039600</td>\n",
              "      <td>01:32</td>\n",
              "    </tr>\n",
              "    <tr>\n",
              "      <td>1</td>\n",
              "      <td>0.421942</td>\n",
              "      <td>0.067985</td>\n",
              "      <td>0.030846</td>\n",
              "      <td>01:32</td>\n",
              "    </tr>\n",
              "    <tr>\n",
              "      <td>2</td>\n",
              "      <td>0.338795</td>\n",
              "      <td>0.027108</td>\n",
              "      <td>0.009170</td>\n",
              "      <td>01:32</td>\n",
              "    </tr>\n",
              "    <tr>\n",
              "      <td>3</td>\n",
              "      <td>0.293775</td>\n",
              "      <td>0.026987</td>\n",
              "      <td>0.005419</td>\n",
              "      <td>01:31</td>\n",
              "    </tr>\n",
              "    <tr>\n",
              "      <td>4</td>\n",
              "      <td>0.272933</td>\n",
              "      <td>0.017644</td>\n",
              "      <td>0.002918</td>\n",
              "      <td>01:31</td>\n",
              "    </tr>\n",
              "  </tbody>\n",
              "</table>"
            ],
            "text/plain": [
              "<IPython.core.display.HTML object>"
            ]
          },
          "metadata": {
            "tags": []
          }
        },
        {
          "output_type": "stream",
          "text": [
            "Better model found at epoch 0 with error_rate value: 0.03959979489445686.\n",
            "Better model found at epoch 1 with error_rate value: 0.030846135690808296.\n",
            "Better model found at epoch 2 with error_rate value: 0.009170450270175934.\n",
            "Better model found at epoch 3 with error_rate value: 0.005418898072093725.\n",
            "Better model found at epoch 4 with error_rate value: 0.002917857374995947.\n"
          ],
          "name": "stdout"
        }
      ]
    },
    {
      "cell_type": "markdown",
      "metadata": {
        "id": "mul-1vT7lzfn",
        "colab_type": "text"
      },
      "source": [
        "### Interpret results"
      ]
    },
    {
      "cell_type": "code",
      "metadata": {
        "id": "cYNxkeLTtt6H",
        "colab_type": "code",
        "colab": {}
      },
      "source": [
        "learn.load('best');"
      ],
      "execution_count": 0,
      "outputs": []
    },
    {
      "cell_type": "code",
      "metadata": {
        "id": "SdrrHscoxLVT",
        "colab_type": "code",
        "colab": {}
      },
      "source": [
        "interp = learn.interpret()"
      ],
      "execution_count": 0,
      "outputs": []
    },
    {
      "cell_type": "code",
      "metadata": {
        "id": "PjsZW5Gxtv6E",
        "colab_type": "code",
        "outputId": "7c2fde3a-7a10-417e-d658-957f6376b0f9",
        "colab": {
          "base_uri": "https://localhost:8080/",
          "height": 310
        }
      },
      "source": [
        "interp.plot_confusion_matrix()"
      ],
      "execution_count": 20,
      "outputs": [
        {
          "output_type": "display_data",
          "data": {
            "image/png": "[encoded data removed]",
            "text/plain": [
              "<Figure size 432x288 with 1 Axes>"
            ]
          },
          "metadata": {
            "tags": []
          }
        }
      ]
    },
    {
      "cell_type": "code",
      "metadata": {
        "id": "AQnRx-1UuIVQ",
        "colab_type": "code",
        "outputId": "11b0542e-468a-4518-bb1f-877348edcd81",
        "colab": {
          "base_uri": "https://localhost:8080/",
          "height": 770
        }
      },
      "source": [
        "interp.plot_top_losses(9)"
      ],
      "execution_count": 21,
      "outputs": [
        {
          "output_type": "display_data",
          "data": {
            "image/png": "[encoded data removed]",
            "text/plain": [
              "<Figure size 864x864 with 9 Axes>"
            ]
          },
          "metadata": {
            "tags": []
          }
        }
      ]
    },
    {
      "cell_type": "markdown",
      "metadata": {
        "id": "74l9TpYRYREm",
        "colab_type": "text"
      },
      "source": [
        "### Fine tune model"
      ]
    },
    {
      "cell_type": "code",
      "metadata": {
        "id": "RU1vOEgQIUJQ",
        "colab_type": "code",
        "outputId": "960f0cbd-a176-4f9b-bf86-cdb609f990c5",
        "colab": {
          "base_uri": "https://localhost:8080/",
          "height": 34
        }
      },
      "source": [
        "learn.to_fp16()\n",
        "learn.unfreeze()\n",
        "learn.lr_find(start_lr=1e-10)"
      ],
      "execution_count": 28,
      "outputs": [
        {
          "output_type": "display_data",
          "data": {
            "text/html": [
              ""
            ],
            "text/plain": [
              "<IPython.core.display.HTML object>"
            ]
          },
          "metadata": {
            "tags": []
          }
        },
        {
          "output_type": "stream",
          "text": [
            "LR Finder is complete, type {learner_name}.recorder.plot() to see the graph.\n"
          ],
          "name": "stdout"
        }
      ]
    },
    {
      "cell_type": "code",
      "metadata": {
        "id": "b9-ehm1uIX2j",
        "colab_type": "code",
        "outputId": "7105c86c-93e0-44e9-e4e6-035d44c9db8d",
        "colab": {
          "base_uri": "https://localhost:8080/",
          "height": 316
        }
      },
      "source": [
        "learn.recorder.plot(suggestion=True)\n",
        "min_grad_lr = learn.recorder.min_grad_lr"
      ],
      "execution_count": 29,
      "outputs": [
        {
          "output_type": "stream",
          "text": [
            "Min numerical gradient: 2.09E-09\n",
            "Min loss divided by 10: 2.69E-10\n"
          ],
          "name": "stdout"
        },
        {
          "output_type": "display_data",
          "data": {
            "image/png": "[encoded data removed]",
            "text/plain": [
              "<Figure size 432x288 with 1 Axes>"
            ]
          },
          "metadata": {
            "tags": []
          }
        }
      ]
    },
    {
      "cell_type": "code",
      "metadata": {
        "id": "4ltJaDzbIbjE",
        "colab_type": "code",
        "outputId": "f2655736-2770-4903-d17f-f65db2e6650e",
        "colab": {
          "base_uri": "https://localhost:8080/",
          "height": 128
        }
      },
      "source": [
        "learn.fit_one_cycle(2, slice(min_grad_lr//20, min_grad_lr), callbacks=callbacks_list)"
      ],
      "execution_count": 30,
      "outputs": [
        {
          "output_type": "display_data",
          "data": {
            "text/html": [
              "<table border=\"1\" class=\"dataframe\">\n",
              "  <thead>\n",
              "    <tr style=\"text-align: left;\">\n",
              "      <th>epoch</th>\n",
              "      <th>train_loss</th>\n",
              "      <th>valid_loss</th>\n",
              "      <th>error_rate</th>\n",
              "      <th>time</th>\n",
              "    </tr>\n",
              "  </thead>\n",
              "  <tbody>\n",
              "    <tr>\n",
              "      <td>0</td>\n",
              "      <td>0.298768</td>\n",
              "      <td>0.044111</td>\n",
              "      <td>0.005002</td>\n",
              "      <td>02:14</td>\n",
              "    </tr>\n",
              "    <tr>\n",
              "      <td>1</td>\n",
              "      <td>0.297110</td>\n",
              "      <td>0.044100</td>\n",
              "      <td>0.005002</td>\n",
              "      <td>02:13</td>\n",
              "    </tr>\n",
              "  </tbody>\n",
              "</table>"
            ],
            "text/plain": [
              "<IPython.core.display.HTML object>"
            ]
          },
          "metadata": {
            "tags": []
          }
        },
        {
          "output_type": "stream",
          "text": [
            "Better model found at epoch 0 with error_rate value: 0.0050020841881632805.\n"
          ],
          "name": "stdout"
        }
      ]
    },
    {
      "cell_type": "markdown",
      "metadata": {
        "id": "aY2h6tue_v__",
        "colab_type": "text"
      },
      "source": [
        "### Train with bigger data"
      ]
    },
    {
      "cell_type": "code",
      "metadata": {
        "id": "X9p0tR7PwAoT",
        "colab_type": "code",
        "colab": {}
      },
      "source": [
        "learn.data = return_train_data(size=128, bs=128)"
      ],
      "execution_count": 0,
      "outputs": []
    },
    {
      "cell_type": "code",
      "metadata": {
        "id": "BIlLU4StwXNK",
        "colab_type": "code",
        "outputId": "ff07e724-738b-486e-febd-d2991b47e618",
        "colab": {
          "base_uri": "https://localhost:8080/",
          "height": 330
        }
      },
      "source": [
        "learn.load('best');\n",
        "learn.to_fp16()\n",
        "learn.freeze()\n",
        "learn.lr_find()\n",
        "learn.recorder.plot(suggestion=True)\n",
        "min_grad_lr = learn.recorder.min_grad_lr"
      ],
      "execution_count": 32,
      "outputs": [
        {
          "output_type": "display_data",
          "data": {
            "text/html": [
              ""
            ],
            "text/plain": [
              "<IPython.core.display.HTML object>"
            ]
          },
          "metadata": {
            "tags": []
          }
        },
        {
          "output_type": "stream",
          "text": [
            "LR Finder is complete, type {learner_name}.recorder.plot() to see the graph.\n",
            "Min numerical gradient: 6.31E-07\n",
            "Min loss divided by 10: 2.75E-03\n"
          ],
          "name": "stdout"
        },
        {
          "output_type": "display_data",
          "data": {
            "image/png": "[encoded data removed]",
            "text/plain": [
              "<Figure size 432x288 with 1 Axes>"
            ]
          },
          "metadata": {
            "tags": []
          }
        }
      ]
    },
    {
      "cell_type": "code",
      "metadata": {
        "id": "D82SwMqpvZwm",
        "colab_type": "code",
        "colab": {}
      },
      "source": [
        "learn.unfreeze()\n",
        "learn.freeze_to(-3)"
      ],
      "execution_count": 0,
      "outputs": []
    },
    {
      "cell_type": "code",
      "metadata": {
        "id": "4XViQftXwkHi",
        "colab_type": "code",
        "outputId": "9c34e223-e995-436d-a818-1b39b3d528c9",
        "colab": {
          "base_uri": "https://localhost:8080/",
          "height": 158
        }
      },
      "source": [
        "learn.fit_one_cycle(3, slice(min_grad_lr//4, min_grad_lr), callbacks=callbacks_list, wd=1e-5)"
      ],
      "execution_count": 34,
      "outputs": [
        {
          "output_type": "display_data",
          "data": {
            "text/html": [
              "<table border=\"1\" class=\"dataframe\">\n",
              "  <thead>\n",
              "    <tr style=\"text-align: left;\">\n",
              "      <th>epoch</th>\n",
              "      <th>train_loss</th>\n",
              "      <th>valid_loss</th>\n",
              "      <th>error_rate</th>\n",
              "      <th>time</th>\n",
              "    </tr>\n",
              "  </thead>\n",
              "  <tbody>\n",
              "    <tr>\n",
              "      <td>0</td>\n",
              "      <td>0.299281</td>\n",
              "      <td>0.046263</td>\n",
              "      <td>0.002501</td>\n",
              "      <td>02:13</td>\n",
              "    </tr>\n",
              "    <tr>\n",
              "      <td>1</td>\n",
              "      <td>0.299196</td>\n",
              "      <td>0.044595</td>\n",
              "      <td>0.002918</td>\n",
              "      <td>02:12</td>\n",
              "    </tr>\n",
              "    <tr>\n",
              "      <td>2</td>\n",
              "      <td>0.296515</td>\n",
              "      <td>0.044101</td>\n",
              "      <td>0.002918</td>\n",
              "      <td>02:11</td>\n",
              "    </tr>\n",
              "  </tbody>\n",
              "</table>"
            ],
            "text/plain": [
              "<IPython.core.display.HTML object>"
            ]
          },
          "metadata": {
            "tags": []
          }
        },
        {
          "output_type": "stream",
          "text": [
            "Better model found at epoch 0 with error_rate value: 0.0025010420940816402.\n"
          ],
          "name": "stdout"
        }
      ]
    },
    {
      "cell_type": "code",
      "metadata": {
        "id": "WY6Bj2nXImnK",
        "colab_type": "code",
        "colab": {}
      },
      "source": [
        "learn.load(\"best\");\n",
        "learn.to_fp32()\n",
        "learn.export(\"lunar_128.pkl\")\n",
        "# learn.save(\"lunar_224\")"
      ],
      "execution_count": 0,
      "outputs": []
    },
    {
      "cell_type": "markdown",
      "metadata": {
        "colab_type": "text",
        "id": "e4SciEsyu1Lx"
      },
      "source": [
        "### Train with bigger data"
      ]
    },
    {
      "cell_type": "code",
      "metadata": {
        "colab_type": "code",
        "id": "iHjC73Xwu1L1",
        "colab": {}
      },
      "source": [
        "learn.data = return_train_data(size=224, bs=64)"
      ],
      "execution_count": 0,
      "outputs": []
    },
    {
      "cell_type": "code",
      "metadata": {
        "colab_type": "code",
        "outputId": "859ec195-49f1-487a-d4e5-18e4ba320de0",
        "id": "iT2gUS5Zu1L6",
        "colab": {
          "base_uri": "https://localhost:8080/",
          "height": 330
        }
      },
      "source": [
        "learn.load('best');\n",
        "learn.to_fp16()\n",
        "learn.freeze()\n",
        "learn.lr_find()\n",
        "learn.recorder.plot(suggestion=True)\n",
        "min_grad_lr = learn.recorder.min_grad_lr"
      ],
      "execution_count": 37,
      "outputs": [
        {
          "output_type": "display_data",
          "data": {
            "text/html": [
              ""
            ],
            "text/plain": [
              "<IPython.core.display.HTML object>"
            ]
          },
          "metadata": {
            "tags": []
          }
        },
        {
          "output_type": "stream",
          "text": [
            "LR Finder is complete, type {learner_name}.recorder.plot() to see the graph.\n",
            "Min numerical gradient: 2.29E-06\n",
            "Min loss divided by 10: 4.79E-03\n"
          ],
          "name": "stdout"
        },
        {
          "output_type": "display_data",
          "data": {
            "image/png": "[encoded data removed]",
            "text/plain": [
              "<Figure size 432x288 with 1 Axes>"
            ]
          },
          "metadata": {
            "tags": []
          }
        }
      ]
    },
    {
      "cell_type": "code",
      "metadata": {
        "colab_type": "code",
        "outputId": "d34f8fcb-a943-443c-e13a-2a0741aca6db",
        "id": "fr1hn264u1L-",
        "colab": {
          "base_uri": "https://localhost:8080/",
          "height": 193
        }
      },
      "source": [
        "learn.fit_one_cycle(3, slice(min_grad_lr//30, min_grad_lr), callbacks=callbacks_list, wd=1e-10)"
      ],
      "execution_count": 38,
      "outputs": [
        {
          "output_type": "display_data",
          "data": {
            "text/html": [
              "<table border=\"1\" class=\"dataframe\">\n",
              "  <thead>\n",
              "    <tr style=\"text-align: left;\">\n",
              "      <th>epoch</th>\n",
              "      <th>train_loss</th>\n",
              "      <th>valid_loss</th>\n",
              "      <th>error_rate</th>\n",
              "      <th>time</th>\n",
              "    </tr>\n",
              "  </thead>\n",
              "  <tbody>\n",
              "    <tr>\n",
              "      <td>0</td>\n",
              "      <td>0.353176</td>\n",
              "      <td>0.061242</td>\n",
              "      <td>0.013756</td>\n",
              "      <td>04:06</td>\n",
              "    </tr>\n",
              "    <tr>\n",
              "      <td>1</td>\n",
              "      <td>0.359197</td>\n",
              "      <td>0.054349</td>\n",
              "      <td>0.012922</td>\n",
              "      <td>04:06</td>\n",
              "    </tr>\n",
              "    <tr>\n",
              "      <td>2</td>\n",
              "      <td>0.359264</td>\n",
              "      <td>0.058256</td>\n",
              "      <td>0.012505</td>\n",
              "      <td>04:06</td>\n",
              "    </tr>\n",
              "  </tbody>\n",
              "</table>"
            ],
            "text/plain": [
              "<IPython.core.display.HTML object>"
            ]
          },
          "metadata": {
            "tags": []
          }
        },
        {
          "output_type": "stream",
          "text": [
            "Better model found at epoch 0 with error_rate value: 0.013755731284618378.\n",
            "Better model found at epoch 1 with error_rate value: 0.012922050431370735.\n",
            "Better model found at epoch 2 with error_rate value: 0.012505210936069489.\n"
          ],
          "name": "stdout"
        }
      ]
    },
    {
      "cell_type": "code",
      "metadata": {
        "colab_type": "code",
        "id": "TQ_IGSkPu1MB",
        "colab": {}
      },
      "source": [
        "learn.load(\"best\");\n",
        "learn.to_fp32()\n",
        "learn.export(\"lunar_224.pkl\")\n",
        "# learn.save(\"lunar_224\")"
      ],
      "execution_count": 0,
      "outputs": []
    },
    {
      "cell_type": "code",
      "metadata": {
        "id": "2STV38k14Jnd",
        "colab_type": "code",
        "colab": {}
      },
      "source": [
        ""
      ],
      "execution_count": 0,
      "outputs": []
    },
    {
      "cell_type": "markdown",
      "metadata": {
        "colab_type": "text",
        "id": "_mQpb9tz4N6w"
      },
      "source": [
        "### Train with bigger data"
      ]
    },
    {
      "cell_type": "code",
      "metadata": {
        "colab_type": "code",
        "id": "YGJKunSt4N61",
        "colab": {}
      },
      "source": [
        "learn.data = return_train_data(size=332, bs=32)"
      ],
      "execution_count": 0,
      "outputs": []
    },
    {
      "cell_type": "code",
      "metadata": {
        "colab_type": "code",
        "outputId": "859ec195-49f1-487a-d4e5-18e4ba320de0",
        "id": "Ae5GXcFJ4N64",
        "colab": {
          "base_uri": "https://localhost:8080/",
          "height": 330
        }
      },
      "source": [
        "learn.load('best');\n",
        "learn.to_fp16()\n",
        "learn.freeze_to(-3)\n",
        "learn.lr_find()\n",
        "learn.recorder.plot(suggestion=True)\n",
        "min_grad_lr = learn.recorder.min_grad_lr"
      ],
      "execution_count": 0,
      "outputs": [
        {
          "output_type": "display_data",
          "data": {
            "text/html": [
              ""
            ],
            "text/plain": [
              "<IPython.core.display.HTML object>"
            ]
          },
          "metadata": {
            "tags": []
          }
        },
        {
          "output_type": "stream",
          "text": [
            "LR Finder is complete, type {learner_name}.recorder.plot() to see the graph.\n",
            "Min numerical gradient: 2.29E-06\n",
            "Min loss divided by 10: 4.79E-03\n"
          ],
          "name": "stdout"
        },
        {
          "output_type": "display_data",
          "data": {
            "image/png": "[encoded data removed]",
            "text/plain": [
              "<Figure size 432x288 with 1 Axes>"
            ]
          },
          "metadata": {
            "tags": []
          }
        }
      ]
    },
    {
      "cell_type": "code",
      "metadata": {
        "colab_type": "code",
        "outputId": "d34f8fcb-a943-443c-e13a-2a0741aca6db",
        "id": "-sml3PHy4N69",
        "colab": {
          "base_uri": "https://localhost:8080/"
        }
      },
      "source": [
        "learn.fit_one_cycle(10, slice(min_grad_lr//2, min_grad_lr), callbacks=callbacks_list, wd=1e-2)"
      ],
      "execution_count": 0,
      "outputs": [
        {
          "output_type": "display_data",
          "data": {
            "text/html": [
              "\n",
              "    <div>\n",
              "        <style>\n",
              "            /* Turns off some styling */\n",
              "            progress {\n",
              "                /* gets rid of default border in Firefox and Opera. */\n",
              "                border: none;\n",
              "                /* Needs to be in here for Safari polyfill so background images work as expected. */\n",
              "                background-size: auto;\n",
              "            }\n",
              "            .progress-bar-interrupted, .progress-bar-interrupted::-webkit-progress-bar {\n",
              "                background: #F44336;\n",
              "            }\n",
              "        </style>\n",
              "      <progress value='2' class='' max='3', style='width:300px; height:20px; vertical-align: middle;'></progress>\n",
              "      66.67% [2/3 08:13<04:06]\n",
              "    </div>\n",
              "    \n",
              "<table border=\"1\" class=\"dataframe\">\n",
              "  <thead>\n",
              "    <tr style=\"text-align: left;\">\n",
              "      <th>epoch</th>\n",
              "      <th>train_loss</th>\n",
              "      <th>valid_loss</th>\n",
              "      <th>error_rate</th>\n",
              "      <th>time</th>\n",
              "    </tr>\n",
              "  </thead>\n",
              "  <tbody>\n",
              "    <tr>\n",
              "      <td>0</td>\n",
              "      <td>0.353176</td>\n",
              "      <td>0.061242</td>\n",
              "      <td>0.013756</td>\n",
              "      <td>04:06</td>\n",
              "    </tr>\n",
              "    <tr>\n",
              "      <td>1</td>\n",
              "      <td>0.359197</td>\n",
              "      <td>0.054349</td>\n",
              "      <td>0.012922</td>\n",
              "      <td>04:06</td>\n",
              "    </tr>\n",
              "  </tbody>\n",
              "</table><p>\n",
              "\n",
              "    <div>\n",
              "        <style>\n",
              "            /* Turns off some styling */\n",
              "            progress {\n",
              "                /* gets rid of default border in Firefox and Opera. */\n",
              "                border: none;\n",
              "                /* Needs to be in here for Safari polyfill so background images work as expected. */\n",
              "                background-size: auto;\n",
              "            }\n",
              "            .progress-bar-interrupted, .progress-bar-interrupted::-webkit-progress-bar {\n",
              "                background: #F44336;\n",
              "            }\n",
              "        </style>\n",
              "      <progress value='65' class='' max='149', style='width:300px; height:20px; vertical-align: middle;'></progress>\n",
              "      43.62% [65/149 01:30<01:56 0.3477]\n",
              "    </div>\n",
              "    "
            ],
            "text/plain": [
              "<IPython.core.display.HTML object>"
            ]
          },
          "metadata": {
            "tags": []
          }
        },
        {
          "output_type": "stream",
          "text": [
            "Better model found at epoch 0 with error_rate value: 0.013755731284618378.\n",
            "Better model found at epoch 1 with error_rate value: 0.012922050431370735.\n"
          ],
          "name": "stdout"
        }
      ]
    },
    {
      "cell_type": "code",
      "metadata": {
        "colab_type": "code",
        "id": "tjDD_L564N7A",
        "colab": {}
      },
      "source": [
        "learn.load(\"best\");\n",
        "learn.to_fp32()\n",
        "learn.export(\"lunar_332.pkl\")"
      ],
      "execution_count": 0,
      "outputs": []
    },
    {
      "cell_type": "markdown",
      "metadata": {
        "id": "fM-RlD14YWdS",
        "colab_type": "text"
      },
      "source": [
        "### Predict with test data"
      ]
    },
    {
      "cell_type": "code",
      "metadata": {
        "id": "BkDseP6iPeFQ",
        "colab_type": "code",
        "colab": {}
      },
      "source": [
        "sample_df = pd.read_csv(DATA_PATH/\"test.csv\")"
      ],
      "execution_count": 0,
      "outputs": []
    },
    {
      "cell_type": "code",
      "metadata": {
        "id": "b1ZpNV8nQG9Y",
        "colab_type": "code",
        "outputId": "a01d8d61-4f5e-4e1b-c01c-40d31e119d3b",
        "colab": {
          "base_uri": "https://localhost:8080/",
          "height": 202
        }
      },
      "source": [
        "sample_df.head()"
      ],
      "execution_count": 41,
      "outputs": [
        {
          "output_type": "execute_result",
          "data": {
            "text/html": [
              "<div>\n",
              "<style scoped>\n",
              "    .dataframe tbody tr th:only-of-type {\n",
              "        vertical-align: middle;\n",
              "    }\n",
              "\n",
              "    .dataframe tbody tr th {\n",
              "        vertical-align: top;\n",
              "    }\n",
              "\n",
              "    .dataframe thead th {\n",
              "        text-align: right;\n",
              "    }\n",
              "</style>\n",
              "<table border=\"1\" class=\"dataframe\">\n",
              "  <thead>\n",
              "    <tr style=\"text-align: right;\">\n",
              "      <th></th>\n",
              "      <th>Image_File</th>\n",
              "      <th>Class</th>\n",
              "    </tr>\n",
              "  </thead>\n",
              "  <tbody>\n",
              "    <tr>\n",
              "      <th>0</th>\n",
              "      <td>lg 988 (1).png</td>\n",
              "      <td>NaN</td>\n",
              "    </tr>\n",
              "    <tr>\n",
              "      <th>1</th>\n",
              "      <td>lg 988 (10).png</td>\n",
              "      <td>NaN</td>\n",
              "    </tr>\n",
              "    <tr>\n",
              "      <th>2</th>\n",
              "      <td>lg 988 (100).png</td>\n",
              "      <td>NaN</td>\n",
              "    </tr>\n",
              "    <tr>\n",
              "      <th>3</th>\n",
              "      <td>lg 988 (101).png</td>\n",
              "      <td>NaN</td>\n",
              "    </tr>\n",
              "    <tr>\n",
              "      <th>4</th>\n",
              "      <td>lg 988 (102).png</td>\n",
              "      <td>NaN</td>\n",
              "    </tr>\n",
              "  </tbody>\n",
              "</table>\n",
              "</div>"
            ],
            "text/plain": [
              "         Image_File  Class\n",
              "0    lg 988 (1).png    NaN\n",
              "1   lg 988 (10).png    NaN\n",
              "2  lg 988 (100).png    NaN\n",
              "3  lg 988 (101).png    NaN\n",
              "4  lg 988 (102).png    NaN"
            ]
          },
          "metadata": {
            "tags": []
          },
          "execution_count": 41
        }
      ]
    },
    {
      "cell_type": "code",
      "metadata": {
        "id": "nNDK8m2pPQTZ",
        "colab_type": "code",
        "colab": {}
      },
      "source": [
        "learn.data.add_test(ImageList.from_df(sample_df, DATA_PATH,folder='Test Images'))"
      ],
      "execution_count": 0,
      "outputs": []
    },
    {
      "cell_type": "code",
      "metadata": {
        "id": "mSOeZ3H6QlrW",
        "colab_type": "code",
        "outputId": "209f0def-8956-4863-f837-c09e3a870594",
        "colab": {
          "base_uri": "https://localhost:8080/",
          "height": 57
        }
      },
      "source": [
        "preds,_ = learn.TTA(ds_type=DatasetType.Test)"
      ],
      "execution_count": 0,
      "outputs": [
        {
          "output_type": "display_data",
          "data": {
            "text/html": [
              ""
            ],
            "text/plain": [
              "<IPython.core.display.HTML object>"
            ]
          },
          "metadata": {
            "tags": []
          }
        },
        {
          "output_type": "display_data",
          "data": {
            "text/html": [
              "\n",
              "    <div>\n",
              "        <style>\n",
              "            /* Turns off some styling */\n",
              "            progress {\n",
              "                /* gets rid of default border in Firefox and Opera. */\n",
              "                border: none;\n",
              "                /* Needs to be in here for Safari polyfill so background images work as expected. */\n",
              "                background-size: auto;\n",
              "            }\n",
              "            .progress-bar-interrupted, .progress-bar-interrupted::-webkit-progress-bar {\n",
              "                background: #F44336;\n",
              "            }\n",
              "        </style>\n",
              "      <progress value='5' class='' max='8', style='width:300px; height:20px; vertical-align: middle;'></progress>\n",
              "      62.50% [5/8 09:33<05:43]\n",
              "    </div>\n",
              "    \n",
              "\n",
              "\n",
              "    <div>\n",
              "        <style>\n",
              "            /* Turns off some styling */\n",
              "            progress {\n",
              "                /* gets rid of default border in Firefox and Opera. */\n",
              "                border: none;\n",
              "                /* Needs to be in here for Safari polyfill so background images work as expected. */\n",
              "                background-size: auto;\n",
              "            }\n",
              "            .progress-bar-interrupted, .progress-bar-interrupted::-webkit-progress-bar {\n",
              "                background: #F44336;\n",
              "            }\n",
              "        </style>\n",
              "      <progress value='79' class='' max='118', style='width:300px; height:20px; vertical-align: middle;'></progress>\n",
              "      66.95% [79/118 01:50<00:54]\n",
              "    </div>\n",
              "    "
            ],
            "text/plain": [
              "<IPython.core.display.HTML object>"
            ]
          },
          "metadata": {
            "tags": []
          }
        }
      ]
    },
    {
      "cell_type": "code",
      "metadata": {
        "id": "Yup1kaiZQqAe",
        "colab_type": "code",
        "colab": {}
      },
      "source": [
        "labelled_preds = []\n",
        "\n",
        "for pred in preds:\n",
        "    labelled_preds.append(learn.data.classes[np.argmax(pred)])\n",
        "\n",
        "sample_df['Class'] = labelled_preds"
      ],
      "execution_count": 0,
      "outputs": []
    },
    {
      "cell_type": "code",
      "metadata": {
        "id": "XKc_FgRqQ1pN",
        "colab_type": "code",
        "colab": {}
      },
      "source": [
        "sample_df.to_csv('submission.csv', index=False)"
      ],
      "execution_count": 0,
      "outputs": []
    }
  ]
}